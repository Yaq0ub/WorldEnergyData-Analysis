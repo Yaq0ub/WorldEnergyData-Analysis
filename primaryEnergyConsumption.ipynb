{
 "cells": [
  {
   "cell_type": "markdown",
   "metadata": {},
   "source": [
    "### Data Cleaning"
   ]
  },
  {
   "cell_type": "code",
   "execution_count": 35,
   "metadata": {},
   "outputs": [
    {
     "name": "stdout",
     "output_type": "stream",
     "text": [
      "Index(['Country',      1965,      1966,      1967,      1968,      1969,\n",
      "            1970,      1971,      1972,      1973,      1974,      1975,\n",
      "            1976,      1977,      1978,      1979,      1980,      1981,\n",
      "            1982,      1983,      1984,      1985,      1986,      1987,\n",
      "            1988,      1989,      1990,      1991,      1992,      1993,\n",
      "            1994,      1995,      1996,      1997,      1998,      1999,\n",
      "            2000,      2001,      2002,      2003,      2004,      2005,\n",
      "            2006,      2007,      2008,      2009,      2010,      2011,\n",
      "            2012,      2013,      2014,      2015,      2016,      2017,\n",
      "            2018,      2019,      2020,      2021,      2022],\n",
      "      dtype='object')\n"
     ]
    },
    {
     "data": {
      "text/plain": [
       "Country               object\n",
       "year                  object\n",
       "energy_consumption    object\n",
       "dtype: object"
      ]
     },
     "execution_count": 35,
     "metadata": {},
     "output_type": "execute_result"
    }
   ],
   "source": [
    "import pandas as pd\n",
    "\n",
    "# Excel file path\n",
    "file_path = 'WorldEnergyData/Statistical Review of World Energy Data.xlsx'\n",
    "\n",
    "# Specify the sheet name\n",
    "sheet_name = 'Primary Energy Consumption'\n",
    "\n",
    "# Read the data into a DataFrame using pd.read_excel()\n",
    "df = pd.read_excel(file_path, sheet_name=sheet_name, header=None)\n",
    "\n",
    "# Remove rows 1, 2, 4\n",
    "df = df.drop([0, 1, 3])\n",
    "\n",
    "# Remove last three columns\n",
    "df = df.iloc[:, :-3]\n",
    "\n",
    "# Use the row with years as column names\n",
    "df.columns = df.iloc[0]\n",
    "\n",
    "# Delete the last 6 rows\n",
    "df = df.iloc[:-15]\n",
    "\n",
    "# Reset the index\n",
    "df = df.reset_index(drop=True)\n",
    "\n",
    "# Remove the rows where it has years\n",
    "df = df.drop([0])\n",
    "\n",
    "# Delete rows with all NaN values\n",
    "df = df.dropna(axis=0, how='all')\n",
    "\n",
    "# Delete rows where the country name has 'Total' in it\n",
    "df = df[~df.iloc[:, 0].str.contains('Total')]\n",
    "\n",
    "# Rename column to 'Country'\n",
    "df.rename(columns={df.columns[0]: 'Country'}, inplace=True)\n",
    "\n",
    "# Convert the years (column names) to integers starting from the second column\n",
    "df.columns = [df.columns[0]] + [int(col) for col in df.columns[1:]]\n",
    "\n",
    "# Print column names to check their format\n",
    "print(df.columns)\n",
    "\n",
    "# Convert data to numeric, ignoring errors\n",
    "df.iloc[:, 1:] = df.iloc[:, 1:].apply(pd.to_numeric, errors='coerce')\n",
    "\n",
    "\n",
    "df_melted.dtypes\n",
    "\n"
   ]
  },
  {
   "cell_type": "markdown",
   "metadata": {},
   "source": [
    "### Melt data and format for plotly visualization"
   ]
  },
  {
   "cell_type": "code",
   "execution_count": 85,
   "metadata": {},
   "outputs": [
    {
     "data": {
      "text/html": [
       "<div>\n",
       "<style scoped>\n",
       "    .dataframe tbody tr th:only-of-type {\n",
       "        vertical-align: middle;\n",
       "    }\n",
       "\n",
       "    .dataframe tbody tr th {\n",
       "        vertical-align: top;\n",
       "    }\n",
       "\n",
       "    .dataframe thead th {\n",
       "        text-align: right;\n",
       "    }\n",
       "</style>\n",
       "<table border=\"1\" class=\"dataframe\">\n",
       "  <thead>\n",
       "    <tr style=\"text-align: right;\">\n",
       "      <th></th>\n",
       "      <th>Country</th>\n",
       "      <th>year</th>\n",
       "      <th>energy_consumption</th>\n",
       "      <th>iso_alpha</th>\n",
       "    </tr>\n",
       "  </thead>\n",
       "  <tbody>\n",
       "    <tr>\n",
       "      <th>0</th>\n",
       "      <td>Afghanistan</td>\n",
       "      <td>1965</td>\n",
       "      <td>5000530.28035</td>\n",
       "      <td>AF</td>\n",
       "    </tr>\n",
       "    <tr>\n",
       "      <th>1</th>\n",
       "      <td>Åland Islands</td>\n",
       "      <td>1965</td>\n",
       "      <td>1055970.769487</td>\n",
       "      <td>AX</td>\n",
       "    </tr>\n",
       "    <tr>\n",
       "      <th>2</th>\n",
       "      <td>Albania</td>\n",
       "      <td>1965</td>\n",
       "      <td>51982923.795742</td>\n",
       "      <td>AL</td>\n",
       "    </tr>\n",
       "    <tr>\n",
       "      <th>3</th>\n",
       "      <td>Algeria</td>\n",
       "      <td>1965</td>\n",
       "      <td>1182699.451535</td>\n",
       "      <td>DZ</td>\n",
       "    </tr>\n",
       "    <tr>\n",
       "      <th>4</th>\n",
       "      <td>American Samoa</td>\n",
       "      <td>1965</td>\n",
       "      <td>985930.651254</td>\n",
       "      <td>AS</td>\n",
       "    </tr>\n",
       "  </tbody>\n",
       "</table>\n",
       "</div>"
      ],
      "text/plain": [
       "          Country  year energy_consumption iso_alpha\n",
       "0     Afghanistan  1965      5000530.28035        AF\n",
       "1   Åland Islands  1965     1055970.769487        AX\n",
       "2         Albania  1965    51982923.795742        AL\n",
       "3         Algeria  1965     1182699.451535        DZ\n",
       "4  American Samoa  1965      985930.651254        AS"
      ]
     },
     "execution_count": 85,
     "metadata": {},
     "output_type": "execute_result"
    }
   ],
   "source": [
    "\n",
    "\n",
    "df_melted = df.melt(id_vars=['Country'], var_name='year', value_name='energy_consumption')\n",
    "\n",
    "# Read country codes into a new df\n",
    "df_codes = pd.read_csv('WorldEnergyData/countries_codes_and_coordinates.csv')\n",
    "\n",
    "# Replace \"North Macedonia\" wtih \"Macedonia, the former Yugoslav Republic of\" in df_codes\n",
    "df_melted['Country'] = df_melted['Country'].replace('North Macedonia', 'Macedonia, the former Yugoslav Republic of')\n",
    "\n",
    "# Replace \"China Hong Kong SAR\" with \"Hong Kong\" in df_codes\n",
    "df_melted['Country'] = df_melted['Country'].replace('China Hong Kong SAR', 'Hong Kong')\n",
    "\n",
    "# Replace \"US\" with \"United States\" in df_codes\n",
    "df_melted['Country'] = df_codes['Country'].replace('US', 'United States')\n",
    "\n",
    "# Merge the DataFrame with the country codes\n",
    "# We're using 'left' merge to keep all records from your original data\n",
    "df_merged = pd.merge(df_melted, codes_df[['Country', 'Alpha-2 code']], on='Country', how='left')\n",
    "\n",
    "# Set the option to display all rows and columns (use with caution for very large DataFrames)\n",
    "pd.set_option('display.max_rows', None)\n",
    "pd.set_option('display.max_columns', None)\n",
    "\n",
    "# Delete rows where there are NaN values\n",
    "df_merged = df_merged.dropna()\n",
    "\n",
    "# rename Alpha-2 code column name\n",
    "df_merged = df_merged.rename(columns={'Alpha-2 code': 'iso_alpha'})\n",
    "\n",
    "# First, ensure that iso_alpha values are correctly formatted by removing quotes\n",
    "df_merged['iso_alpha'] = df_merged['iso_alpha'].str.replace('\"', '')\n",
    "\n",
    "# Convert energy from exajoules to gigajoules\n",
    "df_merged['energy_consumption'] = df_merged['energy_consumption'] * 1000000\n",
    "df_merged.head()\n",
    "\n"
   ]
  },
  {
   "cell_type": "markdown",
   "metadata": {},
   "source": [
    "### Map Visualization"
   ]
  },
  {
   "cell_type": "code",
   "execution_count": 88,
   "metadata": {},
   "outputs": [
    {
     "data": {
      "application/vnd.plotly.v1+json": {
       "config": {
        "plotlyServerURL": "https://plot.ly"
       },
       "data": [
        {
         "colorscale": [
          [
           0,
           "#636efa"
          ],
          [
           1,
           "#636efa"
          ]
         ],
         "geo": "geo",
         "hovertemplate": "<b>%{hovertext}</b><br><br>Country=Afghanistan<br>year=1965<br>iso_alpha=%{location}<extra></extra>",
         "hovertext": [
          5000530.280350423
         ],
         "locations": [
          " AF"
         ],
         "name": "Afghanistan",
         "showlegend": true,
         "showscale": false,
         "type": "choropleth",
         "z": [
          1
         ]
        },
        {
         "colorscale": [
          [
           0,
           "#EF553B"
          ],
          [
           1,
           "#EF553B"
          ]
         ],
         "geo": "geo",
         "hovertemplate": "<b>%{hovertext}</b><br><br>Country=Åland Islands<br>year=1965<br>iso_alpha=%{location}<extra></extra>",
         "hovertext": [
          1055970.7694871202
         ],
         "locations": [
          " AX"
         ],
         "name": "Åland Islands",
         "showlegend": true,
         "showscale": false,
         "type": "choropleth",
         "z": [
          1
         ]
        },
        {
         "colorscale": [
          [
           0,
           "#00cc96"
          ],
          [
           1,
           "#00cc96"
          ]
         ],
         "geo": "geo",
         "hovertemplate": "<b>%{hovertext}</b><br><br>Country=Albania<br>year=1965<br>iso_alpha=%{location}<extra></extra>",
         "hovertext": [
          51982923.795742065
         ],
         "locations": [
          " AL"
         ],
         "name": "Albania",
         "showlegend": true,
         "showscale": false,
         "type": "choropleth",
         "z": [
          1
         ]
        },
        {
         "colorscale": [
          [
           0,
           "#ab63fa"
          ],
          [
           1,
           "#ab63fa"
          ]
         ],
         "geo": "geo",
         "hovertemplate": "<b>%{hovertext}</b><br><br>Country=Algeria<br>year=1965<br>iso_alpha=%{location}<extra></extra>",
         "hovertext": [
          1182699.4515349509
         ],
         "locations": [
          " DZ"
         ],
         "name": "Algeria",
         "showlegend": true,
         "showscale": false,
         "type": "choropleth",
         "z": [
          1
         ]
        },
        {
         "colorscale": [
          [
           0,
           "#FFA15A"
          ],
          [
           1,
           "#FFA15A"
          ]
         ],
         "geo": "geo",
         "hovertemplate": "<b>%{hovertext}</b><br><br>Country=American Samoa<br>year=1965<br>iso_alpha=%{location}<extra></extra>",
         "hovertext": [
          985930.6512542802
         ],
         "locations": [
          " AS"
         ],
         "name": "American Samoa",
         "showlegend": true,
         "showscale": false,
         "type": "choropleth",
         "z": [
          1
         ]
        },
        {
         "colorscale": [
          [
           0,
           "#19d3f3"
          ],
          [
           1,
           "#19d3f3"
          ]
         ],
         "geo": "geo",
         "hovertemplate": "<b>%{hovertext}</b><br><br>Country=Andorra<br>year=1965<br>iso_alpha=%{location}<extra></extra>",
         "hovertext": [
          260758.1951330471
         ],
         "locations": [
          " AD"
         ],
         "name": "Andorra",
         "showlegend": true,
         "showscale": false,
         "type": "choropleth",
         "z": [
          1
         ]
        },
        {
         "colorscale": [
          [
           0,
           "#FF6692"
          ],
          [
           1,
           "#FF6692"
          ]
         ],
         "geo": "geo",
         "hovertemplate": "<b>%{hovertext}</b><br><br>Country=Angola<br>year=1965<br>iso_alpha=%{location}<extra></extra>",
         "hovertext": [
          351624.143689394
         ],
         "locations": [
          " AO"
         ],
         "name": "Angola",
         "showlegend": true,
         "showscale": false,
         "type": "choropleth",
         "z": [
          1
         ]
        },
        {
         "colorscale": [
          [
           0,
           "#B6E880"
          ],
          [
           1,
           "#B6E880"
          ]
         ],
         "geo": "geo",
         "hovertemplate": "<b>%{hovertext}</b><br><br>Country=Anguilla<br>year=1965<br>iso_alpha=%{location}<extra></extra>",
         "hovertext": [
          31164.94091227651
         ],
         "locations": [
          " AI"
         ],
         "name": "Anguilla",
         "showlegend": true,
         "showscale": false,
         "type": "choropleth",
         "z": [
          1
         ]
        },
        {
         "colorscale": [
          [
           0,
           "#FF97FF"
          ],
          [
           1,
           "#FF97FF"
          ]
         ],
         "geo": "geo",
         "hovertemplate": "<b>%{hovertext}</b><br><br>Country=Antarctica<br>year=1965<br>iso_alpha=%{location}<extra></extra>",
         "hovertext": [
          198024.00257588178
         ],
         "locations": [
          " AQ"
         ],
         "name": "Antarctica",
         "showlegend": true,
         "showscale": false,
         "type": "choropleth",
         "z": [
          1
         ]
        },
        {
         "colorscale": [
          [
           0,
           "#FECB52"
          ],
          [
           1,
           "#FECB52"
          ]
         ],
         "geo": "geo",
         "hovertemplate": "<b>%{hovertext}</b><br><br>Country=Antigua and Barbuda<br>year=1965<br>iso_alpha=%{location}<extra></extra>",
         "hovertext": [
          121052.3538898468
         ],
         "locations": [
          " AG"
         ],
         "name": "Antigua and Barbuda",
         "showlegend": true,
         "showscale": false,
         "type": "choropleth",
         "z": [
          1
         ]
        },
        {
         "colorscale": [
          [
           0,
           "#636efa"
          ],
          [
           1,
           "#636efa"
          ]
         ],
         "geo": "geo",
         "hovertemplate": "<b>%{hovertext}</b><br><br>Country=Argentina<br>year=1965<br>iso_alpha=%{location}<extra></extra>",
         "hovertext": [
          689345.1989261638
         ],
         "locations": [
          " AR"
         ],
         "name": "Argentina",
         "showlegend": true,
         "showscale": false,
         "type": "choropleth",
         "z": [
          1
         ]
        },
        {
         "colorscale": [
          [
           0,
           "#EF553B"
          ],
          [
           1,
           "#EF553B"
          ]
         ],
         "geo": "geo",
         "hovertemplate": "<b>%{hovertext}</b><br><br>Country=Armenia<br>year=1965<br>iso_alpha=%{location}<extra></extra>",
         "hovertext": [
          157963.1261965915
         ],
         "locations": [
          " AM"
         ],
         "name": "Armenia",
         "showlegend": true,
         "showscale": false,
         "type": "choropleth",
         "z": [
          1
         ]
        },
        {
         "colorscale": [
          [
           0,
           "#00cc96"
          ],
          [
           1,
           "#00cc96"
          ]
         ],
         "geo": "geo",
         "hovertemplate": "<b>%{hovertext}</b><br><br>Country=Aruba<br>year=1965<br>iso_alpha=%{location}<extra></extra>",
         "hovertext": [
          789579.0951282877
         ],
         "locations": [
          " AW"
         ],
         "name": "Aruba",
         "showlegend": true,
         "showscale": false,
         "type": "choropleth",
         "z": [
          1
         ]
        },
        {
         "colorscale": [
          [
           0,
           "#ab63fa"
          ],
          [
           1,
           "#ab63fa"
          ]
         ],
         "geo": "geo",
         "hovertemplate": "<b>%{hovertext}</b><br><br>Country=Australia<br>year=1965<br>iso_alpha=%{location}<extra></extra>",
         "hovertext": [
          148089.4869713385
         ],
         "locations": [
          " AU"
         ],
         "name": "Australia",
         "showlegend": true,
         "showscale": false,
         "type": "choropleth",
         "z": [
          1
         ]
        },
        {
         "colorscale": [
          [
           0,
           "#FFA15A"
          ],
          [
           1,
           "#FFA15A"
          ]
         ],
         "geo": "geo",
         "hovertemplate": "<b>%{hovertext}</b><br><br>Country=Austria<br>year=1965<br>iso_alpha=%{location}<extra></extra>",
         "hovertext": [
          682193.8200495933
         ],
         "locations": [
          " AT"
         ],
         "name": "Austria",
         "showlegend": true,
         "showscale": false,
         "type": "choropleth",
         "z": [
          1
         ]
        },
        {
         "colorscale": [
          [
           0,
           "#19d3f3"
          ],
          [
           1,
           "#19d3f3"
          ]
         ],
         "geo": "geo",
         "hovertemplate": "<b>%{hovertext}</b><br><br>Country=Azerbaijan<br>year=1965<br>iso_alpha=%{location}<extra></extra>",
         "hovertext": [
          1486588.339429632
         ],
         "locations": [
          " AZ"
         ],
         "name": "Azerbaijan",
         "showlegend": true,
         "showscale": false,
         "type": "choropleth",
         "z": [
          1
         ]
        },
        {
         "colorscale": [
          [
           0,
           "#FF6692"
          ],
          [
           1,
           "#FF6692"
          ]
         ],
         "geo": "geo",
         "hovertemplate": "<b>%{hovertext}</b><br><br>Country=Bahamas<br>year=1965<br>iso_alpha=%{location}<extra></extra>",
         "hovertext": [
          431732.34437078
         ],
         "locations": [
          " BS"
         ],
         "name": "Bahamas",
         "showlegend": true,
         "showscale": false,
         "type": "choropleth",
         "z": [
          1
         ]
        },
        {
         "colorscale": [
          [
           0,
           "#B6E880"
          ],
          [
           1,
           "#B6E880"
          ]
         ],
         "geo": "geo",
         "hovertemplate": "<b>%{hovertext}</b><br><br>Country=Bahrain<br>year=1965<br>iso_alpha=%{location}<extra></extra>",
         "hovertext": [
          0
         ],
         "locations": [
          " BH"
         ],
         "name": "Bahrain",
         "showlegend": true,
         "showscale": false,
         "type": "choropleth",
         "z": [
          1
         ]
        },
        {
         "colorscale": [
          [
           0,
           "#FF97FF"
          ],
          [
           1,
           "#FF97FF"
          ]
         ],
         "geo": "geo",
         "hovertemplate": "<b>%{hovertext}</b><br><br>Country=Bangladesh<br>year=1965<br>iso_alpha=%{location}<extra></extra>",
         "hovertext": [
          16848.90128672123
         ],
         "locations": [
          " BD"
         ],
         "name": "Bangladesh",
         "showlegend": true,
         "showscale": false,
         "type": "choropleth",
         "z": [
          1
         ]
        },
        {
         "colorscale": [
          [
           0,
           "#FECB52"
          ],
          [
           1,
           "#FECB52"
          ]
         ],
         "geo": "geo",
         "hovertemplate": "<b>%{hovertext}</b><br><br>Country=Barbados<br>year=1965<br>iso_alpha=%{location}<extra></extra>",
         "hovertext": [
          1687601.368376183
         ],
         "locations": [
          " BB"
         ],
         "name": "Barbados",
         "showlegend": true,
         "showscale": false,
         "type": "choropleth",
         "z": [
          1
         ]
        },
        {
         "colorscale": [
          [
           0,
           "#636efa"
          ],
          [
           1,
           "#636efa"
          ]
         ],
         "geo": "geo",
         "hovertemplate": "<b>%{hovertext}</b><br><br>Country=Belarus<br>year=1965<br>iso_alpha=%{location}<extra></extra>",
         "hovertext": [
          598349.7890410945
         ],
         "locations": [
          " BY"
         ],
         "name": "Belarus",
         "showlegend": true,
         "showscale": false,
         "type": "choropleth",
         "z": [
          1
         ]
        },
        {
         "colorscale": [
          [
           0,
           "#EF553B"
          ],
          [
           1,
           "#EF553B"
          ]
         ],
         "geo": "geo",
         "hovertemplate": "<b>%{hovertext}</b><br><br>Country=Belgium<br>year=1965<br>iso_alpha=%{location}<extra></extra>",
         "hovertext": [
          0
         ],
         "locations": [
          " BE"
         ],
         "name": "Belgium",
         "showlegend": true,
         "showscale": false,
         "type": "choropleth",
         "z": [
          1
         ]
        },
        {
         "colorscale": [
          [
           0,
           "#00cc96"
          ],
          [
           1,
           "#00cc96"
          ]
         ],
         "geo": "geo",
         "hovertemplate": "<b>%{hovertext}</b><br><br>Country=Belize<br>year=1965<br>iso_alpha=%{location}<extra></extra>",
         "hovertext": [
          415452.9869556427
         ],
         "locations": [
          " BZ"
         ],
         "name": "Belize",
         "showlegend": true,
         "showscale": false,
         "type": "choropleth",
         "z": [
          1
         ]
        },
        {
         "colorscale": [
          [
           0,
           "#ab63fa"
          ],
          [
           1,
           "#ab63fa"
          ]
         ],
         "geo": "geo",
         "hovertemplate": "<b>%{hovertext}</b><br><br>Country=Benin<br>year=1965<br>iso_alpha=%{location}<extra></extra>",
         "hovertext": [
          4714761.543014103
         ],
         "locations": [
          " BJ"
         ],
         "name": "Benin",
         "showlegend": true,
         "showscale": false,
         "type": "choropleth",
         "z": [
          1
         ]
        },
        {
         "colorscale": [
          [
           0,
           "#FFA15A"
          ],
          [
           1,
           "#FFA15A"
          ]
         ],
         "geo": "geo",
         "hovertemplate": "<b>%{hovertext}</b><br><br>Country=Bermuda<br>year=1965<br>iso_alpha=%{location}<extra></extra>",
         "hovertext": [
          10689455.86797409
         ],
         "locations": [
          " BM"
         ],
         "name": "Bermuda",
         "showlegend": true,
         "showscale": false,
         "type": "choropleth",
         "z": [
          1
         ]
        },
        {
         "colorscale": [
          [
           0,
           "#19d3f3"
          ],
          [
           1,
           "#19d3f3"
          ]
         ],
         "geo": "geo",
         "hovertemplate": "<b>%{hovertext}</b><br><br>Country=Bhutan<br>year=1965<br>iso_alpha=%{location}<extra></extra>",
         "hovertext": [
          284926.2673407793
         ],
         "locations": [
          " BT"
         ],
         "name": "Bhutan",
         "showlegend": true,
         "showscale": false,
         "type": "choropleth",
         "z": [
          1
         ]
        },
        {
         "colorscale": [
          [
           0,
           "#FF6692"
          ],
          [
           1,
           "#FF6692"
          ]
         ],
         "geo": "geo",
         "hovertemplate": "<b>%{hovertext}</b><br><br>Country=Bolivia, Plurinational State of<br>year=1965<br>iso_alpha=%{location}<extra></extra>",
         "hovertext": [
          665911.4875681534
         ],
         "locations": [
          " BO"
         ],
         "name": "Bolivia, Plurinational State of",
         "showlegend": true,
         "showscale": false,
         "type": "choropleth",
         "z": [
          1
         ]
        },
        {
         "colorscale": [
          [
           0,
           "#B6E880"
          ],
          [
           1,
           "#B6E880"
          ]
         ],
         "geo": "geo",
         "hovertemplate": "<b>%{hovertext}</b><br><br>Country=Bolivia<br>year=1965<br>iso_alpha=%{location}<extra></extra>",
         "hovertext": [
          27298.90710907057
         ],
         "locations": [
          " BO"
         ],
         "name": "Bolivia",
         "showlegend": true,
         "showscale": false,
         "type": "choropleth",
         "z": [
          1
         ]
        },
        {
         "colorscale": [
          [
           0,
           "#FF97FF"
          ],
          [
           1,
           "#FF97FF"
          ]
         ],
         "geo": "geo",
         "hovertemplate": "<b>%{hovertext}</b><br><br>Country=Bonaire, Sint Eustatius and Saba<br>year=1965<br>iso_alpha=%{location}<extra></extra>",
         "hovertext": [
          243587.2228816152
         ],
         "locations": [
          " BQ"
         ],
         "name": "Bonaire, Sint Eustatius and Saba",
         "showlegend": true,
         "showscale": false,
         "type": "choropleth",
         "z": [
          1
         ]
        },
        {
         "colorscale": [
          [
           0,
           "#FECB52"
          ],
          [
           1,
           "#FECB52"
          ]
         ],
         "geo": "geo",
         "hovertemplate": "<b>%{hovertext}</b><br><br>Country=Bosnia and Herzegovina<br>year=1965<br>iso_alpha=%{location}<extra></extra>",
         "hovertext": [
          3342464.124653769
         ],
         "locations": [
          " BA"
         ],
         "name": "Bosnia and Herzegovina",
         "showlegend": true,
         "showscale": false,
         "type": "choropleth",
         "z": [
          1
         ]
        },
        {
         "colorscale": [
          [
           0,
           "#636efa"
          ],
          [
           1,
           "#636efa"
          ]
         ],
         "geo": "geo",
         "hovertemplate": "<b>%{hovertext}</b><br><br>Country=Botswana<br>year=1965<br>iso_alpha=%{location}<extra></extra>",
         "hovertext": [
          0
         ],
         "locations": [
          " BW"
         ],
         "name": "Botswana",
         "showlegend": true,
         "showscale": false,
         "type": "choropleth",
         "z": [
          1
         ]
        },
        {
         "colorscale": [
          [
           0,
           "#EF553B"
          ],
          [
           1,
           "#EF553B"
          ]
         ],
         "geo": "geo",
         "hovertemplate": "<b>%{hovertext}</b><br><br>Country=Bouvet Island<br>year=1965<br>iso_alpha=%{location}<extra></extra>",
         "hovertext": [
          0
         ],
         "locations": [
          " BV"
         ],
         "name": "Bouvet Island",
         "showlegend": true,
         "showscale": false,
         "type": "choropleth",
         "z": [
          1
         ]
        },
        {
         "colorscale": [
          [
           0,
           "#00cc96"
          ],
          [
           1,
           "#00cc96"
          ]
         ],
         "geo": "geo",
         "hovertemplate": "<b>%{hovertext}</b><br><br>Country=Brazil<br>year=1965<br>iso_alpha=%{location}<extra></extra>",
         "hovertext": [
          150494.6039640345
         ],
         "locations": [
          " BR"
         ],
         "name": "Brazil",
         "showlegend": true,
         "showscale": false,
         "type": "choropleth",
         "z": [
          1
         ]
        },
        {
         "colorscale": [
          [
           0,
           "#ab63fa"
          ],
          [
           1,
           "#ab63fa"
          ]
         ],
         "geo": "geo",
         "hovertemplate": "<b>%{hovertext}</b><br><br>Country=British Indian Ocean Territory<br>year=1965<br>iso_alpha=%{location}<extra></extra>",
         "hovertext": [
          1490256.349086762
         ],
         "locations": [
          " IO"
         ],
         "name": "British Indian Ocean Territory",
         "showlegend": true,
         "showscale": false,
         "type": "choropleth",
         "z": [
          1
         ]
        },
        {
         "colorscale": [
          [
           0,
           "#FFA15A"
          ],
          [
           1,
           "#FFA15A"
          ]
         ],
         "geo": "geo",
         "hovertemplate": "<b>%{hovertext}</b><br><br>Country=Brunei Darussalam<br>year=1965<br>iso_alpha=%{location}<extra></extra>",
         "hovertext": [
          0
         ],
         "locations": [
          " BN"
         ],
         "name": "Brunei Darussalam",
         "showlegend": true,
         "showscale": false,
         "type": "choropleth",
         "z": [
          1
         ]
        },
        {
         "colorscale": [
          [
           0,
           "#19d3f3"
          ],
          [
           1,
           "#19d3f3"
          ]
         ],
         "geo": "geo",
         "hovertemplate": "<b>%{hovertext}</b><br><br>Country=Brunei<br>year=1965<br>iso_alpha=%{location}<extra></extra>",
         "hovertext": [
          775522.7200686932
         ],
         "locations": [
          " BN"
         ],
         "name": "Brunei",
         "showlegend": true,
         "showscale": false,
         "type": "choropleth",
         "z": [
          1
         ]
        },
        {
         "colorscale": [
          [
           0,
           "#FF6692"
          ],
          [
           1,
           "#FF6692"
          ]
         ],
         "geo": "geo",
         "hovertemplate": "<b>%{hovertext}</b><br><br>Country=Bulgaria<br>year=1965<br>iso_alpha=%{location}<extra></extra>",
         "hovertext": [
          2793791.6632739957
         ],
         "locations": [
          " BG"
         ],
         "name": "Bulgaria",
         "showlegend": true,
         "showscale": false,
         "type": "choropleth",
         "z": [
          1
         ]
        },
        {
         "colorscale": [
          [
           0,
           "#B6E880"
          ],
          [
           1,
           "#B6E880"
          ]
         ],
         "geo": "geo",
         "hovertemplate": "<b>%{hovertext}</b><br><br>Country=Burkina Faso<br>year=1965<br>iso_alpha=%{location}<extra></extra>",
         "hovertext": [
          179385.4497373104
         ],
         "locations": [
          " BF"
         ],
         "name": "Burkina Faso",
         "showlegend": true,
         "showscale": false,
         "type": "choropleth",
         "z": [
          1
         ]
        },
        {
         "colorscale": [
          [
           0,
           "#FF97FF"
          ],
          [
           1,
           "#FF97FF"
          ]
         ],
         "geo": "geo",
         "hovertemplate": "<b>%{hovertext}</b><br><br>Country=Burma<br>year=1965<br>iso_alpha=%{location}<extra></extra>",
         "hovertext": [
          1003395.2654497289
         ],
         "locations": [
          " MM"
         ],
         "name": "Burma",
         "showlegend": true,
         "showscale": false,
         "type": "choropleth",
         "z": [
          1
         ]
        },
        {
         "colorscale": [
          [
           0,
           "#FECB52"
          ],
          [
           1,
           "#FECB52"
          ]
         ],
         "geo": "geo",
         "hovertemplate": "<b>%{hovertext}</b><br><br>Country=Burundi<br>year=1965<br>iso_alpha=%{location}<extra></extra>",
         "hovertext": [
          384610.3858965206
         ],
         "locations": [
          " BI"
         ],
         "name": "Burundi",
         "showlegend": true,
         "showscale": false,
         "type": "choropleth",
         "z": [
          1
         ]
        },
        {
         "colorscale": [
          [
           0,
           "#636efa"
          ],
          [
           1,
           "#636efa"
          ]
         ],
         "geo": "geo",
         "hovertemplate": "<b>%{hovertext}</b><br><br>Country=Cambodia<br>year=1965<br>iso_alpha=%{location}<extra></extra>",
         "hovertext": [
          0
         ],
         "locations": [
          " KH"
         ],
         "name": "Cambodia",
         "showlegend": true,
         "showscale": false,
         "type": "choropleth",
         "z": [
          1
         ]
        },
        {
         "colorscale": [
          [
           0,
           "#EF553B"
          ],
          [
           1,
           "#EF553B"
          ]
         ],
         "geo": "geo",
         "hovertemplate": "<b>%{hovertext}</b><br><br>Country=Cameroon<br>year=1965<br>iso_alpha=%{location}<extra></extra>",
         "hovertext": [
          1214663.818478584
         ],
         "locations": [
          " CM"
         ],
         "name": "Cameroon",
         "showlegend": true,
         "showscale": false,
         "type": "choropleth",
         "z": [
          1
         ]
        },
        {
         "colorscale": [
          [
           0,
           "#00cc96"
          ],
          [
           1,
           "#00cc96"
          ]
         ],
         "geo": "geo",
         "hovertemplate": "<b>%{hovertext}</b><br><br>Country=Canada<br>year=1965<br>iso_alpha=%{location}<extra></extra>",
         "hovertext": [
          1414633.287073229
         ],
         "locations": [
          " CA"
         ],
         "name": "Canada",
         "showlegend": true,
         "showscale": false,
         "type": "choropleth",
         "z": [
          1
         ]
        },
        {
         "colorscale": [
          [
           0,
           "#ab63fa"
          ],
          [
           1,
           "#ab63fa"
          ]
         ],
         "geo": "geo",
         "hovertemplate": "<b>%{hovertext}</b><br><br>Country=Cape Verde<br>year=1965<br>iso_alpha=%{location}<extra></extra>",
         "hovertext": [
          656885.9107792377
         ],
         "locations": [
          " CV"
         ],
         "name": "Cape Verde",
         "showlegend": true,
         "showscale": false,
         "type": "choropleth",
         "z": [
          1
         ]
        },
        {
         "colorscale": [
          [
           0,
           "#FFA15A"
          ],
          [
           1,
           "#FFA15A"
          ]
         ],
         "geo": "geo",
         "hovertemplate": "<b>%{hovertext}</b><br><br>Country=Cayman Islands<br>year=1965<br>iso_alpha=%{location}<extra></extra>",
         "hovertext": [
          329160.0394295529
         ],
         "locations": [
          " KY"
         ],
         "name": "Cayman Islands",
         "showlegend": true,
         "showscale": false,
         "type": "choropleth",
         "z": [
          1
         ]
        },
        {
         "colorscale": [
          [
           0,
           "#19d3f3"
          ],
          [
           1,
           "#19d3f3"
          ]
         ],
         "geo": "geo",
         "hovertemplate": "<b>%{hovertext}</b><br><br>Country=Central African Republic<br>year=1965<br>iso_alpha=%{location}<extra></extra>",
         "hovertext": [
          0
         ],
         "locations": [
          " CF"
         ],
         "name": "Central African Republic",
         "showlegend": true,
         "showscale": false,
         "type": "choropleth",
         "z": [
          1
         ]
        },
        {
         "colorscale": [
          [
           0,
           "#FF6692"
          ],
          [
           1,
           "#FF6692"
          ]
         ],
         "geo": "geo",
         "hovertemplate": "<b>%{hovertext}</b><br><br>Country=Chad<br>year=1965<br>iso_alpha=%{location}<extra></extra>",
         "hovertext": [
          8338408.884933092
         ],
         "locations": [
          " TD"
         ],
         "name": "Chad",
         "showlegend": true,
         "showscale": false,
         "type": "choropleth",
         "z": [
          1
         ]
        },
        {
         "colorscale": [
          [
           0,
           "#B6E880"
          ],
          [
           1,
           "#B6E880"
          ]
         ],
         "geo": "geo",
         "hovertemplate": "<b>%{hovertext}</b><br><br>Country=Chile<br>year=1965<br>iso_alpha=%{location}<extra></extra>",
         "hovertext": [
          666263.3413992947
         ],
         "locations": [
          " CL"
         ],
         "name": "Chile",
         "showlegend": true,
         "showscale": false,
         "type": "choropleth",
         "z": [
          1
         ]
        },
        {
         "colorscale": [
          [
           0,
           "#FF97FF"
          ],
          [
           1,
           "#FF97FF"
          ]
         ],
         "geo": "geo",
         "hovertemplate": "<b>%{hovertext}</b><br><br>Country=China<br>year=1965<br>iso_alpha=%{location}<extra></extra>",
         "hovertext": [
          0
         ],
         "locations": [
          " CN"
         ],
         "name": "China",
         "showlegend": true,
         "showscale": false,
         "type": "choropleth",
         "z": [
          1
         ]
        },
        {
         "colorscale": [
          [
           0,
           "#FECB52"
          ],
          [
           1,
           "#FECB52"
          ]
         ],
         "geo": "geo",
         "hovertemplate": "<b>%{hovertext}</b><br><br>Country=Christmas Island<br>year=1965<br>iso_alpha=%{location}<extra></extra>",
         "hovertext": [
          0
         ],
         "locations": [
          " CX"
         ],
         "name": "Christmas Island",
         "showlegend": true,
         "showscale": false,
         "type": "choropleth",
         "z": [
          1
         ]
        },
        {
         "colorscale": [
          [
           0,
           "#636efa"
          ],
          [
           1,
           "#636efa"
          ]
         ],
         "geo": "geo",
         "hovertemplate": "<b>%{hovertext}</b><br><br>Country=Cocos (Keeling) Islands<br>year=1965<br>iso_alpha=%{location}<extra></extra>",
         "hovertext": [
          0
         ],
         "locations": [
          " CC"
         ],
         "name": "Cocos (Keeling) Islands",
         "showlegend": true,
         "showscale": false,
         "type": "choropleth",
         "z": [
          1
         ]
        },
        {
         "colorscale": [
          [
           0,
           "#EF553B"
          ],
          [
           1,
           "#EF553B"
          ]
         ],
         "geo": "geo",
         "hovertemplate": "<b>%{hovertext}</b><br><br>Country=Colombia<br>year=1965<br>iso_alpha=%{location}<extra></extra>",
         "hovertext": [
          0
         ],
         "locations": [
          " CO"
         ],
         "name": "Colombia",
         "showlegend": true,
         "showscale": false,
         "type": "choropleth",
         "z": [
          1
         ]
        },
        {
         "colorscale": [
          [
           0,
           "#00cc96"
          ],
          [
           1,
           "#00cc96"
          ]
         ],
         "geo": "geo",
         "hovertemplate": "<b>%{hovertext}</b><br><br>Country=Comoros<br>year=1965<br>iso_alpha=%{location}<extra></extra>",
         "hovertext": [
          0
         ],
         "locations": [
          " KM"
         ],
         "name": "Comoros",
         "showlegend": true,
         "showscale": false,
         "type": "choropleth",
         "z": [
          1
         ]
        },
        {
         "colorscale": [
          [
           0,
           "#ab63fa"
          ],
          [
           1,
           "#ab63fa"
          ]
         ],
         "geo": "geo",
         "hovertemplate": "<b>%{hovertext}</b><br><br>Country=Congo, the Democratic Republic of the<br>year=1965<br>iso_alpha=%{location}<extra></extra>",
         "hovertext": [
          24900750.40967277
         ],
         "locations": [
          " CD"
         ],
         "name": "Congo, the Democratic Republic of the",
         "showlegend": true,
         "showscale": false,
         "type": "choropleth",
         "z": [
          1
         ]
        },
        {
         "colorscale": [
          [
           0,
           "#FFA15A"
          ],
          [
           1,
           "#FFA15A"
          ]
         ],
         "geo": "geo",
         "hovertemplate": "<b>%{hovertext}</b><br><br>Country=Congo<br>year=1965<br>iso_alpha=%{location}<extra></extra>",
         "hovertext": [
          0
         ],
         "locations": [
          " CG"
         ],
         "name": "Congo",
         "showlegend": true,
         "showscale": false,
         "type": "choropleth",
         "z": [
          1
         ]
        },
        {
         "colorscale": [
          [
           0,
           "#19d3f3"
          ],
          [
           1,
           "#19d3f3"
          ]
         ],
         "geo": "geo",
         "hovertemplate": "<b>%{hovertext}</b><br><br>Country=Cook Islands<br>year=1965<br>iso_alpha=%{location}<extra></extra>",
         "hovertext": [
          0
         ],
         "locations": [
          " CK"
         ],
         "name": "Cook Islands",
         "showlegend": true,
         "showscale": false,
         "type": "choropleth",
         "z": [
          1
         ]
        },
        {
         "colorscale": [
          [
           0,
           "#FF6692"
          ],
          [
           1,
           "#FF6692"
          ]
         ],
         "geo": "geo",
         "hovertemplate": "<b>%{hovertext}</b><br><br>Country=Costa Rica<br>year=1965<br>iso_alpha=%{location}<extra></extra>",
         "hovertext": [
          350245.4848557003
         ],
         "locations": [
          " CR"
         ],
         "name": "Costa Rica",
         "showlegend": true,
         "showscale": false,
         "type": "choropleth",
         "z": [
          1
         ]
        },
        {
         "colorscale": [
          [
           0,
           "#B6E880"
          ],
          [
           1,
           "#B6E880"
          ]
         ],
         "geo": "geo",
         "hovertemplate": "<b>%{hovertext}</b><br><br>Country=Côte d'Ivoire<br>year=1965<br>iso_alpha=%{location}<extra></extra>",
         "hovertext": [
          82817.60296052173
         ],
         "locations": [
          " CI"
         ],
         "name": "Côte d'Ivoire",
         "showlegend": true,
         "showscale": false,
         "type": "choropleth",
         "z": [
          1
         ]
        },
        {
         "colorscale": [
          [
           0,
           "#FF97FF"
          ],
          [
           1,
           "#FF97FF"
          ]
         ],
         "geo": "geo",
         "hovertemplate": "<b>%{hovertext}</b><br><br>Country=Croatia<br>year=1965<br>iso_alpha=%{location}<extra></extra>",
         "hovertext": [
          147648.1730264876
         ],
         "locations": [
          " HR"
         ],
         "name": "Croatia",
         "showlegend": true,
         "showscale": false,
         "type": "choropleth",
         "z": [
          1
         ]
        },
        {
         "colorscale": [
          [
           0,
           "#FECB52"
          ],
          [
           1,
           "#FECB52"
          ]
         ],
         "geo": "geo",
         "hovertemplate": "<b>%{hovertext}</b><br><br>Country=Cuba<br>year=1965<br>iso_alpha=%{location}<extra></extra>",
         "hovertext": [
          285197.6120676041
         ],
         "locations": [
          " CU"
         ],
         "name": "Cuba",
         "showlegend": true,
         "showscale": false,
         "type": "choropleth",
         "z": [
          1
         ]
        },
        {
         "colorscale": [
          [
           0,
           "#636efa"
          ],
          [
           1,
           "#636efa"
          ]
         ],
         "geo": "geo",
         "hovertemplate": "<b>%{hovertext}</b><br><br>Country=Curaçao<br>year=1965<br>iso_alpha=%{location}<extra></extra>",
         "hovertext": [
          350.5699860397726
         ],
         "locations": [
          " CW"
         ],
         "name": "Curaçao",
         "showlegend": true,
         "showscale": false,
         "type": "choropleth",
         "z": [
          1
         ]
        },
        {
         "colorscale": [
          [
           0,
           "#EF553B"
          ],
          [
           1,
           "#EF553B"
          ]
         ],
         "geo": "geo",
         "hovertemplate": "<b>%{hovertext}</b><br><br>Country=Cyprus<br>year=1965<br>iso_alpha=%{location}<extra></extra>",
         "hovertext": [
          5079.898982626797
         ],
         "locations": [
          " CY"
         ],
         "name": "Cyprus",
         "showlegend": true,
         "showscale": false,
         "type": "choropleth",
         "z": [
          1
         ]
        },
        {
         "colorscale": [
          [
           0,
           "#00cc96"
          ],
          [
           1,
           "#00cc96"
          ]
         ],
         "geo": "geo",
         "hovertemplate": "<b>%{hovertext}</b><br><br>Country=Czech Republic<br>year=1965<br>iso_alpha=%{location}<extra></extra>",
         "hovertext": [
          846502.3909515381
         ],
         "locations": [
          " CZ"
         ],
         "name": "Czech Republic",
         "showlegend": true,
         "showscale": false,
         "type": "choropleth",
         "z": [
          1
         ]
        },
        {
         "colorscale": [
          [
           0,
           "#ab63fa"
          ],
          [
           1,
           "#ab63fa"
          ]
         ],
         "geo": "geo",
         "hovertemplate": "<b>%{hovertext}</b><br><br>Country=Denmark<br>year=1965<br>iso_alpha=%{location}<extra></extra>",
         "hovertext": [
          3076.31934992969
         ],
         "locations": [
          " DK"
         ],
         "name": "Denmark",
         "showlegend": true,
         "showscale": false,
         "type": "choropleth",
         "z": [
          1
         ]
        },
        {
         "colorscale": [
          [
           0,
           "#FFA15A"
          ],
          [
           1,
           "#FFA15A"
          ]
         ],
         "geo": "geo",
         "hovertemplate": "<b>%{hovertext}</b><br><br>Country=Djibouti<br>year=1965<br>iso_alpha=%{location}<extra></extra>",
         "hovertext": [
          218707.9010065753
         ],
         "locations": [
          " DJ"
         ],
         "name": "Djibouti",
         "showlegend": true,
         "showscale": false,
         "type": "choropleth",
         "z": [
          1
         ]
        },
        {
         "colorscale": [
          [
           0,
           "#19d3f3"
          ],
          [
           1,
           "#19d3f3"
          ]
         ],
         "geo": "geo",
         "hovertemplate": "<b>%{hovertext}</b><br><br>Country=Dominica<br>year=1965<br>iso_alpha=%{location}<extra></extra>",
         "hovertext": [
          89397.53150905967
         ],
         "locations": [
          " DM"
         ],
         "name": "Dominica",
         "showlegend": true,
         "showscale": false,
         "type": "choropleth",
         "z": [
          1
         ]
        },
        {
         "colorscale": [
          [
           0,
           "#FF6692"
          ],
          [
           1,
           "#FF6692"
          ]
         ],
         "geo": "geo",
         "hovertemplate": "<b>%{hovertext}</b><br><br>Country=Dominican Republic<br>year=1965<br>iso_alpha=%{location}<extra></extra>",
         "hovertext": [
          330030.0394705296
         ],
         "locations": [
          " DO"
         ],
         "name": "Dominican Republic",
         "showlegend": true,
         "showscale": false,
         "type": "choropleth",
         "z": [
          1
         ]
        },
        {
         "colorscale": [
          [
           0,
           "#B6E880"
          ],
          [
           1,
           "#B6E880"
          ]
         ],
         "geo": "geo",
         "hovertemplate": "<b>%{hovertext}</b><br><br>Country=Ecuador<br>year=1965<br>iso_alpha=%{location}<extra></extra>",
         "hovertext": [
          63939.45506439805
         ],
         "locations": [
          " EC"
         ],
         "name": "Ecuador",
         "showlegend": true,
         "showscale": false,
         "type": "choropleth",
         "z": [
          1
         ]
        },
        {
         "colorscale": [
          [
           0,
           "#FF97FF"
          ],
          [
           1,
           "#FF97FF"
          ]
         ],
         "geo": "geo",
         "hovertemplate": "<b>%{hovertext}</b><br><br>Country=Egypt<br>year=1965<br>iso_alpha=%{location}<extra></extra>",
         "hovertext": [
          1275222.692376701
         ],
         "locations": [
          " EG"
         ],
         "name": "Egypt",
         "showlegend": true,
         "showscale": false,
         "type": "choropleth",
         "z": [
          1
         ]
        },
        {
         "colorscale": [
          [
           0,
           "#FECB52"
          ],
          [
           1,
           "#FECB52"
          ]
         ],
         "geo": "geo",
         "hovertemplate": "<b>%{hovertext}</b><br><br>Country=El Salvador<br>year=1965<br>iso_alpha=%{location}<extra></extra>",
         "hovertext": [
          393083.55421553645
         ],
         "locations": [
          " SV"
         ],
         "name": "El Salvador",
         "showlegend": true,
         "showscale": false,
         "type": "choropleth",
         "z": [
          1
         ]
        },
        {
         "colorscale": [
          [
           0,
           "#636efa"
          ],
          [
           1,
           "#636efa"
          ]
         ],
         "geo": "geo",
         "hovertemplate": "<b>%{hovertext}</b><br><br>Country=Equatorial Guinea<br>year=1965<br>iso_alpha=%{location}<extra></extra>",
         "hovertext": [
          136849.1752495304
         ],
         "locations": [
          " GQ"
         ],
         "name": "Equatorial Guinea",
         "showlegend": true,
         "showscale": false,
         "type": "choropleth",
         "z": [
          1
         ]
        },
        {
         "colorscale": [
          [
           0,
           "#EF553B"
          ],
          [
           1,
           "#EF553B"
          ]
         ],
         "geo": "geo",
         "hovertemplate": "<b>%{hovertext}</b><br><br>Country=Eritrea<br>year=1965<br>iso_alpha=%{location}<extra></extra>",
         "hovertext": [
          207096.6545622986
         ],
         "locations": [
          " ER"
         ],
         "name": "Eritrea",
         "showlegend": true,
         "showscale": false,
         "type": "choropleth",
         "z": [
          1
         ]
        },
        {
         "colorscale": [
          [
           0,
           "#00cc96"
          ],
          [
           1,
           "#00cc96"
          ]
         ],
         "geo": "geo",
         "hovertemplate": "<b>%{hovertext}</b><br><br>Country=Estonia<br>year=1965<br>iso_alpha=%{location}<extra></extra>",
         "hovertext": [
          78959.96360013615
         ],
         "locations": [
          " EE"
         ],
         "name": "Estonia",
         "showlegend": true,
         "showscale": false,
         "type": "choropleth",
         "z": [
          1
         ]
        },
        {
         "colorscale": [
          [
           0,
           "#ab63fa"
          ],
          [
           1,
           "#ab63fa"
          ]
         ],
         "geo": "geo",
         "hovertemplate": "<b>%{hovertext}</b><br><br>Country=Ethiopia<br>year=1965<br>iso_alpha=%{location}<extra></extra>",
         "hovertext": [
          4175.169684458524
         ],
         "locations": [
          " ET"
         ],
         "name": "Ethiopia",
         "showlegend": true,
         "showscale": false,
         "type": "choropleth",
         "z": [
          1
         ]
        },
        {
         "colorscale": [
          [
           0,
           "#FFA15A"
          ],
          [
           1,
           "#FFA15A"
          ]
         ],
         "geo": "geo",
         "hovertemplate": "<b>%{hovertext}</b><br><br>Country=Falkland Islands (Malvinas)<br>year=1965<br>iso_alpha=%{location}<extra></extra>",
         "hovertext": [
          1532736.112126098
         ],
         "locations": [
          " FK"
         ],
         "name": "Falkland Islands (Malvinas)",
         "showlegend": true,
         "showscale": false,
         "type": "choropleth",
         "z": [
          1
         ]
        },
        {
         "colorscale": [
          [
           0,
           "#19d3f3"
          ],
          [
           1,
           "#19d3f3"
          ]
         ],
         "geo": "geo",
         "hovertemplate": "<b>%{hovertext}</b><br><br>Country=Faroe Islands<br>year=1965<br>iso_alpha=%{location}<extra></extra>",
         "hovertext": [
          0
         ],
         "locations": [
          " FO"
         ],
         "name": "Faroe Islands",
         "showlegend": true,
         "showscale": false,
         "type": "choropleth",
         "z": [
          1
         ]
        },
        {
         "colorscale": [
          [
           0,
           "#FF6692"
          ],
          [
           1,
           "#FF6692"
          ]
         ],
         "geo": "geo",
         "hovertemplate": "<b>%{hovertext}</b><br><br>Country=Fiji<br>year=1965<br>iso_alpha=%{location}<extra></extra>",
         "hovertext": [
          5530299.152768819
         ],
         "locations": [
          " FJ"
         ],
         "name": "Fiji",
         "showlegend": true,
         "showscale": false,
         "type": "choropleth",
         "z": [
          1
         ]
        },
        {
         "colorscale": [
          [
           0,
           "#B6E880"
          ],
          [
           1,
           "#B6E880"
          ]
         ],
         "geo": "geo",
         "hovertemplate": "<b>%{hovertext}</b><br><br>Country=Finland<br>year=1965<br>iso_alpha=%{location}<extra></extra>",
         "hovertext": [
          94687.24299222231
         ],
         "locations": [
          " FI"
         ],
         "name": "Finland",
         "showlegend": true,
         "showscale": false,
         "type": "choropleth",
         "z": [
          1
         ]
        },
        {
         "colorscale": [
          [
           0,
           "#FF97FF"
          ],
          [
           1,
           "#FF97FF"
          ]
         ],
         "geo": "geo",
         "hovertemplate": "<b>%{hovertext}</b><br><br>Country=France<br>year=1965<br>iso_alpha=%{location}<extra></extra>",
         "hovertext": [
          2230025.181759331
         ],
         "locations": [
          " FR"
         ],
         "name": "France",
         "showlegend": true,
         "showscale": false,
         "type": "choropleth",
         "z": [
          1
         ]
        },
        {
         "colorscale": [
          [
           0,
           "#FECB52"
          ],
          [
           1,
           "#FECB52"
          ]
         ],
         "geo": "geo",
         "hovertemplate": "<b>%{hovertext}</b><br><br>Country=French Guiana<br>year=1965<br>iso_alpha=%{location}<extra></extra>",
         "hovertext": [
          304257.6859001815
         ],
         "locations": [
          " GF"
         ],
         "name": "French Guiana",
         "showlegend": true,
         "showscale": false,
         "type": "choropleth",
         "z": [
          1
         ]
        },
        {
         "colorscale": [
          [
           0,
           "#636efa"
          ],
          [
           1,
           "#636efa"
          ]
         ],
         "geo": "geo",
         "hovertemplate": "<b>%{hovertext}</b><br><br>Country=French Polynesia<br>year=1965<br>iso_alpha=%{location}<extra></extra>",
         "hovertext": [
          6564829.657784024
         ],
         "locations": [
          " PF"
         ],
         "name": "French Polynesia",
         "showlegend": true,
         "showscale": false,
         "type": "choropleth",
         "z": [
          1
         ]
        },
        {
         "colorscale": [
          [
           0,
           "#EF553B"
          ],
          [
           1,
           "#EF553B"
          ]
         ],
         "geo": "geo",
         "hovertemplate": "<b>%{hovertext}</b><br><br>Country=French Southern Territories<br>year=1965<br>iso_alpha=%{location}<extra></extra>",
         "hovertext": [
          119111.0688378103
         ],
         "locations": [
          " TF"
         ],
         "name": "French Southern Territories",
         "showlegend": true,
         "showscale": false,
         "type": "choropleth",
         "z": [
          1
         ]
        },
        {
         "colorscale": [
          [
           0,
           "#00cc96"
          ],
          [
           1,
           "#00cc96"
          ]
         ],
         "geo": "geo",
         "hovertemplate": "<b>%{hovertext}</b><br><br>Country=Gabon<br>year=1965<br>iso_alpha=%{location}<extra></extra>",
         "hovertext": [
          306784.5227196813
         ],
         "locations": [
          " GA"
         ],
         "name": "Gabon",
         "showlegend": true,
         "showscale": false,
         "type": "choropleth",
         "z": [
          1
         ]
        },
        {
         "colorscale": [
          [
           0,
           "#ab63fa"
          ],
          [
           1,
           "#ab63fa"
          ]
         ],
         "geo": "geo",
         "hovertemplate": "<b>%{hovertext}</b><br><br>Country=Gambia<br>year=1965<br>iso_alpha=%{location}<extra></extra>",
         "hovertext": [
          296008.03885318275
         ],
         "locations": [
          " GM"
         ],
         "name": "Gambia",
         "showlegend": true,
         "showscale": false,
         "type": "choropleth",
         "z": [
          1
         ]
        },
        {
         "colorscale": [
          [
           0,
           "#FFA15A"
          ],
          [
           1,
           "#FFA15A"
          ]
         ],
         "geo": "geo",
         "hovertemplate": "<b>%{hovertext}</b><br><br>Country=Georgia<br>year=1965<br>iso_alpha=%{location}<extra></extra>",
         "hovertext": [
          197228.6617383361
         ],
         "locations": [
          " GE"
         ],
         "name": "Georgia",
         "showlegend": true,
         "showscale": false,
         "type": "choropleth",
         "z": [
          1
         ]
        },
        {
         "colorscale": [
          [
           0,
           "#19d3f3"
          ],
          [
           1,
           "#19d3f3"
          ]
         ],
         "geo": "geo",
         "hovertemplate": "<b>%{hovertext}</b><br><br>Country=Germany<br>year=1965<br>iso_alpha=%{location}<extra></extra>",
         "hovertext": [
          172396.8216101639
         ],
         "locations": [
          " DE"
         ],
         "name": "Germany",
         "showlegend": true,
         "showscale": false,
         "type": "choropleth",
         "z": [
          1
         ]
        },
        {
         "colorscale": [
          [
           0,
           "#FF6692"
          ],
          [
           1,
           "#FF6692"
          ]
         ],
         "geo": "geo",
         "hovertemplate": "<b>%{hovertext}</b><br><br>Country=Ghana<br>year=1965<br>iso_alpha=%{location}<extra></extra>",
         "hovertext": [
          269341.4450623095
         ],
         "locations": [
          " GH"
         ],
         "name": "Ghana",
         "showlegend": true,
         "showscale": false,
         "type": "choropleth",
         "z": [
          1
         ]
        },
        {
         "colorscale": [
          [
           0,
           "#B6E880"
          ],
          [
           1,
           "#B6E880"
          ]
         ],
         "geo": "geo",
         "hovertemplate": "<b>%{hovertext}</b><br><br>Country=Gibraltar<br>year=1965<br>iso_alpha=%{location}<extra></extra>",
         "hovertext": [
          37633.73801484704
         ],
         "locations": [
          " GI"
         ],
         "name": "Gibraltar",
         "showlegend": true,
         "showscale": false,
         "type": "choropleth",
         "z": [
          1
         ]
        },
        {
         "colorscale": [
          [
           0,
           "#FF97FF"
          ],
          [
           1,
           "#FF97FF"
          ]
         ],
         "geo": "geo",
         "hovertemplate": "<b>%{hovertext}</b><br><br>Country=Greece<br>year=1965<br>iso_alpha=%{location}<extra></extra>",
         "hovertext": [
          253287.62182410242
         ],
         "locations": [
          " GR"
         ],
         "name": "Greece",
         "showlegend": true,
         "showscale": false,
         "type": "choropleth",
         "z": [
          1
         ]
        },
        {
         "colorscale": [
          [
           0,
           "#FECB52"
          ],
          [
           1,
           "#FECB52"
          ]
         ],
         "geo": "geo",
         "hovertemplate": "<b>%{hovertext}</b><br><br>Country=Greenland<br>year=1965<br>iso_alpha=%{location}<extra></extra>",
         "hovertext": [
          110543.4987694025
         ],
         "locations": [
          " GL"
         ],
         "name": "Greenland",
         "showlegend": true,
         "showscale": false,
         "type": "choropleth",
         "z": [
          1
         ]
        },
        {
         "colorscale": [
          [
           0,
           "#636efa"
          ],
          [
           1,
           "#636efa"
          ]
         ],
         "geo": "geo",
         "hovertemplate": "<b>%{hovertext}</b><br><br>Country=Grenada<br>year=1965<br>iso_alpha=%{location}<extra></extra>",
         "hovertext": [
          106037.8707479686
         ],
         "locations": [
          " GD"
         ],
         "name": "Grenada",
         "showlegend": true,
         "showscale": false,
         "type": "choropleth",
         "z": [
          1
         ]
        }
       ],
       "frames": [
        {
         "data": [
          {
           "colorscale": [
            [
             0,
             "#636efa"
            ],
            [
             1,
             "#636efa"
            ]
           ],
           "geo": "geo",
           "hovertemplate": "<b>%{hovertext}</b><br><br>Country=Afghanistan<br>year=1965<br>iso_alpha=%{location}<extra></extra>",
           "hovertext": [
            5000530.280350423
           ],
           "locations": [
            " AF"
           ],
           "name": "Afghanistan",
           "showlegend": true,
           "showscale": false,
           "type": "choropleth",
           "z": [
            1
           ]
          },
          {
           "colorscale": [
            [
             0,
             "#EF553B"
            ],
            [
             1,
             "#EF553B"
            ]
           ],
           "geo": "geo",
           "hovertemplate": "<b>%{hovertext}</b><br><br>Country=Åland Islands<br>year=1965<br>iso_alpha=%{location}<extra></extra>",
           "hovertext": [
            1055970.7694871202
           ],
           "locations": [
            " AX"
           ],
           "name": "Åland Islands",
           "showlegend": true,
           "showscale": false,
           "type": "choropleth",
           "z": [
            1
           ]
          },
          {
           "colorscale": [
            [
             0,
             "#00cc96"
            ],
            [
             1,
             "#00cc96"
            ]
           ],
           "geo": "geo",
           "hovertemplate": "<b>%{hovertext}</b><br><br>Country=Albania<br>year=1965<br>iso_alpha=%{location}<extra></extra>",
           "hovertext": [
            51982923.795742065
           ],
           "locations": [
            " AL"
           ],
           "name": "Albania",
           "showlegend": true,
           "showscale": false,
           "type": "choropleth",
           "z": [
            1
           ]
          },
          {
           "colorscale": [
            [
             0,
             "#ab63fa"
            ],
            [
             1,
             "#ab63fa"
            ]
           ],
           "geo": "geo",
           "hovertemplate": "<b>%{hovertext}</b><br><br>Country=Algeria<br>year=1965<br>iso_alpha=%{location}<extra></extra>",
           "hovertext": [
            1182699.4515349509
           ],
           "locations": [
            " DZ"
           ],
           "name": "Algeria",
           "showlegend": true,
           "showscale": false,
           "type": "choropleth",
           "z": [
            1
           ]
          },
          {
           "colorscale": [
            [
             0,
             "#FFA15A"
            ],
            [
             1,
             "#FFA15A"
            ]
           ],
           "geo": "geo",
           "hovertemplate": "<b>%{hovertext}</b><br><br>Country=American Samoa<br>year=1965<br>iso_alpha=%{location}<extra></extra>",
           "hovertext": [
            985930.6512542802
           ],
           "locations": [
            " AS"
           ],
           "name": "American Samoa",
           "showlegend": true,
           "showscale": false,
           "type": "choropleth",
           "z": [
            1
           ]
          },
          {
           "colorscale": [
            [
             0,
             "#19d3f3"
            ],
            [
             1,
             "#19d3f3"
            ]
           ],
           "geo": "geo",
           "hovertemplate": "<b>%{hovertext}</b><br><br>Country=Andorra<br>year=1965<br>iso_alpha=%{location}<extra></extra>",
           "hovertext": [
            260758.1951330471
           ],
           "locations": [
            " AD"
           ],
           "name": "Andorra",
           "showlegend": true,
           "showscale": false,
           "type": "choropleth",
           "z": [
            1
           ]
          },
          {
           "colorscale": [
            [
             0,
             "#FF6692"
            ],
            [
             1,
             "#FF6692"
            ]
           ],
           "geo": "geo",
           "hovertemplate": "<b>%{hovertext}</b><br><br>Country=Angola<br>year=1965<br>iso_alpha=%{location}<extra></extra>",
           "hovertext": [
            351624.143689394
           ],
           "locations": [
            " AO"
           ],
           "name": "Angola",
           "showlegend": true,
           "showscale": false,
           "type": "choropleth",
           "z": [
            1
           ]
          },
          {
           "colorscale": [
            [
             0,
             "#B6E880"
            ],
            [
             1,
             "#B6E880"
            ]
           ],
           "geo": "geo",
           "hovertemplate": "<b>%{hovertext}</b><br><br>Country=Anguilla<br>year=1965<br>iso_alpha=%{location}<extra></extra>",
           "hovertext": [
            31164.94091227651
           ],
           "locations": [
            " AI"
           ],
           "name": "Anguilla",
           "showlegend": true,
           "showscale": false,
           "type": "choropleth",
           "z": [
            1
           ]
          },
          {
           "colorscale": [
            [
             0,
             "#FF97FF"
            ],
            [
             1,
             "#FF97FF"
            ]
           ],
           "geo": "geo",
           "hovertemplate": "<b>%{hovertext}</b><br><br>Country=Antarctica<br>year=1965<br>iso_alpha=%{location}<extra></extra>",
           "hovertext": [
            198024.00257588178
           ],
           "locations": [
            " AQ"
           ],
           "name": "Antarctica",
           "showlegend": true,
           "showscale": false,
           "type": "choropleth",
           "z": [
            1
           ]
          },
          {
           "colorscale": [
            [
             0,
             "#FECB52"
            ],
            [
             1,
             "#FECB52"
            ]
           ],
           "geo": "geo",
           "hovertemplate": "<b>%{hovertext}</b><br><br>Country=Antigua and Barbuda<br>year=1965<br>iso_alpha=%{location}<extra></extra>",
           "hovertext": [
            121052.3538898468
           ],
           "locations": [
            " AG"
           ],
           "name": "Antigua and Barbuda",
           "showlegend": true,
           "showscale": false,
           "type": "choropleth",
           "z": [
            1
           ]
          },
          {
           "colorscale": [
            [
             0,
             "#636efa"
            ],
            [
             1,
             "#636efa"
            ]
           ],
           "geo": "geo",
           "hovertemplate": "<b>%{hovertext}</b><br><br>Country=Argentina<br>year=1965<br>iso_alpha=%{location}<extra></extra>",
           "hovertext": [
            689345.1989261638
           ],
           "locations": [
            " AR"
           ],
           "name": "Argentina",
           "showlegend": true,
           "showscale": false,
           "type": "choropleth",
           "z": [
            1
           ]
          },
          {
           "colorscale": [
            [
             0,
             "#EF553B"
            ],
            [
             1,
             "#EF553B"
            ]
           ],
           "geo": "geo",
           "hovertemplate": "<b>%{hovertext}</b><br><br>Country=Armenia<br>year=1965<br>iso_alpha=%{location}<extra></extra>",
           "hovertext": [
            157963.1261965915
           ],
           "locations": [
            " AM"
           ],
           "name": "Armenia",
           "showlegend": true,
           "showscale": false,
           "type": "choropleth",
           "z": [
            1
           ]
          },
          {
           "colorscale": [
            [
             0,
             "#00cc96"
            ],
            [
             1,
             "#00cc96"
            ]
           ],
           "geo": "geo",
           "hovertemplate": "<b>%{hovertext}</b><br><br>Country=Aruba<br>year=1965<br>iso_alpha=%{location}<extra></extra>",
           "hovertext": [
            789579.0951282877
           ],
           "locations": [
            " AW"
           ],
           "name": "Aruba",
           "showlegend": true,
           "showscale": false,
           "type": "choropleth",
           "z": [
            1
           ]
          },
          {
           "colorscale": [
            [
             0,
             "#ab63fa"
            ],
            [
             1,
             "#ab63fa"
            ]
           ],
           "geo": "geo",
           "hovertemplate": "<b>%{hovertext}</b><br><br>Country=Australia<br>year=1965<br>iso_alpha=%{location}<extra></extra>",
           "hovertext": [
            148089.4869713385
           ],
           "locations": [
            " AU"
           ],
           "name": "Australia",
           "showlegend": true,
           "showscale": false,
           "type": "choropleth",
           "z": [
            1
           ]
          },
          {
           "colorscale": [
            [
             0,
             "#FFA15A"
            ],
            [
             1,
             "#FFA15A"
            ]
           ],
           "geo": "geo",
           "hovertemplate": "<b>%{hovertext}</b><br><br>Country=Austria<br>year=1965<br>iso_alpha=%{location}<extra></extra>",
           "hovertext": [
            682193.8200495933
           ],
           "locations": [
            " AT"
           ],
           "name": "Austria",
           "showlegend": true,
           "showscale": false,
           "type": "choropleth",
           "z": [
            1
           ]
          },
          {
           "colorscale": [
            [
             0,
             "#19d3f3"
            ],
            [
             1,
             "#19d3f3"
            ]
           ],
           "geo": "geo",
           "hovertemplate": "<b>%{hovertext}</b><br><br>Country=Azerbaijan<br>year=1965<br>iso_alpha=%{location}<extra></extra>",
           "hovertext": [
            1486588.339429632
           ],
           "locations": [
            " AZ"
           ],
           "name": "Azerbaijan",
           "showlegend": true,
           "showscale": false,
           "type": "choropleth",
           "z": [
            1
           ]
          },
          {
           "colorscale": [
            [
             0,
             "#FF6692"
            ],
            [
             1,
             "#FF6692"
            ]
           ],
           "geo": "geo",
           "hovertemplate": "<b>%{hovertext}</b><br><br>Country=Bahamas<br>year=1965<br>iso_alpha=%{location}<extra></extra>",
           "hovertext": [
            431732.34437078
           ],
           "locations": [
            " BS"
           ],
           "name": "Bahamas",
           "showlegend": true,
           "showscale": false,
           "type": "choropleth",
           "z": [
            1
           ]
          },
          {
           "colorscale": [
            [
             0,
             "#B6E880"
            ],
            [
             1,
             "#B6E880"
            ]
           ],
           "geo": "geo",
           "hovertemplate": "<b>%{hovertext}</b><br><br>Country=Bahrain<br>year=1965<br>iso_alpha=%{location}<extra></extra>",
           "hovertext": [
            0
           ],
           "locations": [
            " BH"
           ],
           "name": "Bahrain",
           "showlegend": true,
           "showscale": false,
           "type": "choropleth",
           "z": [
            1
           ]
          },
          {
           "colorscale": [
            [
             0,
             "#FF97FF"
            ],
            [
             1,
             "#FF97FF"
            ]
           ],
           "geo": "geo",
           "hovertemplate": "<b>%{hovertext}</b><br><br>Country=Bangladesh<br>year=1965<br>iso_alpha=%{location}<extra></extra>",
           "hovertext": [
            16848.90128672123
           ],
           "locations": [
            " BD"
           ],
           "name": "Bangladesh",
           "showlegend": true,
           "showscale": false,
           "type": "choropleth",
           "z": [
            1
           ]
          },
          {
           "colorscale": [
            [
             0,
             "#FECB52"
            ],
            [
             1,
             "#FECB52"
            ]
           ],
           "geo": "geo",
           "hovertemplate": "<b>%{hovertext}</b><br><br>Country=Barbados<br>year=1965<br>iso_alpha=%{location}<extra></extra>",
           "hovertext": [
            1687601.368376183
           ],
           "locations": [
            " BB"
           ],
           "name": "Barbados",
           "showlegend": true,
           "showscale": false,
           "type": "choropleth",
           "z": [
            1
           ]
          },
          {
           "colorscale": [
            [
             0,
             "#636efa"
            ],
            [
             1,
             "#636efa"
            ]
           ],
           "geo": "geo",
           "hovertemplate": "<b>%{hovertext}</b><br><br>Country=Belarus<br>year=1965<br>iso_alpha=%{location}<extra></extra>",
           "hovertext": [
            598349.7890410945
           ],
           "locations": [
            " BY"
           ],
           "name": "Belarus",
           "showlegend": true,
           "showscale": false,
           "type": "choropleth",
           "z": [
            1
           ]
          },
          {
           "colorscale": [
            [
             0,
             "#EF553B"
            ],
            [
             1,
             "#EF553B"
            ]
           ],
           "geo": "geo",
           "hovertemplate": "<b>%{hovertext}</b><br><br>Country=Belgium<br>year=1965<br>iso_alpha=%{location}<extra></extra>",
           "hovertext": [
            0
           ],
           "locations": [
            " BE"
           ],
           "name": "Belgium",
           "showlegend": true,
           "showscale": false,
           "type": "choropleth",
           "z": [
            1
           ]
          },
          {
           "colorscale": [
            [
             0,
             "#00cc96"
            ],
            [
             1,
             "#00cc96"
            ]
           ],
           "geo": "geo",
           "hovertemplate": "<b>%{hovertext}</b><br><br>Country=Belize<br>year=1965<br>iso_alpha=%{location}<extra></extra>",
           "hovertext": [
            415452.9869556427
           ],
           "locations": [
            " BZ"
           ],
           "name": "Belize",
           "showlegend": true,
           "showscale": false,
           "type": "choropleth",
           "z": [
            1
           ]
          },
          {
           "colorscale": [
            [
             0,
             "#ab63fa"
            ],
            [
             1,
             "#ab63fa"
            ]
           ],
           "geo": "geo",
           "hovertemplate": "<b>%{hovertext}</b><br><br>Country=Benin<br>year=1965<br>iso_alpha=%{location}<extra></extra>",
           "hovertext": [
            4714761.543014103
           ],
           "locations": [
            " BJ"
           ],
           "name": "Benin",
           "showlegend": true,
           "showscale": false,
           "type": "choropleth",
           "z": [
            1
           ]
          },
          {
           "colorscale": [
            [
             0,
             "#FFA15A"
            ],
            [
             1,
             "#FFA15A"
            ]
           ],
           "geo": "geo",
           "hovertemplate": "<b>%{hovertext}</b><br><br>Country=Bermuda<br>year=1965<br>iso_alpha=%{location}<extra></extra>",
           "hovertext": [
            10689455.86797409
           ],
           "locations": [
            " BM"
           ],
           "name": "Bermuda",
           "showlegend": true,
           "showscale": false,
           "type": "choropleth",
           "z": [
            1
           ]
          },
          {
           "colorscale": [
            [
             0,
             "#19d3f3"
            ],
            [
             1,
             "#19d3f3"
            ]
           ],
           "geo": "geo",
           "hovertemplate": "<b>%{hovertext}</b><br><br>Country=Bhutan<br>year=1965<br>iso_alpha=%{location}<extra></extra>",
           "hovertext": [
            284926.2673407793
           ],
           "locations": [
            " BT"
           ],
           "name": "Bhutan",
           "showlegend": true,
           "showscale": false,
           "type": "choropleth",
           "z": [
            1
           ]
          },
          {
           "colorscale": [
            [
             0,
             "#FF6692"
            ],
            [
             1,
             "#FF6692"
            ]
           ],
           "geo": "geo",
           "hovertemplate": "<b>%{hovertext}</b><br><br>Country=Bolivia, Plurinational State of<br>year=1965<br>iso_alpha=%{location}<extra></extra>",
           "hovertext": [
            665911.4875681534
           ],
           "locations": [
            " BO"
           ],
           "name": "Bolivia, Plurinational State of",
           "showlegend": true,
           "showscale": false,
           "type": "choropleth",
           "z": [
            1
           ]
          },
          {
           "colorscale": [
            [
             0,
             "#B6E880"
            ],
            [
             1,
             "#B6E880"
            ]
           ],
           "geo": "geo",
           "hovertemplate": "<b>%{hovertext}</b><br><br>Country=Bolivia<br>year=1965<br>iso_alpha=%{location}<extra></extra>",
           "hovertext": [
            27298.90710907057
           ],
           "locations": [
            " BO"
           ],
           "name": "Bolivia",
           "showlegend": true,
           "showscale": false,
           "type": "choropleth",
           "z": [
            1
           ]
          },
          {
           "colorscale": [
            [
             0,
             "#FF97FF"
            ],
            [
             1,
             "#FF97FF"
            ]
           ],
           "geo": "geo",
           "hovertemplate": "<b>%{hovertext}</b><br><br>Country=Bonaire, Sint Eustatius and Saba<br>year=1965<br>iso_alpha=%{location}<extra></extra>",
           "hovertext": [
            243587.2228816152
           ],
           "locations": [
            " BQ"
           ],
           "name": "Bonaire, Sint Eustatius and Saba",
           "showlegend": true,
           "showscale": false,
           "type": "choropleth",
           "z": [
            1
           ]
          },
          {
           "colorscale": [
            [
             0,
             "#FECB52"
            ],
            [
             1,
             "#FECB52"
            ]
           ],
           "geo": "geo",
           "hovertemplate": "<b>%{hovertext}</b><br><br>Country=Bosnia and Herzegovina<br>year=1965<br>iso_alpha=%{location}<extra></extra>",
           "hovertext": [
            3342464.124653769
           ],
           "locations": [
            " BA"
           ],
           "name": "Bosnia and Herzegovina",
           "showlegend": true,
           "showscale": false,
           "type": "choropleth",
           "z": [
            1
           ]
          },
          {
           "colorscale": [
            [
             0,
             "#636efa"
            ],
            [
             1,
             "#636efa"
            ]
           ],
           "geo": "geo",
           "hovertemplate": "<b>%{hovertext}</b><br><br>Country=Botswana<br>year=1965<br>iso_alpha=%{location}<extra></extra>",
           "hovertext": [
            0
           ],
           "locations": [
            " BW"
           ],
           "name": "Botswana",
           "showlegend": true,
           "showscale": false,
           "type": "choropleth",
           "z": [
            1
           ]
          },
          {
           "colorscale": [
            [
             0,
             "#EF553B"
            ],
            [
             1,
             "#EF553B"
            ]
           ],
           "geo": "geo",
           "hovertemplate": "<b>%{hovertext}</b><br><br>Country=Bouvet Island<br>year=1965<br>iso_alpha=%{location}<extra></extra>",
           "hovertext": [
            0
           ],
           "locations": [
            " BV"
           ],
           "name": "Bouvet Island",
           "showlegend": true,
           "showscale": false,
           "type": "choropleth",
           "z": [
            1
           ]
          },
          {
           "colorscale": [
            [
             0,
             "#00cc96"
            ],
            [
             1,
             "#00cc96"
            ]
           ],
           "geo": "geo",
           "hovertemplate": "<b>%{hovertext}</b><br><br>Country=Brazil<br>year=1965<br>iso_alpha=%{location}<extra></extra>",
           "hovertext": [
            150494.6039640345
           ],
           "locations": [
            " BR"
           ],
           "name": "Brazil",
           "showlegend": true,
           "showscale": false,
           "type": "choropleth",
           "z": [
            1
           ]
          },
          {
           "colorscale": [
            [
             0,
             "#ab63fa"
            ],
            [
             1,
             "#ab63fa"
            ]
           ],
           "geo": "geo",
           "hovertemplate": "<b>%{hovertext}</b><br><br>Country=British Indian Ocean Territory<br>year=1965<br>iso_alpha=%{location}<extra></extra>",
           "hovertext": [
            1490256.349086762
           ],
           "locations": [
            " IO"
           ],
           "name": "British Indian Ocean Territory",
           "showlegend": true,
           "showscale": false,
           "type": "choropleth",
           "z": [
            1
           ]
          },
          {
           "colorscale": [
            [
             0,
             "#FFA15A"
            ],
            [
             1,
             "#FFA15A"
            ]
           ],
           "geo": "geo",
           "hovertemplate": "<b>%{hovertext}</b><br><br>Country=Brunei Darussalam<br>year=1965<br>iso_alpha=%{location}<extra></extra>",
           "hovertext": [
            0
           ],
           "locations": [
            " BN"
           ],
           "name": "Brunei Darussalam",
           "showlegend": true,
           "showscale": false,
           "type": "choropleth",
           "z": [
            1
           ]
          },
          {
           "colorscale": [
            [
             0,
             "#19d3f3"
            ],
            [
             1,
             "#19d3f3"
            ]
           ],
           "geo": "geo",
           "hovertemplate": "<b>%{hovertext}</b><br><br>Country=Brunei<br>year=1965<br>iso_alpha=%{location}<extra></extra>",
           "hovertext": [
            775522.7200686932
           ],
           "locations": [
            " BN"
           ],
           "name": "Brunei",
           "showlegend": true,
           "showscale": false,
           "type": "choropleth",
           "z": [
            1
           ]
          },
          {
           "colorscale": [
            [
             0,
             "#FF6692"
            ],
            [
             1,
             "#FF6692"
            ]
           ],
           "geo": "geo",
           "hovertemplate": "<b>%{hovertext}</b><br><br>Country=Bulgaria<br>year=1965<br>iso_alpha=%{location}<extra></extra>",
           "hovertext": [
            2793791.6632739957
           ],
           "locations": [
            " BG"
           ],
           "name": "Bulgaria",
           "showlegend": true,
           "showscale": false,
           "type": "choropleth",
           "z": [
            1
           ]
          },
          {
           "colorscale": [
            [
             0,
             "#B6E880"
            ],
            [
             1,
             "#B6E880"
            ]
           ],
           "geo": "geo",
           "hovertemplate": "<b>%{hovertext}</b><br><br>Country=Burkina Faso<br>year=1965<br>iso_alpha=%{location}<extra></extra>",
           "hovertext": [
            179385.4497373104
           ],
           "locations": [
            " BF"
           ],
           "name": "Burkina Faso",
           "showlegend": true,
           "showscale": false,
           "type": "choropleth",
           "z": [
            1
           ]
          },
          {
           "colorscale": [
            [
             0,
             "#FF97FF"
            ],
            [
             1,
             "#FF97FF"
            ]
           ],
           "geo": "geo",
           "hovertemplate": "<b>%{hovertext}</b><br><br>Country=Burma<br>year=1965<br>iso_alpha=%{location}<extra></extra>",
           "hovertext": [
            1003395.2654497289
           ],
           "locations": [
            " MM"
           ],
           "name": "Burma",
           "showlegend": true,
           "showscale": false,
           "type": "choropleth",
           "z": [
            1
           ]
          },
          {
           "colorscale": [
            [
             0,
             "#FECB52"
            ],
            [
             1,
             "#FECB52"
            ]
           ],
           "geo": "geo",
           "hovertemplate": "<b>%{hovertext}</b><br><br>Country=Burundi<br>year=1965<br>iso_alpha=%{location}<extra></extra>",
           "hovertext": [
            384610.3858965206
           ],
           "locations": [
            " BI"
           ],
           "name": "Burundi",
           "showlegend": true,
           "showscale": false,
           "type": "choropleth",
           "z": [
            1
           ]
          },
          {
           "colorscale": [
            [
             0,
             "#636efa"
            ],
            [
             1,
             "#636efa"
            ]
           ],
           "geo": "geo",
           "hovertemplate": "<b>%{hovertext}</b><br><br>Country=Cambodia<br>year=1965<br>iso_alpha=%{location}<extra></extra>",
           "hovertext": [
            0
           ],
           "locations": [
            " KH"
           ],
           "name": "Cambodia",
           "showlegend": true,
           "showscale": false,
           "type": "choropleth",
           "z": [
            1
           ]
          },
          {
           "colorscale": [
            [
             0,
             "#EF553B"
            ],
            [
             1,
             "#EF553B"
            ]
           ],
           "geo": "geo",
           "hovertemplate": "<b>%{hovertext}</b><br><br>Country=Cameroon<br>year=1965<br>iso_alpha=%{location}<extra></extra>",
           "hovertext": [
            1214663.818478584
           ],
           "locations": [
            " CM"
           ],
           "name": "Cameroon",
           "showlegend": true,
           "showscale": false,
           "type": "choropleth",
           "z": [
            1
           ]
          },
          {
           "colorscale": [
            [
             0,
             "#00cc96"
            ],
            [
             1,
             "#00cc96"
            ]
           ],
           "geo": "geo",
           "hovertemplate": "<b>%{hovertext}</b><br><br>Country=Canada<br>year=1965<br>iso_alpha=%{location}<extra></extra>",
           "hovertext": [
            1414633.287073229
           ],
           "locations": [
            " CA"
           ],
           "name": "Canada",
           "showlegend": true,
           "showscale": false,
           "type": "choropleth",
           "z": [
            1
           ]
          },
          {
           "colorscale": [
            [
             0,
             "#ab63fa"
            ],
            [
             1,
             "#ab63fa"
            ]
           ],
           "geo": "geo",
           "hovertemplate": "<b>%{hovertext}</b><br><br>Country=Cape Verde<br>year=1965<br>iso_alpha=%{location}<extra></extra>",
           "hovertext": [
            656885.9107792377
           ],
           "locations": [
            " CV"
           ],
           "name": "Cape Verde",
           "showlegend": true,
           "showscale": false,
           "type": "choropleth",
           "z": [
            1
           ]
          },
          {
           "colorscale": [
            [
             0,
             "#FFA15A"
            ],
            [
             1,
             "#FFA15A"
            ]
           ],
           "geo": "geo",
           "hovertemplate": "<b>%{hovertext}</b><br><br>Country=Cayman Islands<br>year=1965<br>iso_alpha=%{location}<extra></extra>",
           "hovertext": [
            329160.0394295529
           ],
           "locations": [
            " KY"
           ],
           "name": "Cayman Islands",
           "showlegend": true,
           "showscale": false,
           "type": "choropleth",
           "z": [
            1
           ]
          },
          {
           "colorscale": [
            [
             0,
             "#19d3f3"
            ],
            [
             1,
             "#19d3f3"
            ]
           ],
           "geo": "geo",
           "hovertemplate": "<b>%{hovertext}</b><br><br>Country=Central African Republic<br>year=1965<br>iso_alpha=%{location}<extra></extra>",
           "hovertext": [
            0
           ],
           "locations": [
            " CF"
           ],
           "name": "Central African Republic",
           "showlegend": true,
           "showscale": false,
           "type": "choropleth",
           "z": [
            1
           ]
          },
          {
           "colorscale": [
            [
             0,
             "#FF6692"
            ],
            [
             1,
             "#FF6692"
            ]
           ],
           "geo": "geo",
           "hovertemplate": "<b>%{hovertext}</b><br><br>Country=Chad<br>year=1965<br>iso_alpha=%{location}<extra></extra>",
           "hovertext": [
            8338408.884933092
           ],
           "locations": [
            " TD"
           ],
           "name": "Chad",
           "showlegend": true,
           "showscale": false,
           "type": "choropleth",
           "z": [
            1
           ]
          },
          {
           "colorscale": [
            [
             0,
             "#B6E880"
            ],
            [
             1,
             "#B6E880"
            ]
           ],
           "geo": "geo",
           "hovertemplate": "<b>%{hovertext}</b><br><br>Country=Chile<br>year=1965<br>iso_alpha=%{location}<extra></extra>",
           "hovertext": [
            666263.3413992947
           ],
           "locations": [
            " CL"
           ],
           "name": "Chile",
           "showlegend": true,
           "showscale": false,
           "type": "choropleth",
           "z": [
            1
           ]
          },
          {
           "colorscale": [
            [
             0,
             "#FF97FF"
            ],
            [
             1,
             "#FF97FF"
            ]
           ],
           "geo": "geo",
           "hovertemplate": "<b>%{hovertext}</b><br><br>Country=China<br>year=1965<br>iso_alpha=%{location}<extra></extra>",
           "hovertext": [
            0
           ],
           "locations": [
            " CN"
           ],
           "name": "China",
           "showlegend": true,
           "showscale": false,
           "type": "choropleth",
           "z": [
            1
           ]
          },
          {
           "colorscale": [
            [
             0,
             "#FECB52"
            ],
            [
             1,
             "#FECB52"
            ]
           ],
           "geo": "geo",
           "hovertemplate": "<b>%{hovertext}</b><br><br>Country=Christmas Island<br>year=1965<br>iso_alpha=%{location}<extra></extra>",
           "hovertext": [
            0
           ],
           "locations": [
            " CX"
           ],
           "name": "Christmas Island",
           "showlegend": true,
           "showscale": false,
           "type": "choropleth",
           "z": [
            1
           ]
          },
          {
           "colorscale": [
            [
             0,
             "#636efa"
            ],
            [
             1,
             "#636efa"
            ]
           ],
           "geo": "geo",
           "hovertemplate": "<b>%{hovertext}</b><br><br>Country=Cocos (Keeling) Islands<br>year=1965<br>iso_alpha=%{location}<extra></extra>",
           "hovertext": [
            0
           ],
           "locations": [
            " CC"
           ],
           "name": "Cocos (Keeling) Islands",
           "showlegend": true,
           "showscale": false,
           "type": "choropleth",
           "z": [
            1
           ]
          },
          {
           "colorscale": [
            [
             0,
             "#EF553B"
            ],
            [
             1,
             "#EF553B"
            ]
           ],
           "geo": "geo",
           "hovertemplate": "<b>%{hovertext}</b><br><br>Country=Colombia<br>year=1965<br>iso_alpha=%{location}<extra></extra>",
           "hovertext": [
            0
           ],
           "locations": [
            " CO"
           ],
           "name": "Colombia",
           "showlegend": true,
           "showscale": false,
           "type": "choropleth",
           "z": [
            1
           ]
          },
          {
           "colorscale": [
            [
             0,
             "#00cc96"
            ],
            [
             1,
             "#00cc96"
            ]
           ],
           "geo": "geo",
           "hovertemplate": "<b>%{hovertext}</b><br><br>Country=Comoros<br>year=1965<br>iso_alpha=%{location}<extra></extra>",
           "hovertext": [
            0
           ],
           "locations": [
            " KM"
           ],
           "name": "Comoros",
           "showlegend": true,
           "showscale": false,
           "type": "choropleth",
           "z": [
            1
           ]
          },
          {
           "colorscale": [
            [
             0,
             "#ab63fa"
            ],
            [
             1,
             "#ab63fa"
            ]
           ],
           "geo": "geo",
           "hovertemplate": "<b>%{hovertext}</b><br><br>Country=Congo, the Democratic Republic of the<br>year=1965<br>iso_alpha=%{location}<extra></extra>",
           "hovertext": [
            24900750.40967277
           ],
           "locations": [
            " CD"
           ],
           "name": "Congo, the Democratic Republic of the",
           "showlegend": true,
           "showscale": false,
           "type": "choropleth",
           "z": [
            1
           ]
          },
          {
           "colorscale": [
            [
             0,
             "#FFA15A"
            ],
            [
             1,
             "#FFA15A"
            ]
           ],
           "geo": "geo",
           "hovertemplate": "<b>%{hovertext}</b><br><br>Country=Congo<br>year=1965<br>iso_alpha=%{location}<extra></extra>",
           "hovertext": [
            0
           ],
           "locations": [
            " CG"
           ],
           "name": "Congo",
           "showlegend": true,
           "showscale": false,
           "type": "choropleth",
           "z": [
            1
           ]
          },
          {
           "colorscale": [
            [
             0,
             "#19d3f3"
            ],
            [
             1,
             "#19d3f3"
            ]
           ],
           "geo": "geo",
           "hovertemplate": "<b>%{hovertext}</b><br><br>Country=Cook Islands<br>year=1965<br>iso_alpha=%{location}<extra></extra>",
           "hovertext": [
            0
           ],
           "locations": [
            " CK"
           ],
           "name": "Cook Islands",
           "showlegend": true,
           "showscale": false,
           "type": "choropleth",
           "z": [
            1
           ]
          },
          {
           "colorscale": [
            [
             0,
             "#FF6692"
            ],
            [
             1,
             "#FF6692"
            ]
           ],
           "geo": "geo",
           "hovertemplate": "<b>%{hovertext}</b><br><br>Country=Costa Rica<br>year=1965<br>iso_alpha=%{location}<extra></extra>",
           "hovertext": [
            350245.4848557003
           ],
           "locations": [
            " CR"
           ],
           "name": "Costa Rica",
           "showlegend": true,
           "showscale": false,
           "type": "choropleth",
           "z": [
            1
           ]
          },
          {
           "colorscale": [
            [
             0,
             "#B6E880"
            ],
            [
             1,
             "#B6E880"
            ]
           ],
           "geo": "geo",
           "hovertemplate": "<b>%{hovertext}</b><br><br>Country=Côte d'Ivoire<br>year=1965<br>iso_alpha=%{location}<extra></extra>",
           "hovertext": [
            82817.60296052173
           ],
           "locations": [
            " CI"
           ],
           "name": "Côte d'Ivoire",
           "showlegend": true,
           "showscale": false,
           "type": "choropleth",
           "z": [
            1
           ]
          },
          {
           "colorscale": [
            [
             0,
             "#FF97FF"
            ],
            [
             1,
             "#FF97FF"
            ]
           ],
           "geo": "geo",
           "hovertemplate": "<b>%{hovertext}</b><br><br>Country=Croatia<br>year=1965<br>iso_alpha=%{location}<extra></extra>",
           "hovertext": [
            147648.1730264876
           ],
           "locations": [
            " HR"
           ],
           "name": "Croatia",
           "showlegend": true,
           "showscale": false,
           "type": "choropleth",
           "z": [
            1
           ]
          },
          {
           "colorscale": [
            [
             0,
             "#FECB52"
            ],
            [
             1,
             "#FECB52"
            ]
           ],
           "geo": "geo",
           "hovertemplate": "<b>%{hovertext}</b><br><br>Country=Cuba<br>year=1965<br>iso_alpha=%{location}<extra></extra>",
           "hovertext": [
            285197.6120676041
           ],
           "locations": [
            " CU"
           ],
           "name": "Cuba",
           "showlegend": true,
           "showscale": false,
           "type": "choropleth",
           "z": [
            1
           ]
          },
          {
           "colorscale": [
            [
             0,
             "#636efa"
            ],
            [
             1,
             "#636efa"
            ]
           ],
           "geo": "geo",
           "hovertemplate": "<b>%{hovertext}</b><br><br>Country=Curaçao<br>year=1965<br>iso_alpha=%{location}<extra></extra>",
           "hovertext": [
            350.5699860397726
           ],
           "locations": [
            " CW"
           ],
           "name": "Curaçao",
           "showlegend": true,
           "showscale": false,
           "type": "choropleth",
           "z": [
            1
           ]
          },
          {
           "colorscale": [
            [
             0,
             "#EF553B"
            ],
            [
             1,
             "#EF553B"
            ]
           ],
           "geo": "geo",
           "hovertemplate": "<b>%{hovertext}</b><br><br>Country=Cyprus<br>year=1965<br>iso_alpha=%{location}<extra></extra>",
           "hovertext": [
            5079.898982626797
           ],
           "locations": [
            " CY"
           ],
           "name": "Cyprus",
           "showlegend": true,
           "showscale": false,
           "type": "choropleth",
           "z": [
            1
           ]
          },
          {
           "colorscale": [
            [
             0,
             "#00cc96"
            ],
            [
             1,
             "#00cc96"
            ]
           ],
           "geo": "geo",
           "hovertemplate": "<b>%{hovertext}</b><br><br>Country=Czech Republic<br>year=1965<br>iso_alpha=%{location}<extra></extra>",
           "hovertext": [
            846502.3909515381
           ],
           "locations": [
            " CZ"
           ],
           "name": "Czech Republic",
           "showlegend": true,
           "showscale": false,
           "type": "choropleth",
           "z": [
            1
           ]
          },
          {
           "colorscale": [
            [
             0,
             "#ab63fa"
            ],
            [
             1,
             "#ab63fa"
            ]
           ],
           "geo": "geo",
           "hovertemplate": "<b>%{hovertext}</b><br><br>Country=Denmark<br>year=1965<br>iso_alpha=%{location}<extra></extra>",
           "hovertext": [
            3076.31934992969
           ],
           "locations": [
            " DK"
           ],
           "name": "Denmark",
           "showlegend": true,
           "showscale": false,
           "type": "choropleth",
           "z": [
            1
           ]
          },
          {
           "colorscale": [
            [
             0,
             "#FFA15A"
            ],
            [
             1,
             "#FFA15A"
            ]
           ],
           "geo": "geo",
           "hovertemplate": "<b>%{hovertext}</b><br><br>Country=Djibouti<br>year=1965<br>iso_alpha=%{location}<extra></extra>",
           "hovertext": [
            218707.9010065753
           ],
           "locations": [
            " DJ"
           ],
           "name": "Djibouti",
           "showlegend": true,
           "showscale": false,
           "type": "choropleth",
           "z": [
            1
           ]
          },
          {
           "colorscale": [
            [
             0,
             "#19d3f3"
            ],
            [
             1,
             "#19d3f3"
            ]
           ],
           "geo": "geo",
           "hovertemplate": "<b>%{hovertext}</b><br><br>Country=Dominica<br>year=1965<br>iso_alpha=%{location}<extra></extra>",
           "hovertext": [
            89397.53150905967
           ],
           "locations": [
            " DM"
           ],
           "name": "Dominica",
           "showlegend": true,
           "showscale": false,
           "type": "choropleth",
           "z": [
            1
           ]
          },
          {
           "colorscale": [
            [
             0,
             "#FF6692"
            ],
            [
             1,
             "#FF6692"
            ]
           ],
           "geo": "geo",
           "hovertemplate": "<b>%{hovertext}</b><br><br>Country=Dominican Republic<br>year=1965<br>iso_alpha=%{location}<extra></extra>",
           "hovertext": [
            330030.0394705296
           ],
           "locations": [
            " DO"
           ],
           "name": "Dominican Republic",
           "showlegend": true,
           "showscale": false,
           "type": "choropleth",
           "z": [
            1
           ]
          },
          {
           "colorscale": [
            [
             0,
             "#B6E880"
            ],
            [
             1,
             "#B6E880"
            ]
           ],
           "geo": "geo",
           "hovertemplate": "<b>%{hovertext}</b><br><br>Country=Ecuador<br>year=1965<br>iso_alpha=%{location}<extra></extra>",
           "hovertext": [
            63939.45506439805
           ],
           "locations": [
            " EC"
           ],
           "name": "Ecuador",
           "showlegend": true,
           "showscale": false,
           "type": "choropleth",
           "z": [
            1
           ]
          },
          {
           "colorscale": [
            [
             0,
             "#FF97FF"
            ],
            [
             1,
             "#FF97FF"
            ]
           ],
           "geo": "geo",
           "hovertemplate": "<b>%{hovertext}</b><br><br>Country=Egypt<br>year=1965<br>iso_alpha=%{location}<extra></extra>",
           "hovertext": [
            1275222.692376701
           ],
           "locations": [
            " EG"
           ],
           "name": "Egypt",
           "showlegend": true,
           "showscale": false,
           "type": "choropleth",
           "z": [
            1
           ]
          },
          {
           "colorscale": [
            [
             0,
             "#FECB52"
            ],
            [
             1,
             "#FECB52"
            ]
           ],
           "geo": "geo",
           "hovertemplate": "<b>%{hovertext}</b><br><br>Country=El Salvador<br>year=1965<br>iso_alpha=%{location}<extra></extra>",
           "hovertext": [
            393083.55421553645
           ],
           "locations": [
            " SV"
           ],
           "name": "El Salvador",
           "showlegend": true,
           "showscale": false,
           "type": "choropleth",
           "z": [
            1
           ]
          },
          {
           "colorscale": [
            [
             0,
             "#636efa"
            ],
            [
             1,
             "#636efa"
            ]
           ],
           "geo": "geo",
           "hovertemplate": "<b>%{hovertext}</b><br><br>Country=Equatorial Guinea<br>year=1965<br>iso_alpha=%{location}<extra></extra>",
           "hovertext": [
            136849.1752495304
           ],
           "locations": [
            " GQ"
           ],
           "name": "Equatorial Guinea",
           "showlegend": true,
           "showscale": false,
           "type": "choropleth",
           "z": [
            1
           ]
          },
          {
           "colorscale": [
            [
             0,
             "#EF553B"
            ],
            [
             1,
             "#EF553B"
            ]
           ],
           "geo": "geo",
           "hovertemplate": "<b>%{hovertext}</b><br><br>Country=Eritrea<br>year=1965<br>iso_alpha=%{location}<extra></extra>",
           "hovertext": [
            207096.6545622986
           ],
           "locations": [
            " ER"
           ],
           "name": "Eritrea",
           "showlegend": true,
           "showscale": false,
           "type": "choropleth",
           "z": [
            1
           ]
          },
          {
           "colorscale": [
            [
             0,
             "#00cc96"
            ],
            [
             1,
             "#00cc96"
            ]
           ],
           "geo": "geo",
           "hovertemplate": "<b>%{hovertext}</b><br><br>Country=Estonia<br>year=1965<br>iso_alpha=%{location}<extra></extra>",
           "hovertext": [
            78959.96360013615
           ],
           "locations": [
            " EE"
           ],
           "name": "Estonia",
           "showlegend": true,
           "showscale": false,
           "type": "choropleth",
           "z": [
            1
           ]
          },
          {
           "colorscale": [
            [
             0,
             "#ab63fa"
            ],
            [
             1,
             "#ab63fa"
            ]
           ],
           "geo": "geo",
           "hovertemplate": "<b>%{hovertext}</b><br><br>Country=Ethiopia<br>year=1965<br>iso_alpha=%{location}<extra></extra>",
           "hovertext": [
            4175.169684458524
           ],
           "locations": [
            " ET"
           ],
           "name": "Ethiopia",
           "showlegend": true,
           "showscale": false,
           "type": "choropleth",
           "z": [
            1
           ]
          },
          {
           "colorscale": [
            [
             0,
             "#FFA15A"
            ],
            [
             1,
             "#FFA15A"
            ]
           ],
           "geo": "geo",
           "hovertemplate": "<b>%{hovertext}</b><br><br>Country=Falkland Islands (Malvinas)<br>year=1965<br>iso_alpha=%{location}<extra></extra>",
           "hovertext": [
            1532736.112126098
           ],
           "locations": [
            " FK"
           ],
           "name": "Falkland Islands (Malvinas)",
           "showlegend": true,
           "showscale": false,
           "type": "choropleth",
           "z": [
            1
           ]
          },
          {
           "colorscale": [
            [
             0,
             "#19d3f3"
            ],
            [
             1,
             "#19d3f3"
            ]
           ],
           "geo": "geo",
           "hovertemplate": "<b>%{hovertext}</b><br><br>Country=Faroe Islands<br>year=1965<br>iso_alpha=%{location}<extra></extra>",
           "hovertext": [
            0
           ],
           "locations": [
            " FO"
           ],
           "name": "Faroe Islands",
           "showlegend": true,
           "showscale": false,
           "type": "choropleth",
           "z": [
            1
           ]
          },
          {
           "colorscale": [
            [
             0,
             "#FF6692"
            ],
            [
             1,
             "#FF6692"
            ]
           ],
           "geo": "geo",
           "hovertemplate": "<b>%{hovertext}</b><br><br>Country=Fiji<br>year=1965<br>iso_alpha=%{location}<extra></extra>",
           "hovertext": [
            5530299.152768819
           ],
           "locations": [
            " FJ"
           ],
           "name": "Fiji",
           "showlegend": true,
           "showscale": false,
           "type": "choropleth",
           "z": [
            1
           ]
          },
          {
           "colorscale": [
            [
             0,
             "#B6E880"
            ],
            [
             1,
             "#B6E880"
            ]
           ],
           "geo": "geo",
           "hovertemplate": "<b>%{hovertext}</b><br><br>Country=Finland<br>year=1965<br>iso_alpha=%{location}<extra></extra>",
           "hovertext": [
            94687.24299222231
           ],
           "locations": [
            " FI"
           ],
           "name": "Finland",
           "showlegend": true,
           "showscale": false,
           "type": "choropleth",
           "z": [
            1
           ]
          },
          {
           "colorscale": [
            [
             0,
             "#FF97FF"
            ],
            [
             1,
             "#FF97FF"
            ]
           ],
           "geo": "geo",
           "hovertemplate": "<b>%{hovertext}</b><br><br>Country=France<br>year=1965<br>iso_alpha=%{location}<extra></extra>",
           "hovertext": [
            2230025.181759331
           ],
           "locations": [
            " FR"
           ],
           "name": "France",
           "showlegend": true,
           "showscale": false,
           "type": "choropleth",
           "z": [
            1
           ]
          },
          {
           "colorscale": [
            [
             0,
             "#FECB52"
            ],
            [
             1,
             "#FECB52"
            ]
           ],
           "geo": "geo",
           "hovertemplate": "<b>%{hovertext}</b><br><br>Country=French Guiana<br>year=1965<br>iso_alpha=%{location}<extra></extra>",
           "hovertext": [
            304257.6859001815
           ],
           "locations": [
            " GF"
           ],
           "name": "French Guiana",
           "showlegend": true,
           "showscale": false,
           "type": "choropleth",
           "z": [
            1
           ]
          },
          {
           "colorscale": [
            [
             0,
             "#636efa"
            ],
            [
             1,
             "#636efa"
            ]
           ],
           "geo": "geo",
           "hovertemplate": "<b>%{hovertext}</b><br><br>Country=French Polynesia<br>year=1965<br>iso_alpha=%{location}<extra></extra>",
           "hovertext": [
            6564829.657784024
           ],
           "locations": [
            " PF"
           ],
           "name": "French Polynesia",
           "showlegend": true,
           "showscale": false,
           "type": "choropleth",
           "z": [
            1
           ]
          },
          {
           "colorscale": [
            [
             0,
             "#EF553B"
            ],
            [
             1,
             "#EF553B"
            ]
           ],
           "geo": "geo",
           "hovertemplate": "<b>%{hovertext}</b><br><br>Country=French Southern Territories<br>year=1965<br>iso_alpha=%{location}<extra></extra>",
           "hovertext": [
            119111.0688378103
           ],
           "locations": [
            " TF"
           ],
           "name": "French Southern Territories",
           "showlegend": true,
           "showscale": false,
           "type": "choropleth",
           "z": [
            1
           ]
          },
          {
           "colorscale": [
            [
             0,
             "#00cc96"
            ],
            [
             1,
             "#00cc96"
            ]
           ],
           "geo": "geo",
           "hovertemplate": "<b>%{hovertext}</b><br><br>Country=Gabon<br>year=1965<br>iso_alpha=%{location}<extra></extra>",
           "hovertext": [
            306784.5227196813
           ],
           "locations": [
            " GA"
           ],
           "name": "Gabon",
           "showlegend": true,
           "showscale": false,
           "type": "choropleth",
           "z": [
            1
           ]
          },
          {
           "colorscale": [
            [
             0,
             "#ab63fa"
            ],
            [
             1,
             "#ab63fa"
            ]
           ],
           "geo": "geo",
           "hovertemplate": "<b>%{hovertext}</b><br><br>Country=Gambia<br>year=1965<br>iso_alpha=%{location}<extra></extra>",
           "hovertext": [
            296008.03885318275
           ],
           "locations": [
            " GM"
           ],
           "name": "Gambia",
           "showlegend": true,
           "showscale": false,
           "type": "choropleth",
           "z": [
            1
           ]
          },
          {
           "colorscale": [
            [
             0,
             "#FFA15A"
            ],
            [
             1,
             "#FFA15A"
            ]
           ],
           "geo": "geo",
           "hovertemplate": "<b>%{hovertext}</b><br><br>Country=Georgia<br>year=1965<br>iso_alpha=%{location}<extra></extra>",
           "hovertext": [
            197228.6617383361
           ],
           "locations": [
            " GE"
           ],
           "name": "Georgia",
           "showlegend": true,
           "showscale": false,
           "type": "choropleth",
           "z": [
            1
           ]
          },
          {
           "colorscale": [
            [
             0,
             "#19d3f3"
            ],
            [
             1,
             "#19d3f3"
            ]
           ],
           "geo": "geo",
           "hovertemplate": "<b>%{hovertext}</b><br><br>Country=Germany<br>year=1965<br>iso_alpha=%{location}<extra></extra>",
           "hovertext": [
            172396.8216101639
           ],
           "locations": [
            " DE"
           ],
           "name": "Germany",
           "showlegend": true,
           "showscale": false,
           "type": "choropleth",
           "z": [
            1
           ]
          },
          {
           "colorscale": [
            [
             0,
             "#FF6692"
            ],
            [
             1,
             "#FF6692"
            ]
           ],
           "geo": "geo",
           "hovertemplate": "<b>%{hovertext}</b><br><br>Country=Ghana<br>year=1965<br>iso_alpha=%{location}<extra></extra>",
           "hovertext": [
            269341.4450623095
           ],
           "locations": [
            " GH"
           ],
           "name": "Ghana",
           "showlegend": true,
           "showscale": false,
           "type": "choropleth",
           "z": [
            1
           ]
          },
          {
           "colorscale": [
            [
             0,
             "#B6E880"
            ],
            [
             1,
             "#B6E880"
            ]
           ],
           "geo": "geo",
           "hovertemplate": "<b>%{hovertext}</b><br><br>Country=Gibraltar<br>year=1965<br>iso_alpha=%{location}<extra></extra>",
           "hovertext": [
            37633.73801484704
           ],
           "locations": [
            " GI"
           ],
           "name": "Gibraltar",
           "showlegend": true,
           "showscale": false,
           "type": "choropleth",
           "z": [
            1
           ]
          },
          {
           "colorscale": [
            [
             0,
             "#FF97FF"
            ],
            [
             1,
             "#FF97FF"
            ]
           ],
           "geo": "geo",
           "hovertemplate": "<b>%{hovertext}</b><br><br>Country=Greece<br>year=1965<br>iso_alpha=%{location}<extra></extra>",
           "hovertext": [
            253287.62182410242
           ],
           "locations": [
            " GR"
           ],
           "name": "Greece",
           "showlegend": true,
           "showscale": false,
           "type": "choropleth",
           "z": [
            1
           ]
          },
          {
           "colorscale": [
            [
             0,
             "#FECB52"
            ],
            [
             1,
             "#FECB52"
            ]
           ],
           "geo": "geo",
           "hovertemplate": "<b>%{hovertext}</b><br><br>Country=Greenland<br>year=1965<br>iso_alpha=%{location}<extra></extra>",
           "hovertext": [
            110543.4987694025
           ],
           "locations": [
            " GL"
           ],
           "name": "Greenland",
           "showlegend": true,
           "showscale": false,
           "type": "choropleth",
           "z": [
            1
           ]
          },
          {
           "colorscale": [
            [
             0,
             "#636efa"
            ],
            [
             1,
             "#636efa"
            ]
           ],
           "geo": "geo",
           "hovertemplate": "<b>%{hovertext}</b><br><br>Country=Grenada<br>year=1965<br>iso_alpha=%{location}<extra></extra>",
           "hovertext": [
            106037.8707479686
           ],
           "locations": [
            " GD"
           ],
           "name": "Grenada",
           "showlegend": true,
           "showscale": false,
           "type": "choropleth",
           "z": [
            1
           ]
          }
         ],
         "name": "1965"
        },
        {
         "data": [
          {
           "colorscale": [
            [
             0,
             "#EF553B"
            ],
            [
             1,
             "#EF553B"
            ]
           ],
           "geo": "geo",
           "hovertemplate": "<b>%{hovertext}</b><br><br>Country=Guadeloupe<br>year=1966<br>iso_alpha=%{location}<extra></extra>",
           "hovertext": [
            5323647.965792381
           ],
           "locations": [
            " GP"
           ],
           "name": "Guadeloupe",
           "showlegend": true,
           "showscale": false,
           "type": "choropleth",
           "z": [
            1
           ]
          },
          {
           "colorscale": [
            [
             0,
             "#00cc96"
            ],
            [
             1,
             "#00cc96"
            ]
           ],
           "geo": "geo",
           "hovertemplate": "<b>%{hovertext}</b><br><br>Country=Guam<br>year=1966<br>iso_alpha=%{location}<extra></extra>",
           "hovertext": [
            1118099.299563324
           ],
           "locations": [
            " GU"
           ],
           "name": "Guam",
           "showlegend": true,
           "showscale": false,
           "type": "choropleth",
           "z": [
            1
           ]
          },
          {
           "colorscale": [
            [
             0,
             "#ab63fa"
            ],
            [
             1,
             "#ab63fa"
            ]
           ],
           "geo": "geo",
           "hovertemplate": "<b>%{hovertext}</b><br><br>Country=Guatemala<br>year=1966<br>iso_alpha=%{location}<extra></extra>",
           "hovertext": [
            54890508.606624454
           ],
           "locations": [
            " GT"
           ],
           "name": "Guatemala",
           "showlegend": true,
           "showscale": false,
           "type": "choropleth",
           "z": [
            1
           ]
          },
          {
           "colorscale": [
            [
             0,
             "#FFA15A"
            ],
            [
             1,
             "#FFA15A"
            ]
           ],
           "geo": "geo",
           "hovertemplate": "<b>%{hovertext}</b><br><br>Country=Guernsey<br>year=1966<br>iso_alpha=%{location}<extra></extra>",
           "hovertext": [
            1221029.1430147719
           ],
           "locations": [
            " GG"
           ],
           "name": "Guernsey",
           "showlegend": true,
           "showscale": false,
           "type": "choropleth",
           "z": [
            1
           ]
          },
          {
           "colorscale": [
            [
             0,
             "#19d3f3"
            ],
            [
             1,
             "#19d3f3"
            ]
           ],
           "geo": "geo",
           "hovertemplate": "<b>%{hovertext}</b><br><br>Country=Guinea-Bissau<br>year=1966<br>iso_alpha=%{location}<extra></extra>",
           "hovertext": [
            1075608.498058341
           ],
           "locations": [
            " GW"
           ],
           "name": "Guinea-Bissau",
           "showlegend": true,
           "showscale": false,
           "type": "choropleth",
           "z": [
            1
           ]
          },
          {
           "colorscale": [
            [
             0,
             "#FF6692"
            ],
            [
             1,
             "#FF6692"
            ]
           ],
           "geo": "geo",
           "hovertemplate": "<b>%{hovertext}</b><br><br>Country=Guinea<br>year=1966<br>iso_alpha=%{location}<extra></extra>",
           "hovertext": [
            279630.66413917544
           ],
           "locations": [
            " GN"
           ],
           "name": "Guinea",
           "showlegend": true,
           "showscale": false,
           "type": "choropleth",
           "z": [
            1
           ]
          },
          {
           "colorscale": [
            [
             0,
             "#B6E880"
            ],
            [
             1,
             "#B6E880"
            ]
           ],
           "geo": "geo",
           "hovertemplate": "<b>%{hovertext}</b><br><br>Country=Guyana<br>year=1966<br>iso_alpha=%{location}<extra></extra>",
           "hovertext": [
            395738.04622101784
           ],
           "locations": [
            " GY"
           ],
           "name": "Guyana",
           "showlegend": true,
           "showscale": false,
           "type": "choropleth",
           "z": [
            1
           ]
          },
          {
           "colorscale": [
            [
             0,
             "#FF97FF"
            ],
            [
             1,
             "#FF97FF"
            ]
           ],
           "geo": "geo",
           "hovertemplate": "<b>%{hovertext}</b><br><br>Country=Haiti<br>year=1966<br>iso_alpha=%{location}<extra></extra>",
           "hovertext": [
            32804.96993102133
           ],
           "locations": [
            " HT"
           ],
           "name": "Haiti",
           "showlegend": true,
           "showscale": false,
           "type": "choropleth",
           "z": [
            1
           ]
          },
          {
           "colorscale": [
            [
             0,
             "#FECB52"
            ],
            [
             1,
             "#FECB52"
            ]
           ],
           "geo": "geo",
           "hovertemplate": "<b>%{hovertext}</b><br><br>Country=Heard Island and McDonald Islands<br>year=1966<br>iso_alpha=%{location}<extra></extra>",
           "hovertext": [
            241720.7472892806
           ],
           "locations": [
            " HM"
           ],
           "name": "Heard Island and McDonald Islands",
           "showlegend": true,
           "showscale": false,
           "type": "choropleth",
           "z": [
            1
           ]
          },
          {
           "colorscale": [
            [
             0,
             "#636efa"
            ],
            [
             1,
             "#636efa"
            ]
           ],
           "geo": "geo",
           "hovertemplate": "<b>%{hovertext}</b><br><br>Country=Holy See (Vatican City State)<br>year=1966<br>iso_alpha=%{location}<extra></extra>",
           "hovertext": [
            128798.580277443
           ],
           "locations": [
            " VA"
           ],
           "name": "Holy See (Vatican City State)",
           "showlegend": true,
           "showscale": false,
           "type": "choropleth",
           "z": [
            1
           ]
          },
          {
           "colorscale": [
            [
             0,
             "#EF553B"
            ],
            [
             1,
             "#EF553B"
            ]
           ],
           "geo": "geo",
           "hovertemplate": "<b>%{hovertext}</b><br><br>Country=Honduras<br>year=1966<br>iso_alpha=%{location}<extra></extra>",
           "hovertext": [
            695904.2313132045
           ],
           "locations": [
            " HN"
           ],
           "name": "Honduras",
           "showlegend": true,
           "showscale": false,
           "type": "choropleth",
           "z": [
            1
           ]
          },
          {
           "colorscale": [
            [
             0,
             "#00cc96"
            ],
            [
             1,
             "#00cc96"
            ]
           ],
           "geo": "geo",
           "hovertemplate": "<b>%{hovertext}</b><br><br>Country=Hong Kong<br>year=1966<br>iso_alpha=%{location}<extra></extra>",
           "hovertext": [
            163791.552060502
           ],
           "locations": [
            " HK"
           ],
           "name": "Hong Kong",
           "showlegend": true,
           "showscale": false,
           "type": "choropleth",
           "z": [
            1
           ]
          },
          {
           "colorscale": [
            [
             0,
             "#ab63fa"
            ],
            [
             1,
             "#ab63fa"
            ]
           ],
           "geo": "geo",
           "hovertemplate": "<b>%{hovertext}</b><br><br>Country=Hungary<br>year=1966<br>iso_alpha=%{location}<extra></extra>",
           "hovertext": [
            817827.4133009879
           ],
           "locations": [
            " HU"
           ],
           "name": "Hungary",
           "showlegend": true,
           "showscale": false,
           "type": "choropleth",
           "z": [
            1
           ]
          },
          {
           "colorscale": [
            [
             0,
             "#FFA15A"
            ],
            [
             1,
             "#FFA15A"
            ]
           ],
           "geo": "geo",
           "hovertemplate": "<b>%{hovertext}</b><br><br>Country=Iceland<br>year=1966<br>iso_alpha=%{location}<extra></extra>",
           "hovertext": [
            159844.58162158448
           ],
           "locations": [
            " IS"
           ],
           "name": "Iceland",
           "showlegend": true,
           "showscale": false,
           "type": "choropleth",
           "z": [
            1
           ]
          },
          {
           "colorscale": [
            [
             0,
             "#19d3f3"
            ],
            [
             1,
             "#19d3f3"
            ]
           ],
           "geo": "geo",
           "hovertemplate": "<b>%{hovertext}</b><br><br>Country=India<br>year=1966<br>iso_alpha=%{location}<extra></extra>",
           "hovertext": [
            713970.2530867564
           ],
           "locations": [
            " IN"
           ],
           "name": "India",
           "showlegend": true,
           "showscale": false,
           "type": "choropleth",
           "z": [
            1
           ]
          },
          {
           "colorscale": [
            [
             0,
             "#FF6692"
            ],
            [
             1,
             "#FF6692"
            ]
           ],
           "geo": "geo",
           "hovertemplate": "<b>%{hovertext}</b><br><br>Country=Indonesia<br>year=1966<br>iso_alpha=%{location}<extra></extra>",
           "hovertext": [
            1432292.309534461
           ],
           "locations": [
            " ID"
           ],
           "name": "Indonesia",
           "showlegend": true,
           "showscale": false,
           "type": "choropleth",
           "z": [
            1
           ]
          },
          {
           "colorscale": [
            [
             0,
             "#B6E880"
            ],
            [
             1,
             "#B6E880"
            ]
           ],
           "geo": "geo",
           "hovertemplate": "<b>%{hovertext}</b><br><br>Country=Iran, Islamic Republic of<br>year=1966<br>iso_alpha=%{location}<extra></extra>",
           "hovertext": [
            462835.5297294712
           ],
           "locations": [
            " IR"
           ],
           "name": "Iran, Islamic Republic of",
           "showlegend": true,
           "showscale": false,
           "type": "choropleth",
           "z": [
            1
           ]
          },
          {
           "colorscale": [
            [
             0,
             "#FF97FF"
            ],
            [
             1,
             "#FF97FF"
            ]
           ],
           "geo": "geo",
           "hovertemplate": "<b>%{hovertext}</b><br><br>Country=Iraq<br>year=1966<br>iso_alpha=%{location}<extra></extra>",
           "hovertext": [
            0
           ],
           "locations": [
            " IQ"
           ],
           "name": "Iraq",
           "showlegend": true,
           "showscale": false,
           "type": "choropleth",
           "z": [
            1
           ]
          },
          {
           "colorscale": [
            [
             0,
             "#FECB52"
            ],
            [
             1,
             "#FECB52"
            ]
           ],
           "geo": "geo",
           "hovertemplate": "<b>%{hovertext}</b><br><br>Country=Ireland<br>year=1966<br>iso_alpha=%{location}<extra></extra>",
           "hovertext": [
            19219.07626092434
           ],
           "locations": [
            " IE"
           ],
           "name": "Ireland",
           "showlegend": true,
           "showscale": false,
           "type": "choropleth",
           "z": [
            1
           ]
          },
          {
           "colorscale": [
            [
             0,
             "#636efa"
            ],
            [
             1,
             "#636efa"
            ]
           ],
           "geo": "geo",
           "hovertemplate": "<b>%{hovertext}</b><br><br>Country=Isle of Man<br>year=1966<br>iso_alpha=%{location}<extra></extra>",
           "hovertext": [
            1700224.255407953
           ],
           "locations": [
            " IM"
           ],
           "name": "Isle of Man",
           "showlegend": true,
           "showscale": false,
           "type": "choropleth",
           "z": [
            1
           ]
          },
          {
           "colorscale": [
            [
             0,
             "#EF553B"
            ],
            [
             1,
             "#EF553B"
            ]
           ],
           "geo": "geo",
           "hovertemplate": "<b>%{hovertext}</b><br><br>Country=Israel<br>year=1966<br>iso_alpha=%{location}<extra></extra>",
           "hovertext": [
            680613.875418203
           ],
           "locations": [
            " IL"
           ],
           "name": "Israel",
           "showlegend": true,
           "showscale": false,
           "type": "choropleth",
           "z": [
            1
           ]
          },
          {
           "colorscale": [
            [
             0,
             "#00cc96"
            ],
            [
             1,
             "#00cc96"
            ]
           ],
           "geo": "geo",
           "hovertemplate": "<b>%{hovertext}</b><br><br>Country=Italy<br>year=1966<br>iso_alpha=%{location}<extra></extra>",
           "hovertext": [
            0
           ],
           "locations": [
            " IT"
           ],
           "name": "Italy",
           "showlegend": true,
           "showscale": false,
           "type": "choropleth",
           "z": [
            1
           ]
          },
          {
           "colorscale": [
            [
             0,
             "#ab63fa"
            ],
            [
             1,
             "#ab63fa"
            ]
           ],
           "geo": "geo",
           "hovertemplate": "<b>%{hovertext}</b><br><br>Country=Ivory Coast<br>year=1966<br>iso_alpha=%{location}<extra></extra>",
           "hovertext": [
            472914.5169258118
           ],
           "locations": [
            " CI"
           ],
           "name": "Ivory Coast",
           "showlegend": true,
           "showscale": false,
           "type": "choropleth",
           "z": [
            1
           ]
          },
          {
           "colorscale": [
            [
             0,
             "#FFA15A"
            ],
            [
             1,
             "#FFA15A"
            ]
           ],
           "geo": "geo",
           "hovertemplate": "<b>%{hovertext}</b><br><br>Country=Jamaica<br>year=1966<br>iso_alpha=%{location}<extra></extra>",
           "hovertext": [
            4828740.435815993
           ],
           "locations": [
            " JM"
           ],
           "name": "Jamaica",
           "showlegend": true,
           "showscale": false,
           "type": "choropleth",
           "z": [
            1
           ]
          },
          {
           "colorscale": [
            [
             0,
             "#19d3f3"
            ],
            [
             1,
             "#19d3f3"
            ]
           ],
           "geo": "geo",
           "hovertemplate": "<b>%{hovertext}</b><br><br>Country=Japan<br>year=1966<br>iso_alpha=%{location}<extra></extra>",
           "hovertext": [
            10717204.36216522
           ],
           "locations": [
            " JP"
           ],
           "name": "Japan",
           "showlegend": true,
           "showscale": false,
           "type": "choropleth",
           "z": [
            1
           ]
          },
          {
           "colorscale": [
            [
             0,
             "#FF6692"
            ],
            [
             1,
             "#FF6692"
            ]
           ],
           "geo": "geo",
           "hovertemplate": "<b>%{hovertext}</b><br><br>Country=Jersey<br>year=1966<br>iso_alpha=%{location}<extra></extra>",
           "hovertext": [
            311940.2378797531
           ],
           "locations": [
            " JE"
           ],
           "name": "Jersey",
           "showlegend": true,
           "showscale": false,
           "type": "choropleth",
           "z": [
            1
           ]
          },
          {
           "colorscale": [
            [
             0,
             "#B6E880"
            ],
            [
             1,
             "#B6E880"
            ]
           ],
           "geo": "geo",
           "hovertemplate": "<b>%{hovertext}</b><br><br>Country=Jordan<br>year=1966<br>iso_alpha=%{location}<extra></extra>",
           "hovertext": [
            674866.2607137859
           ],
           "locations": [
            " JO"
           ],
           "name": "Jordan",
           "showlegend": true,
           "showscale": false,
           "type": "choropleth",
           "z": [
            1
           ]
          },
          {
           "colorscale": [
            [
             0,
             "#FF97FF"
            ],
            [
             1,
             "#FF97FF"
            ]
           ],
           "geo": "geo",
           "hovertemplate": "<b>%{hovertext}</b><br><br>Country=Kazakhstan<br>year=1966<br>iso_alpha=%{location}<extra></extra>",
           "hovertext": [
            28627.20565462951
           ],
           "locations": [
            " KZ"
           ],
           "name": "Kazakhstan",
           "showlegend": true,
           "showscale": false,
           "type": "choropleth",
           "z": [
            1
           ]
          },
          {
           "colorscale": [
            [
             0,
             "#FECB52"
            ],
            [
             1,
             "#FECB52"
            ]
           ],
           "geo": "geo",
           "hovertemplate": "<b>%{hovertext}</b><br><br>Country=Kenya<br>year=1966<br>iso_alpha=%{location}<extra></extra>",
           "hovertext": [
            272903.1657800078
           ],
           "locations": [
            " KE"
           ],
           "name": "Kenya",
           "showlegend": true,
           "showscale": false,
           "type": "choropleth",
           "z": [
            1
           ]
          },
          {
           "colorscale": [
            [
             0,
             "#636efa"
            ],
            [
             1,
             "#636efa"
            ]
           ],
           "geo": "geo",
           "hovertemplate": "<b>%{hovertext}</b><br><br>Country=Kiribati<br>year=1966<br>iso_alpha=%{location}<extra></extra>",
           "hovertext": [
            3629895.659018993
           ],
           "locations": [
            " KI"
           ],
           "name": "Kiribati",
           "showlegend": true,
           "showscale": false,
           "type": "choropleth",
           "z": [
            1
           ]
          },
          {
           "colorscale": [
            [
             0,
             "#EF553B"
            ],
            [
             1,
             "#EF553B"
            ]
           ],
           "geo": "geo",
           "hovertemplate": "<b>%{hovertext}</b><br><br>Country=Korea, Democratic People's Republic of<br>year=1966<br>iso_alpha=%{location}<extra></extra>",
           "hovertext": [
            0
           ],
           "locations": [
            " KP"
           ],
           "name": "Korea, Democratic People's Republic of",
           "showlegend": true,
           "showscale": false,
           "type": "choropleth",
           "z": [
            1
           ]
          },
          {
           "colorscale": [
            [
             0,
             "#00cc96"
            ],
            [
             1,
             "#00cc96"
            ]
           ],
           "geo": "geo",
           "hovertemplate": "<b>%{hovertext}</b><br><br>Country=Korea, Republic of<br>year=1966<br>iso_alpha=%{location}<extra></extra>",
           "hovertext": [
            0
           ],
           "locations": [
            " KR"
           ],
           "name": "Korea, Republic of",
           "showlegend": true,
           "showscale": false,
           "type": "choropleth",
           "z": [
            1
           ]
          },
          {
           "colorscale": [
            [
             0,
             "#ab63fa"
            ],
            [
             1,
             "#ab63fa"
            ]
           ],
           "geo": "geo",
           "hovertemplate": "<b>%{hovertext}</b><br><br>Country=Kosovo<br>year=1966<br>iso_alpha=%{location}<extra></extra>",
           "hovertext": [
            144205.9813416563
           ],
           "locations": [
            " XK"
           ],
           "name": "Kosovo",
           "showlegend": true,
           "showscale": false,
           "type": "choropleth",
           "z": [
            1
           ]
          },
          {
           "colorscale": [
            [
             0,
             "#FFA15A"
            ],
            [
             1,
             "#FFA15A"
            ]
           ],
           "geo": "geo",
           "hovertemplate": "<b>%{hovertext}</b><br><br>Country=Kuwait<br>year=1966<br>iso_alpha=%{location}<extra></extra>",
           "hovertext": [
            1596158.757686615
           ],
           "locations": [
            " KW"
           ],
           "name": "Kuwait",
           "showlegend": true,
           "showscale": false,
           "type": "choropleth",
           "z": [
            1
           ]
          },
          {
           "colorscale": [
            [
             0,
             "#19d3f3"
            ],
            [
             1,
             "#19d3f3"
            ]
           ],
           "geo": "geo",
           "hovertemplate": "<b>%{hovertext}</b><br><br>Country=Kyrgyzstan<br>year=1966<br>iso_alpha=%{location}<extra></extra>",
           "hovertext": [
            0
           ],
           "locations": [
            " KG"
           ],
           "name": "Kyrgyzstan",
           "showlegend": true,
           "showscale": false,
           "type": "choropleth",
           "z": [
            1
           ]
          },
          {
           "colorscale": [
            [
             0,
             "#FF6692"
            ],
            [
             1,
             "#FF6692"
            ]
           ],
           "geo": "geo",
           "hovertemplate": "<b>%{hovertext}</b><br><br>Country=Lao People's Democratic Republic<br>year=1966<br>iso_alpha=%{location}<extra></extra>",
           "hovertext": [
            793417.2600507736
           ],
           "locations": [
            " LA"
           ],
           "name": "Lao People's Democratic Republic",
           "showlegend": true,
           "showscale": false,
           "type": "choropleth",
           "z": [
            1
           ]
          },
          {
           "colorscale": [
            [
             0,
             "#B6E880"
            ],
            [
             1,
             "#B6E880"
            ]
           ],
           "geo": "geo",
           "hovertemplate": "<b>%{hovertext}</b><br><br>Country=Latvia<br>year=1966<br>iso_alpha=%{location}<extra></extra>",
           "hovertext": [
            2848241.465457399
           ],
           "locations": [
            " LV"
           ],
           "name": "Latvia",
           "showlegend": true,
           "showscale": false,
           "type": "choropleth",
           "z": [
            1
           ]
          },
          {
           "colorscale": [
            [
             0,
             "#FF97FF"
            ],
            [
             1,
             "#FF97FF"
            ]
           ],
           "geo": "geo",
           "hovertemplate": "<b>%{hovertext}</b><br><br>Country=Lebanon<br>year=1966<br>iso_alpha=%{location}<extra></extra>",
           "hovertext": [
            196403.6507997662
           ],
           "locations": [
            " LB"
           ],
           "name": "Lebanon",
           "showlegend": true,
           "showscale": false,
           "type": "choropleth",
           "z": [
            1
           ]
          },
          {
           "colorscale": [
            [
             0,
             "#FECB52"
            ],
            [
             1,
             "#FECB52"
            ]
           ],
           "geo": "geo",
           "hovertemplate": "<b>%{hovertext}</b><br><br>Country=Lesotho<br>year=1966<br>iso_alpha=%{location}<extra></extra>",
           "hovertext": [
            1070171.538716066
           ],
           "locations": [
            " LS"
           ],
           "name": "Lesotho",
           "showlegend": true,
           "showscale": false,
           "type": "choropleth",
           "z": [
            1
           ]
          },
          {
           "colorscale": [
            [
             0,
             "#636efa"
            ],
            [
             1,
             "#636efa"
            ]
           ],
           "geo": "geo",
           "hovertemplate": "<b>%{hovertext}</b><br><br>Country=Liberia<br>year=1966<br>iso_alpha=%{location}<extra></extra>",
           "hovertext": [
            398100.9338307238
           ],
           "locations": [
            " LR"
           ],
           "name": "Liberia",
           "showlegend": true,
           "showscale": false,
           "type": "choropleth",
           "z": [
            1
           ]
          },
          {
           "colorscale": [
            [
             0,
             "#EF553B"
            ],
            [
             1,
             "#EF553B"
            ]
           ],
           "geo": "geo",
           "hovertemplate": "<b>%{hovertext}</b><br><br>Country=Libya<br>year=1966<br>iso_alpha=%{location}<extra></extra>",
           "hovertext": [
            0
           ],
           "locations": [
            " LY"
           ],
           "name": "Libya",
           "showlegend": true,
           "showscale": false,
           "type": "choropleth",
           "z": [
            1
           ]
          },
          {
           "colorscale": [
            [
             0,
             "#00cc96"
            ],
            [
             1,
             "#00cc96"
            ]
           ],
           "geo": "geo",
           "hovertemplate": "<b>%{hovertext}</b><br><br>Country=Libyan Arab Jamahiriya<br>year=1966<br>iso_alpha=%{location}<extra></extra>",
           "hovertext": [
            1374489.575624466
           ],
           "locations": [
            " LY"
           ],
           "name": "Libyan Arab Jamahiriya",
           "showlegend": true,
           "showscale": false,
           "type": "choropleth",
           "z": [
            1
           ]
          },
          {
           "colorscale": [
            [
             0,
             "#ab63fa"
            ],
            [
             1,
             "#ab63fa"
            ]
           ],
           "geo": "geo",
           "hovertemplate": "<b>%{hovertext}</b><br><br>Country=Liechtenstein<br>year=1966<br>iso_alpha=%{location}<extra></extra>",
           "hovertext": [
            1508526.935125701
           ],
           "locations": [
            " LI"
           ],
           "name": "Liechtenstein",
           "showlegend": true,
           "showscale": false,
           "type": "choropleth",
           "z": [
            1
           ]
          },
          {
           "colorscale": [
            [
             0,
             "#FFA15A"
            ],
            [
             1,
             "#FFA15A"
            ]
           ],
           "geo": "geo",
           "hovertemplate": "<b>%{hovertext}</b><br><br>Country=Lithuania<br>year=1966<br>iso_alpha=%{location}<extra></extra>",
           "hovertext": [
            705975.0594198704
           ],
           "locations": [
            " LT"
           ],
           "name": "Lithuania",
           "showlegend": true,
           "showscale": false,
           "type": "choropleth",
           "z": [
            1
           ]
          },
          {
           "colorscale": [
            [
             0,
             "#19d3f3"
            ],
            [
             1,
             "#19d3f3"
            ]
           ],
           "geo": "geo",
           "hovertemplate": "<b>%{hovertext}</b><br><br>Country=Luxembourg<br>year=1966<br>iso_alpha=%{location}<extra></extra>",
           "hovertext": [
            377698.385505937
           ],
           "locations": [
            " LU"
           ],
           "name": "Luxembourg",
           "showlegend": true,
           "showscale": false,
           "type": "choropleth",
           "z": [
            1
           ]
          },
          {
           "colorscale": [
            [
             0,
             "#FF6692"
            ],
            [
             1,
             "#FF6692"
            ]
           ],
           "geo": "geo",
           "hovertemplate": "<b>%{hovertext}</b><br><br>Country=Macao<br>year=1966<br>iso_alpha=%{location}<extra></extra>",
           "hovertext": [
            0
           ],
           "locations": [
            " MO"
           ],
           "name": "Macao",
           "showlegend": true,
           "showscale": false,
           "type": "choropleth",
           "z": [
            1
           ]
          },
          {
           "colorscale": [
            [
             0,
             "#B6E880"
            ],
            [
             1,
             "#B6E880"
            ]
           ],
           "geo": "geo",
           "hovertemplate": "<b>%{hovertext}</b><br><br>Country=Macedonia, the former Yugoslav Republic of<br>year=1966<br>iso_alpha=%{location}<extra></extra>",
           "hovertext": [
            8378999.706131866
           ],
           "locations": [
            " MK"
           ],
           "name": "Macedonia, the former Yugoslav Republic of",
           "showlegend": true,
           "showscale": false,
           "type": "choropleth",
           "z": [
            1
           ]
          },
          {
           "colorscale": [
            [
             0,
             "#FF97FF"
            ],
            [
             1,
             "#FF97FF"
            ]
           ],
           "geo": "geo",
           "hovertemplate": "<b>%{hovertext}</b><br><br>Country=Madagascar<br>year=1966<br>iso_alpha=%{location}<extra></extra>",
           "hovertext": [
            701410.8371654133
           ],
           "locations": [
            " MG"
           ],
           "name": "Madagascar",
           "showlegend": true,
           "showscale": false,
           "type": "choropleth",
           "z": [
            1
           ]
          },
          {
           "colorscale": [
            [
             0,
             "#FECB52"
            ],
            [
             1,
             "#FECB52"
            ]
           ],
           "geo": "geo",
           "hovertemplate": "<b>%{hovertext}</b><br><br>Country=Malawi<br>year=1966<br>iso_alpha=%{location}<extra></extra>",
           "hovertext": [
            0
           ],
           "locations": [
            " MW"
           ],
           "name": "Malawi",
           "showlegend": true,
           "showscale": false,
           "type": "choropleth",
           "z": [
            1
           ]
          },
          {
           "colorscale": [
            [
             0,
             "#636efa"
            ],
            [
             1,
             "#636efa"
            ]
           ],
           "geo": "geo",
           "hovertemplate": "<b>%{hovertext}</b><br><br>Country=Malaysia<br>year=1966<br>iso_alpha=%{location}<extra></extra>",
           "hovertext": [
            0
           ],
           "locations": [
            " MY"
           ],
           "name": "Malaysia",
           "showlegend": true,
           "showscale": false,
           "type": "choropleth",
           "z": [
            1
           ]
          },
          {
           "colorscale": [
            [
             0,
             "#EF553B"
            ],
            [
             1,
             "#EF553B"
            ]
           ],
           "geo": "geo",
           "hovertemplate": "<b>%{hovertext}</b><br><br>Country=Maldives<br>year=1966<br>iso_alpha=%{location}<extra></extra>",
           "hovertext": [
            0
           ],
           "locations": [
            " MV"
           ],
           "name": "Maldives",
           "showlegend": true,
           "showscale": false,
           "type": "choropleth",
           "z": [
            1
           ]
          },
          {
           "colorscale": [
            [
             0,
             "#00cc96"
            ],
            [
             1,
             "#00cc96"
            ]
           ],
           "geo": "geo",
           "hovertemplate": "<b>%{hovertext}</b><br><br>Country=Mali<br>year=1966<br>iso_alpha=%{location}<extra></extra>",
           "hovertext": [
            0
           ],
           "locations": [
            " ML"
           ],
           "name": "Mali",
           "showlegend": true,
           "showscale": false,
           "type": "choropleth",
           "z": [
            1
           ]
          },
          {
           "colorscale": [
            [
             0,
             "#ab63fa"
            ],
            [
             1,
             "#ab63fa"
            ]
           ],
           "geo": "geo",
           "hovertemplate": "<b>%{hovertext}</b><br><br>Country=Malta<br>year=1966<br>iso_alpha=%{location}<extra></extra>",
           "hovertext": [
            0
           ],
           "locations": [
            " MT"
           ],
           "name": "Malta",
           "showlegend": true,
           "showscale": false,
           "type": "choropleth",
           "z": [
            1
           ]
          },
          {
           "colorscale": [
            [
             0,
             "#FFA15A"
            ],
            [
             1,
             "#FFA15A"
            ]
           ],
           "geo": "geo",
           "hovertemplate": "<b>%{hovertext}</b><br><br>Country=Marshall Islands<br>year=1966<br>iso_alpha=%{location}<extra></extra>",
           "hovertext": [
            26482380.2372174
           ],
           "locations": [
            " MH"
           ],
           "name": "Marshall Islands",
           "showlegend": true,
           "showscale": false,
           "type": "choropleth",
           "z": [
            1
           ]
          },
          {
           "colorscale": [
            [
             0,
             "#19d3f3"
            ],
            [
             1,
             "#19d3f3"
            ]
           ],
           "geo": "geo",
           "hovertemplate": "<b>%{hovertext}</b><br><br>Country=Martinique<br>year=1966<br>iso_alpha=%{location}<extra></extra>",
           "hovertext": [
            0
           ],
           "locations": [
            " MQ"
           ],
           "name": "Martinique",
           "showlegend": true,
           "showscale": false,
           "type": "choropleth",
           "z": [
            1
           ]
          },
          {
           "colorscale": [
            [
             0,
             "#FF6692"
            ],
            [
             1,
             "#FF6692"
            ]
           ],
           "geo": "geo",
           "hovertemplate": "<b>%{hovertext}</b><br><br>Country=Mauritania<br>year=1966<br>iso_alpha=%{location}<extra></extra>",
           "hovertext": [
            0
           ],
           "locations": [
            " MR"
           ],
           "name": "Mauritania",
           "showlegend": true,
           "showscale": false,
           "type": "choropleth",
           "z": [
            1
           ]
          },
          {
           "colorscale": [
            [
             0,
             "#B6E880"
            ],
            [
             1,
             "#B6E880"
            ]
           ],
           "geo": "geo",
           "hovertemplate": "<b>%{hovertext}</b><br><br>Country=Mauritius<br>year=1966<br>iso_alpha=%{location}<extra></extra>",
           "hovertext": [
            381732.61494826636
           ],
           "locations": [
            " MU"
           ],
           "name": "Mauritius",
           "showlegend": true,
           "showscale": false,
           "type": "choropleth",
           "z": [
            1
           ]
          },
          {
           "colorscale": [
            [
             0,
             "#FF97FF"
            ],
            [
             1,
             "#FF97FF"
            ]
           ],
           "geo": "geo",
           "hovertemplate": "<b>%{hovertext}</b><br><br>Country=Mayotte<br>year=1966<br>iso_alpha=%{location}<extra></extra>",
           "hovertext": [
            91338.95395430326
           ],
           "locations": [
            " YT"
           ],
           "name": "Mayotte",
           "showlegend": true,
           "showscale": false,
           "type": "choropleth",
           "z": [
            1
           ]
          },
          {
           "colorscale": [
            [
             0,
             "#FECB52"
            ],
            [
             1,
             "#FECB52"
            ]
           ],
           "geo": "geo",
           "hovertemplate": "<b>%{hovertext}</b><br><br>Country=Mexico<br>year=1966<br>iso_alpha=%{location}<extra></extra>",
           "hovertext": [
            153539.9209835466
           ],
           "locations": [
            " MX"
           ],
           "name": "Mexico",
           "showlegend": true,
           "showscale": false,
           "type": "choropleth",
           "z": [
            1
           ]
          },
          {
           "colorscale": [
            [
             0,
             "#636efa"
            ],
            [
             1,
             "#636efa"
            ]
           ],
           "geo": "geo",
           "hovertemplate": "<b>%{hovertext}</b><br><br>Country=Micronesia, Federated States of<br>year=1966<br>iso_alpha=%{location}<extra></extra>",
           "hovertext": [
            298373.19395160675
           ],
           "locations": [
            " FM"
           ],
           "name": "Micronesia, Federated States of",
           "showlegend": true,
           "showscale": false,
           "type": "choropleth",
           "z": [
            1
           ]
          },
          {
           "colorscale": [
            [
             0,
             "#EF553B"
            ],
            [
             1,
             "#EF553B"
            ]
           ],
           "geo": "geo",
           "hovertemplate": "<b>%{hovertext}</b><br><br>Country=Moldova, Republic of<br>year=1966<br>iso_alpha=%{location}<extra></extra>",
           "hovertext": [
            438.6999935377389
           ],
           "locations": [
            " MD"
           ],
           "name": "Moldova, Republic of",
           "showlegend": true,
           "showscale": false,
           "type": "choropleth",
           "z": [
            1
           ]
          },
          {
           "colorscale": [
            [
             0,
             "#00cc96"
            ],
            [
             1,
             "#00cc96"
            ]
           ],
           "geo": "geo",
           "hovertemplate": "<b>%{hovertext}</b><br><br>Country=Monaco<br>year=1966<br>iso_alpha=%{location}<extra></extra>",
           "hovertext": [
            5114.5119310390955
           ],
           "locations": [
            " MC"
           ],
           "name": "Monaco",
           "showlegend": true,
           "showscale": false,
           "type": "choropleth",
           "z": [
            1
           ]
          },
          {
           "colorscale": [
            [
             0,
             "#ab63fa"
            ],
            [
             1,
             "#ab63fa"
            ]
           ],
           "geo": "geo",
           "hovertemplate": "<b>%{hovertext}</b><br><br>Country=Mongolia<br>year=1966<br>iso_alpha=%{location}<extra></extra>",
           "hovertext": [
            857957.7444953918
           ],
           "locations": [
            " MN"
           ],
           "name": "Mongolia",
           "showlegend": true,
           "showscale": false,
           "type": "choropleth",
           "z": [
            1
           ]
          },
          {
           "colorscale": [
            [
             0,
             "#FFA15A"
            ],
            [
             1,
             "#FFA15A"
            ]
           ],
           "geo": "geo",
           "hovertemplate": "<b>%{hovertext}</b><br><br>Country=Montenegro<br>year=1966<br>iso_alpha=%{location}<extra></extra>",
           "hovertext": [
            3283.348167315125
           ],
           "locations": [
            " ME"
           ],
           "name": "Montenegro",
           "showlegend": true,
           "showscale": false,
           "type": "choropleth",
           "z": [
            1
           ]
          },
          {
           "colorscale": [
            [
             0,
             "#19d3f3"
            ],
            [
             1,
             "#19d3f3"
            ]
           ],
           "geo": "geo",
           "hovertemplate": "<b>%{hovertext}</b><br><br>Country=Montserrat<br>year=1966<br>iso_alpha=%{location}<extra></extra>",
           "hovertext": [
            225180.0532831987
           ],
           "locations": [
            " MS"
           ],
           "name": "Montserrat",
           "showlegend": true,
           "showscale": false,
           "type": "choropleth",
           "z": [
            1
           ]
          },
          {
           "colorscale": [
            [
             0,
             "#FF6692"
            ],
            [
             1,
             "#FF6692"
            ]
           ],
           "geo": "geo",
           "hovertemplate": "<b>%{hovertext}</b><br><br>Country=Morocco<br>year=1966<br>iso_alpha=%{location}<extra></extra>",
           "hovertext": [
            107397.0938284725
           ],
           "locations": [
            " MA"
           ],
           "name": "Morocco",
           "showlegend": true,
           "showscale": false,
           "type": "choropleth",
           "z": [
            1
           ]
          },
          {
           "colorscale": [
            [
             0,
             "#B6E880"
            ],
            [
             1,
             "#B6E880"
            ]
           ],
           "geo": "geo",
           "hovertemplate": "<b>%{hovertext}</b><br><br>Country=Mozambique<br>year=1966<br>iso_alpha=%{location}<extra></extra>",
           "hovertext": [
            347265.88859715464
           ],
           "locations": [
            " MZ"
           ],
           "name": "Mozambique",
           "showlegend": true,
           "showscale": false,
           "type": "choropleth",
           "z": [
            1
           ]
          },
          {
           "colorscale": [
            [
             0,
             "#FF97FF"
            ],
            [
             1,
             "#FF97FF"
            ]
           ],
           "geo": "geo",
           "hovertemplate": "<b>%{hovertext}</b><br><br>Country=Myanmar<br>year=1966<br>iso_alpha=%{location}<extra></extra>",
           "hovertext": [
            84186.58897877931
           ],
           "locations": [
            " MM"
           ],
           "name": "Myanmar",
           "showlegend": true,
           "showscale": false,
           "type": "choropleth",
           "z": [
            1
           ]
          },
          {
           "colorscale": [
            [
             0,
             "#FECB52"
            ],
            [
             1,
             "#FECB52"
            ]
           ],
           "geo": "geo",
           "hovertemplate": "<b>%{hovertext}</b><br><br>Country=Namibia<br>year=1966<br>iso_alpha=%{location}<extra></extra>",
           "hovertext": [
            1283144.233340863
           ],
           "locations": [
            " NA"
           ],
           "name": "Namibia",
           "showlegend": true,
           "showscale": false,
           "type": "choropleth",
           "z": [
            1
           ]
          },
          {
           "colorscale": [
            [
             0,
             "#636efa"
            ],
            [
             1,
             "#636efa"
            ]
           ],
           "geo": "geo",
           "hovertemplate": "<b>%{hovertext}</b><br><br>Country=Nauru<br>year=1966<br>iso_alpha=%{location}<extra></extra>",
           "hovertext": [
            429445.1663869995
           ],
           "locations": [
            " NR"
           ],
           "name": "Nauru",
           "showlegend": true,
           "showscale": false,
           "type": "choropleth",
           "z": [
            1
           ]
          },
          {
           "colorscale": [
            [
             0,
             "#EF553B"
            ],
            [
             1,
             "#EF553B"
            ]
           ],
           "geo": "geo",
           "hovertemplate": "<b>%{hovertext}</b><br><br>Country=Nepal<br>year=1966<br>iso_alpha=%{location}<extra></extra>",
           "hovertext": [
            140716.57288642589
           ],
           "locations": [
            " NP"
           ],
           "name": "Nepal",
           "showlegend": true,
           "showscale": false,
           "type": "choropleth",
           "z": [
            1
           ]
          },
          {
           "colorscale": [
            [
             0,
             "#00cc96"
            ],
            [
             1,
             "#00cc96"
            ]
           ],
           "geo": "geo",
           "hovertemplate": "<b>%{hovertext}</b><br><br>Country=Netherlands Antilles<br>year=1966<br>iso_alpha=%{location}<extra></extra>",
           "hovertext": [
            219226.0257351078
           ],
           "locations": [
            " AN"
           ],
           "name": "Netherlands Antilles",
           "showlegend": true,
           "showscale": false,
           "type": "choropleth",
           "z": [
            1
           ]
          },
          {
           "colorscale": [
            [
             0,
             "#ab63fa"
            ],
            [
             1,
             "#ab63fa"
            ]
           ],
           "geo": "geo",
           "hovertemplate": "<b>%{hovertext}</b><br><br>Country=Netherlands<br>year=1966<br>iso_alpha=%{location}<extra></extra>",
           "hovertext": [
            83726.26498305127
           ],
           "locations": [
            " NL"
           ],
           "name": "Netherlands",
           "showlegend": true,
           "showscale": false,
           "type": "choropleth",
           "z": [
            1
           ]
          },
          {
           "colorscale": [
            [
             0,
             "#FFA15A"
            ],
            [
             1,
             "#FFA15A"
            ]
           ],
           "geo": "geo",
           "hovertemplate": "<b>%{hovertext}</b><br><br>Country=New Caledonia<br>year=1966<br>iso_alpha=%{location}<extra></extra>",
           "hovertext": [
            5371.750914491713
           ],
           "locations": [
            " NC"
           ],
           "name": "New Caledonia",
           "showlegend": true,
           "showscale": false,
           "type": "choropleth",
           "z": [
            1
           ]
          },
          {
           "colorscale": [
            [
             0,
             "#19d3f3"
            ],
            [
             1,
             "#19d3f3"
            ]
           ],
           "geo": "geo",
           "hovertemplate": "<b>%{hovertext}</b><br><br>Country=New Zealand<br>year=1966<br>iso_alpha=%{location}<extra></extra>",
           "hovertext": [
            1605965.501156877
           ],
           "locations": [
            " NZ"
           ],
           "name": "New Zealand",
           "showlegend": true,
           "showscale": false,
           "type": "choropleth",
           "z": [
            1
           ]
          },
          {
           "colorscale": [
            [
             0,
             "#FF6692"
            ],
            [
             1,
             "#FF6692"
            ]
           ],
           "geo": "geo",
           "hovertemplate": "<b>%{hovertext}</b><br><br>Country=Nicaragua<br>year=1966<br>iso_alpha=%{location}<extra></extra>",
           "hovertext": [
            0
           ],
           "locations": [
            " NI"
           ],
           "name": "Nicaragua",
           "showlegend": true,
           "showscale": false,
           "type": "choropleth",
           "z": [
            1
           ]
          },
          {
           "colorscale": [
            [
             0,
             "#B6E880"
            ],
            [
             1,
             "#B6E880"
            ]
           ],
           "geo": "geo",
           "hovertemplate": "<b>%{hovertext}</b><br><br>Country=Niger<br>year=1966<br>iso_alpha=%{location}<extra></extra>",
           "hovertext": [
            6009508.570054991
           ],
           "locations": [
            " NE"
           ],
           "name": "Niger",
           "showlegend": true,
           "showscale": false,
           "type": "choropleth",
           "z": [
            1
           ]
          },
          {
           "colorscale": [
            [
             0,
             "#FF97FF"
            ],
            [
             1,
             "#FF97FF"
            ]
           ],
           "geo": "geo",
           "hovertemplate": "<b>%{hovertext}</b><br><br>Country=Nigeria<br>year=1966<br>iso_alpha=%{location}<extra></extra>",
           "hovertext": [
            102692.9570361972
           ],
           "locations": [
            " NG"
           ],
           "name": "Nigeria",
           "showlegend": true,
           "showscale": false,
           "type": "choropleth",
           "z": [
            1
           ]
          },
          {
           "colorscale": [
            [
             0,
             "#FECB52"
            ],
            [
             1,
             "#FECB52"
            ]
           ],
           "geo": "geo",
           "hovertemplate": "<b>%{hovertext}</b><br><br>Country=Niue<br>year=1966<br>iso_alpha=%{location}<extra></extra>",
           "hovertext": [
            2298289.7831083992
           ],
           "locations": [
            " NU"
           ],
           "name": "Niue",
           "showlegend": true,
           "showscale": false,
           "type": "choropleth",
           "z": [
            1
           ]
          },
          {
           "colorscale": [
            [
             0,
             "#636efa"
            ],
            [
             1,
             "#636efa"
            ]
           ],
           "geo": "geo",
           "hovertemplate": "<b>%{hovertext}</b><br><br>Country=Norfolk Island<br>year=1966<br>iso_alpha=%{location}<extra></extra>",
           "hovertext": [
            302025.9117586255
           ],
           "locations": [
            " NF"
           ],
           "name": "Norfolk Island",
           "showlegend": true,
           "showscale": false,
           "type": "choropleth",
           "z": [
            1
           ]
          },
          {
           "colorscale": [
            [
             0,
             "#EF553B"
            ],
            [
             1,
             "#EF553B"
            ]
           ],
           "geo": "geo",
           "hovertemplate": "<b>%{hovertext}</b><br><br>Country=Northern Mariana Islands<br>year=1966<br>iso_alpha=%{location}<extra></extra>",
           "hovertext": [
            7249915.779611742
           ],
           "locations": [
            " MP"
           ],
           "name": "Northern Mariana Islands",
           "showlegend": true,
           "showscale": false,
           "type": "choropleth",
           "z": [
            1
           ]
          },
          {
           "colorscale": [
            [
             0,
             "#00cc96"
            ],
            [
             1,
             "#00cc96"
            ]
           ],
           "geo": "geo",
           "hovertemplate": "<b>%{hovertext}</b><br><br>Country=Norway<br>year=1966<br>iso_alpha=%{location}<extra></extra>",
           "hovertext": [
            137780.9862024151
           ],
           "locations": [
            " NO"
           ],
           "name": "Norway",
           "showlegend": true,
           "showscale": false,
           "type": "choropleth",
           "z": [
            1
           ]
          },
          {
           "colorscale": [
            [
             0,
             "#ab63fa"
            ],
            [
             1,
             "#ab63fa"
            ]
           ],
           "geo": "geo",
           "hovertemplate": "<b>%{hovertext}</b><br><br>Country=Oman<br>year=1966<br>iso_alpha=%{location}<extra></extra>",
           "hovertext": [
            325977.1773591638
           ],
           "locations": [
            " OM"
           ],
           "name": "Oman",
           "showlegend": true,
           "showscale": false,
           "type": "choropleth",
           "z": [
            1
           ]
          },
          {
           "colorscale": [
            [
             0,
             "#FFA15A"
            ],
            [
             1,
             "#FFA15A"
            ]
           ],
           "geo": "geo",
           "hovertemplate": "<b>%{hovertext}</b><br><br>Country=Pakistan<br>year=1966<br>iso_alpha=%{location}<extra></extra>",
           "hovertext": [
            298226.5798185492
           ],
           "locations": [
            " PK"
           ],
           "name": "Pakistan",
           "showlegend": true,
           "showscale": false,
           "type": "choropleth",
           "z": [
            1
           ]
          },
          {
           "colorscale": [
            [
             0,
             "#19d3f3"
            ],
            [
             1,
             "#19d3f3"
            ]
           ],
           "geo": "geo",
           "hovertemplate": "<b>%{hovertext}</b><br><br>Country=Palau<br>year=1966<br>iso_alpha=%{location}<extra></extra>",
           "hovertext": [
            213083.92100036138
           ],
           "locations": [
            " PW"
           ],
           "name": "Palau",
           "showlegend": true,
           "showscale": false,
           "type": "choropleth",
           "z": [
            1
           ]
          },
          {
           "colorscale": [
            [
             0,
             "#FF6692"
            ],
            [
             1,
             "#FF6692"
            ]
           ],
           "geo": "geo",
           "hovertemplate": "<b>%{hovertext}</b><br><br>Country=Palestinian Territory, Occupied<br>year=1966<br>iso_alpha=%{location}<extra></extra>",
           "hovertext": [
            197077.4020155659
           ],
           "locations": [
            " PS"
           ],
           "name": "Palestinian Territory, Occupied",
           "showlegend": true,
           "showscale": false,
           "type": "choropleth",
           "z": [
            1
           ]
          },
          {
           "colorscale": [
            [
             0,
             "#B6E880"
            ],
            [
             1,
             "#B6E880"
            ]
           ],
           "geo": "geo",
           "hovertemplate": "<b>%{hovertext}</b><br><br>Country=Panama<br>year=1966<br>iso_alpha=%{location}<extra></extra>",
           "hovertext": [
            326766.0206183791
           ],
           "locations": [
            " PA"
           ],
           "name": "Panama",
           "showlegend": true,
           "showscale": false,
           "type": "choropleth",
           "z": [
            1
           ]
          },
          {
           "colorscale": [
            [
             0,
             "#FF97FF"
            ],
            [
             1,
             "#FF97FF"
            ]
           ],
           "geo": "geo",
           "hovertemplate": "<b>%{hovertext}</b><br><br>Country=Papua New Guinea<br>year=1966<br>iso_alpha=%{location}<extra></extra>",
           "hovertext": [
            38812.18656897545
           ],
           "locations": [
            " PG"
           ],
           "name": "Papua New Guinea",
           "showlegend": true,
           "showscale": false,
           "type": "choropleth",
           "z": [
            1
           ]
          },
          {
           "colorscale": [
            [
             0,
             "#FECB52"
            ],
            [
             1,
             "#FECB52"
            ]
           ],
           "geo": "geo",
           "hovertemplate": "<b>%{hovertext}</b><br><br>Country=Paraguay<br>year=1966<br>iso_alpha=%{location}<extra></extra>",
           "hovertext": [
            271353.84855867864
           ],
           "locations": [
            " PY"
           ],
           "name": "Paraguay",
           "showlegend": true,
           "showscale": false,
           "type": "choropleth",
           "z": [
            1
           ]
          },
          {
           "colorscale": [
            [
             0,
             "#636efa"
            ],
            [
             1,
             "#636efa"
            ]
           ],
           "geo": "geo",
           "hovertemplate": "<b>%{hovertext}</b><br><br>Country=Peru<br>year=1966<br>iso_alpha=%{location}<extra></extra>",
           "hovertext": [
            131737.1460609138
           ],
           "locations": [
            " PE"
           ],
           "name": "Peru",
           "showlegend": true,
           "showscale": false,
           "type": "choropleth",
           "z": [
            1
           ]
          },
          {
           "colorscale": [
            [
             0,
             "#EF553B"
            ],
            [
             1,
             "#EF553B"
            ]
           ],
           "geo": "geo",
           "hovertemplate": "<b>%{hovertext}</b><br><br>Country=Philippines<br>year=1966<br>iso_alpha=%{location}<extra></extra>",
           "hovertext": [
            185334.6643038094
           ],
           "locations": [
            " PH"
           ],
           "name": "Philippines",
           "showlegend": true,
           "showscale": false,
           "type": "choropleth",
           "z": [
            1
           ]
          }
         ],
         "name": "1966"
        },
        {
         "data": [
          {
           "colorscale": [
            [
             0,
             "#00cc96"
            ],
            [
             1,
             "#00cc96"
            ]
           ],
           "geo": "geo",
           "hovertemplate": "<b>%{hovertext}</b><br><br>Country=Pitcairn<br>year=1967<br>iso_alpha=%{location}<extra></extra>",
           "hovertext": [
            5566649.530334307
           ],
           "locations": [
            " PN"
           ],
           "name": "Pitcairn",
           "showlegend": true,
           "showscale": false,
           "type": "choropleth",
           "z": [
            1
           ]
          },
          {
           "colorscale": [
            [
             0,
             "#ab63fa"
            ],
            [
             1,
             "#ab63fa"
            ]
           ],
           "geo": "geo",
           "hovertemplate": "<b>%{hovertext}</b><br><br>Country=Poland<br>year=1967<br>iso_alpha=%{location}<extra></extra>",
           "hovertext": [
            1139577.999489015
           ],
           "locations": [
            " PL"
           ],
           "name": "Poland",
           "showlegend": true,
           "showscale": false,
           "type": "choropleth",
           "z": [
            1
           ]
          },
          {
           "colorscale": [
            [
             0,
             "#FFA15A"
            ],
            [
             1,
             "#FFA15A"
            ]
           ],
           "geo": "geo",
           "hovertemplate": "<b>%{hovertext}</b><br><br>Country=Portugal<br>year=1967<br>iso_alpha=%{location}<extra></extra>",
           "hovertext": [
            56802741.9082223
           ],
           "locations": [
            " PT"
           ],
           "name": "Portugal",
           "showlegend": true,
           "showscale": false,
           "type": "choropleth",
           "z": [
            1
           ]
          },
          {
           "colorscale": [
            [
             0,
             "#19d3f3"
            ],
            [
             1,
             "#19d3f3"
            ]
           ],
           "geo": "geo",
           "hovertemplate": "<b>%{hovertext}</b><br><br>Country=Puerto Rico<br>year=1967<br>iso_alpha=%{location}<extra></extra>",
           "hovertext": [
            1256516.110563715
           ],
           "locations": [
            " PR"
           ],
           "name": "Puerto Rico",
           "showlegend": true,
           "showscale": false,
           "type": "choropleth",
           "z": [
            1
           ]
          },
          {
           "colorscale": [
            [
             0,
             "#FF6692"
            ],
            [
             1,
             "#FF6692"
            ]
           ],
           "geo": "geo",
           "hovertemplate": "<b>%{hovertext}</b><br><br>Country=Qatar<br>year=1967<br>iso_alpha=%{location}<extra></extra>",
           "hovertext": [
            1114484.731755488
           ],
           "locations": [
            " QA"
           ],
           "name": "Qatar",
           "showlegend": true,
           "showscale": false,
           "type": "choropleth",
           "z": [
            1
           ]
          },
          {
           "colorscale": [
            [
             0,
             "#B6E880"
            ],
            [
             1,
             "#B6E880"
            ]
           ],
           "geo": "geo",
           "hovertemplate": "<b>%{hovertext}</b><br><br>Country=Réunion<br>year=1967<br>iso_alpha=%{location}<extra></extra>",
           "hovertext": [
            285077.8049324989
           ],
           "locations": [
            " RE"
           ],
           "name": "Réunion",
           "showlegend": true,
           "showscale": false,
           "type": "choropleth",
           "z": [
            1
           ]
          },
          {
           "colorscale": [
            [
             0,
             "#FF97FF"
            ],
            [
             1,
             "#FF97FF"
            ]
           ],
           "geo": "geo",
           "hovertemplate": "<b>%{hovertext}</b><br><br>Country=Romania<br>year=1967<br>iso_alpha=%{location}<extra></extra>",
           "hovertext": [
            417099.7487771511
           ],
           "locations": [
            " RO"
           ],
           "name": "Romania",
           "showlegend": true,
           "showscale": false,
           "type": "choropleth",
           "z": [
            1
           ]
          },
          {
           "colorscale": [
            [
             0,
             "#FECB52"
            ],
            [
             1,
             "#FECB52"
            ]
           ],
           "geo": "geo",
           "hovertemplate": "<b>%{hovertext}</b><br><br>Country=Russia<br>year=1967<br>iso_alpha=%{location}<extra></extra>",
           "hovertext": [
            35494.70449797809
           ],
           "locations": [
            " RU"
           ],
           "name": "Russia",
           "showlegend": true,
           "showscale": false,
           "type": "choropleth",
           "z": [
            1
           ]
          },
          {
           "colorscale": [
            [
             0,
             "#636efa"
            ],
            [
             1,
             "#636efa"
            ]
           ],
           "geo": "geo",
           "hovertemplate": "<b>%{hovertext}</b><br><br>Country=Russian Federation<br>year=1967<br>iso_alpha=%{location}<extra></extra>",
           "hovertext": [
            246125.26708170178
           ],
           "locations": [
            " RU"
           ],
           "name": "Russian Federation",
           "showlegend": true,
           "showscale": false,
           "type": "choropleth",
           "z": [
            1
           ]
          },
          {
           "colorscale": [
            [
             0,
             "#EF553B"
            ],
            [
             1,
             "#EF553B"
            ]
           ],
           "geo": "geo",
           "hovertemplate": "<b>%{hovertext}</b><br><br>Country=Rwanda<br>year=1967<br>iso_alpha=%{location}<extra></extra>",
           "hovertext": [
            137296.2034417152
           ],
           "locations": [
            " RW"
           ],
           "name": "Rwanda",
           "showlegend": true,
           "showscale": false,
           "type": "choropleth",
           "z": [
            1
           ]
          },
          {
           "colorscale": [
            [
             0,
             "#00cc96"
            ],
            [
             1,
             "#00cc96"
            ]
           ],
           "geo": "geo",
           "hovertemplate": "<b>%{hovertext}</b><br><br>Country=Saint Barthélemy<br>year=1967<br>iso_alpha=%{location}<extra></extra>",
           "hovertext": [
            733737.0607370933
           ],
           "locations": [
            " BL"
           ],
           "name": "Saint Barthélemy",
           "showlegend": true,
           "showscale": false,
           "type": "choropleth",
           "z": [
            1
           ]
          },
          {
           "colorscale": [
            [
             0,
             "#ab63fa"
            ],
            [
             1,
             "#ab63fa"
            ]
           ],
           "geo": "geo",
           "hovertemplate": "<b>%{hovertext}</b><br><br>Country=Saint Helena, Ascension and Tristan da Cunha<br>year=1967<br>iso_alpha=%{location}<extra></extra>",
           "hovertext": [
            171673.4477404316
           ],
           "locations": [
            " SH"
           ],
           "name": "Saint Helena, Ascension and Tristan da Cunha",
           "showlegend": true,
           "showscale": false,
           "type": "choropleth",
           "z": [
            1
           ]
          },
          {
           "colorscale": [
            [
             0,
             "#FFA15A"
            ],
            [
             1,
             "#FFA15A"
            ]
           ],
           "geo": "geo",
           "hovertemplate": "<b>%{hovertext}</b><br><br>Country=Saint Kitts and Nevis<br>year=1967<br>iso_alpha=%{location}<extra></extra>",
           "hovertext": [
            851063.7897037711
           ],
           "locations": [
            " KN"
           ],
           "name": "Saint Kitts and Nevis",
           "showlegend": true,
           "showscale": false,
           "type": "choropleth",
           "z": [
            1
           ]
          },
          {
           "colorscale": [
            [
             0,
             "#19d3f3"
            ],
            [
             1,
             "#19d3f3"
            ]
           ],
           "geo": "geo",
           "hovertemplate": "<b>%{hovertext}</b><br><br>Country=Saint Lucia<br>year=1967<br>iso_alpha=%{location}<extra></extra>",
           "hovertext": [
            164852.11508166962
           ],
           "locations": [
            " LC"
           ],
           "name": "Saint Lucia",
           "showlegend": true,
           "showscale": false,
           "type": "choropleth",
           "z": [
            1
           ]
          },
          {
           "colorscale": [
            [
             0,
             "#FF6692"
            ],
            [
             1,
             "#FF6692"
            ]
           ],
           "geo": "geo",
           "hovertemplate": "<b>%{hovertext}</b><br><br>Country=Saint Martin (French part)<br>year=1967<br>iso_alpha=%{location}<extra></extra>",
           "hovertext": [
            721308.5579437295
           ],
           "locations": [
            " MF"
           ],
           "name": "Saint Martin (French part)",
           "showlegend": true,
           "showscale": false,
           "type": "choropleth",
           "z": [
            1
           ]
          },
          {
           "colorscale": [
            [
             0,
             "#B6E880"
            ],
            [
             1,
             "#B6E880"
            ]
           ],
           "geo": "geo",
           "hovertemplate": "<b>%{hovertext}</b><br><br>Country=Saint Pierre and Miquelon<br>year=1967<br>iso_alpha=%{location}<extra></extra>",
           "hovertext": [
            1503557.538856692
           ],
           "locations": [
            " PM"
           ],
           "name": "Saint Pierre and Miquelon",
           "showlegend": true,
           "showscale": false,
           "type": "choropleth",
           "z": [
            1
           ]
          },
          {
           "colorscale": [
            [
             0,
             "#FF97FF"
            ],
            [
             1,
             "#FF97FF"
            ]
           ],
           "geo": "geo",
           "hovertemplate": "<b>%{hovertext}</b><br><br>Country=Saint Vincent & the Grenadines<br>year=1967<br>iso_alpha=%{location}<extra></extra>",
           "hovertext": [
            537626.2772596312
           ],
           "locations": [
            " VC"
           ],
           "name": "Saint Vincent & the Grenadines",
           "showlegend": true,
           "showscale": false,
           "type": "choropleth",
           "z": [
            1
           ]
          },
          {
           "colorscale": [
            [
             0,
             "#FECB52"
            ],
            [
             1,
             "#FECB52"
            ]
           ],
           "geo": "geo",
           "hovertemplate": "<b>%{hovertext}</b><br><br>Country=Saint Vincent and the Grenadines<br>year=1967<br>iso_alpha=%{location}<extra></extra>",
           "hovertext": [
            0
           ],
           "locations": [
            " VC"
           ],
           "name": "Saint Vincent and the Grenadines",
           "showlegend": true,
           "showscale": false,
           "type": "choropleth",
           "z": [
            1
           ]
          },
          {
           "colorscale": [
            [
             0,
             "#636efa"
            ],
            [
             1,
             "#636efa"
            ]
           ],
           "geo": "geo",
           "hovertemplate": "<b>%{hovertext}</b><br><br>Country=Samoa<br>year=1967<br>iso_alpha=%{location}<extra></extra>",
           "hovertext": [
            20834.11626517773
           ],
           "locations": [
            " WS"
           ],
           "name": "Samoa",
           "showlegend": true,
           "showscale": false,
           "type": "choropleth",
           "z": [
            1
           ]
          },
          {
           "colorscale": [
            [
             0,
             "#EF553B"
            ],
            [
             1,
             "#EF553B"
            ]
           ],
           "geo": "geo",
           "hovertemplate": "<b>%{hovertext}</b><br><br>Country=San Marino<br>year=1967<br>iso_alpha=%{location}<extra></extra>",
           "hovertext": [
            1673784.5296669009
           ],
           "locations": [
            " SM"
           ],
           "name": "San Marino",
           "showlegend": true,
           "showscale": false,
           "type": "choropleth",
           "z": [
            1
           ]
          },
          {
           "colorscale": [
            [
             0,
             "#00cc96"
            ],
            [
             1,
             "#00cc96"
            ]
           ],
           "geo": "geo",
           "hovertemplate": "<b>%{hovertext}</b><br><br>Country=Sao Tome and Principe<br>year=1967<br>iso_alpha=%{location}<extra></extra>",
           "hovertext": [
            684444.4962916896
           ],
           "locations": [
            " ST"
           ],
           "name": "Sao Tome and Principe",
           "showlegend": true,
           "showscale": false,
           "type": "choropleth",
           "z": [
            1
           ]
          },
          {
           "colorscale": [
            [
             0,
             "#ab63fa"
            ],
            [
             1,
             "#ab63fa"
            ]
           ],
           "geo": "geo",
           "hovertemplate": "<b>%{hovertext}</b><br><br>Country=Saudi Arabia<br>year=1967<br>iso_alpha=%{location}<extra></extra>",
           "hovertext": [
            0
           ],
           "locations": [
            " SA"
           ],
           "name": "Saudi Arabia",
           "showlegend": true,
           "showscale": false,
           "type": "choropleth",
           "z": [
            1
           ]
          },
          {
           "colorscale": [
            [
             0,
             "#FFA15A"
            ],
            [
             1,
             "#FFA15A"
            ]
           ],
           "geo": "geo",
           "hovertemplate": "<b>%{hovertext}</b><br><br>Country=Senegal<br>year=1967<br>iso_alpha=%{location}<extra></extra>",
           "hovertext": [
            497707.87358284
           ],
           "locations": [
            " SN"
           ],
           "name": "Senegal",
           "showlegend": true,
           "showscale": false,
           "type": "choropleth",
           "z": [
            1
           ]
          },
          {
           "colorscale": [
            [
             0,
             "#19d3f3"
            ],
            [
             1,
             "#19d3f3"
            ]
           ],
           "geo": "geo",
           "hovertemplate": "<b>%{hovertext}</b><br><br>Country=Serbia<br>year=1967<br>iso_alpha=%{location}<extra></extra>",
           "hovertext": [
            5137830.12527381
           ],
           "locations": [
            " RS"
           ],
           "name": "Serbia",
           "showlegend": true,
           "showscale": false,
           "type": "choropleth",
           "z": [
            1
           ]
          },
          {
           "colorscale": [
            [
             0,
             "#FF6692"
            ],
            [
             1,
             "#FF6692"
            ]
           ],
           "geo": "geo",
           "hovertemplate": "<b>%{hovertext}</b><br><br>Country=Seychelles<br>year=1967<br>iso_alpha=%{location}<extra></extra>",
           "hovertext": [
            10689952.67290234
           ],
           "locations": [
            " SC"
           ],
           "name": "Seychelles",
           "showlegend": true,
           "showscale": false,
           "type": "choropleth",
           "z": [
            1
           ]
          },
          {
           "colorscale": [
            [
             0,
             "#B6E880"
            ],
            [
             1,
             "#B6E880"
            ]
           ],
           "geo": "geo",
           "hovertemplate": "<b>%{hovertext}</b><br><br>Country=Sierra Leone<br>year=1967<br>iso_alpha=%{location}<extra></extra>",
           "hovertext": [
            343431.8397194147
           ],
           "locations": [
            " SL"
           ],
           "name": "Sierra Leone",
           "showlegend": true,
           "showscale": false,
           "type": "choropleth",
           "z": [
            1
           ]
          },
          {
           "colorscale": [
            [
             0,
             "#FF97FF"
            ],
            [
             1,
             "#FF97FF"
            ]
           ],
           "geo": "geo",
           "hovertemplate": "<b>%{hovertext}</b><br><br>Country=Singapore<br>year=1967<br>iso_alpha=%{location}<extra></extra>",
           "hovertext": [
            644012.7510800236
           ],
           "locations": [
            " SG"
           ],
           "name": "Singapore",
           "showlegend": true,
           "showscale": false,
           "type": "choropleth",
           "z": [
            1
           ]
          },
          {
           "colorscale": [
            [
             0,
             "#FECB52"
            ],
            [
             1,
             "#FECB52"
            ]
           ],
           "geo": "geo",
           "hovertemplate": "<b>%{hovertext}</b><br><br>Country=Sint Maarten (Dutch part)<br>year=1967<br>iso_alpha=%{location}<extra></extra>",
           "hovertext": [
            28366.13926046994
           ],
           "locations": [
            " SX"
           ],
           "name": "Sint Maarten (Dutch part)",
           "showlegend": true,
           "showscale": false,
           "type": "choropleth",
           "z": [
            1
           ]
          },
          {
           "colorscale": [
            [
             0,
             "#636efa"
            ],
            [
             1,
             "#636efa"
            ]
           ],
           "geo": "geo",
           "hovertemplate": "<b>%{hovertext}</b><br><br>Country=Slovakia<br>year=1967<br>iso_alpha=%{location}<extra></extra>",
           "hovertext": [
            295810.3604614735
           ],
           "locations": [
            " SK"
           ],
           "name": "Slovakia",
           "showlegend": true,
           "showscale": false,
           "type": "choropleth",
           "z": [
            1
           ]
          },
          {
           "colorscale": [
            [
             0,
             "#EF553B"
            ],
            [
             1,
             "#EF553B"
            ]
           ],
           "geo": "geo",
           "hovertemplate": "<b>%{hovertext}</b><br><br>Country=Slovenia<br>year=1967<br>iso_alpha=%{location}<extra></extra>",
           "hovertext": [
            3931107.2966961376
           ],
           "locations": [
            " SI"
           ],
           "name": "Slovenia",
           "showlegend": true,
           "showscale": false,
           "type": "choropleth",
           "z": [
            1
           ]
          },
          {
           "colorscale": [
            [
             0,
             "#00cc96"
            ],
            [
             1,
             "#00cc96"
            ]
           ],
           "geo": "geo",
           "hovertemplate": "<b>%{hovertext}</b><br><br>Country=Solomon Islands<br>year=1967<br>iso_alpha=%{location}<extra></extra>",
           "hovertext": [
            0
           ],
           "locations": [
            " SB"
           ],
           "name": "Solomon Islands",
           "showlegend": true,
           "showscale": false,
           "type": "choropleth",
           "z": [
            1
           ]
          },
          {
           "colorscale": [
            [
             0,
             "#ab63fa"
            ],
            [
             1,
             "#ab63fa"
            ]
           ],
           "geo": "geo",
           "hovertemplate": "<b>%{hovertext}</b><br><br>Country=Somalia<br>year=1967<br>iso_alpha=%{location}<extra></extra>",
           "hovertext": [
            0
           ],
           "locations": [
            " SO"
           ],
           "name": "Somalia",
           "showlegend": true,
           "showscale": false,
           "type": "choropleth",
           "z": [
            1
           ]
          },
          {
           "colorscale": [
            [
             0,
             "#FFA15A"
            ],
            [
             1,
             "#FFA15A"
            ]
           ],
           "geo": "geo",
           "hovertemplate": "<b>%{hovertext}</b><br><br>Country=South Africa<br>year=1967<br>iso_alpha=%{location}<extra></extra>",
           "hovertext": [
            142025.1840027049
           ],
           "locations": [
            " ZA"
           ],
           "name": "South Africa",
           "showlegend": true,
           "showscale": false,
           "type": "choropleth",
           "z": [
            1
           ]
          },
          {
           "colorscale": [
            [
             0,
             "#19d3f3"
            ],
            [
             1,
             "#19d3f3"
            ]
           ],
           "geo": "geo",
           "hovertemplate": "<b>%{hovertext}</b><br><br>Country=South Georgia and the South Sandwich Islands<br>year=1967<br>iso_alpha=%{location}<extra></extra>",
           "hovertext": [
            1687680.14383316
           ],
           "locations": [
            " GS"
           ],
           "name": "South Georgia and the South Sandwich Islands",
           "showlegend": true,
           "showscale": false,
           "type": "choropleth",
           "z": [
            1
           ]
          },
          {
           "colorscale": [
            [
             0,
             "#FF6692"
            ],
            [
             1,
             "#FF6692"
            ]
           ],
           "geo": "geo",
           "hovertemplate": "<b>%{hovertext}</b><br><br>Country=South Korea<br>year=1967<br>iso_alpha=%{location}<extra></extra>",
           "hovertext": [
            0
           ],
           "locations": [
            " KR"
           ],
           "name": "South Korea",
           "showlegend": true,
           "showscale": false,
           "type": "choropleth",
           "z": [
            1
           ]
          },
          {
           "colorscale": [
            [
             0,
             "#B6E880"
            ],
            [
             1,
             "#B6E880"
            ]
           ],
           "geo": "geo",
           "hovertemplate": "<b>%{hovertext}</b><br><br>Country=South Sudan<br>year=1967<br>iso_alpha=%{location}<extra></extra>",
           "hovertext": [
            852055.4043352604
           ],
           "locations": [
            " SS"
           ],
           "name": "South Sudan",
           "showlegend": true,
           "showscale": false,
           "type": "choropleth",
           "z": [
            1
           ]
          },
          {
           "colorscale": [
            [
             0,
             "#FF97FF"
            ],
            [
             1,
             "#FF97FF"
            ]
           ],
           "geo": "geo",
           "hovertemplate": "<b>%{hovertext}</b><br><br>Country=Spain<br>year=1967<br>iso_alpha=%{location}<extra></extra>",
           "hovertext": [
            2931479.490794168
           ],
           "locations": [
            " ES"
           ],
           "name": "Spain",
           "showlegend": true,
           "showscale": false,
           "type": "choropleth",
           "z": [
            1
           ]
          },
          {
           "colorscale": [
            [
             0,
             "#FECB52"
            ],
            [
             1,
             "#FECB52"
            ]
           ],
           "geo": "geo",
           "hovertemplate": "<b>%{hovertext}</b><br><br>Country=Sri Lanka<br>year=1967<br>iso_alpha=%{location}<extra></extra>",
           "hovertext": [
            210002.0139478147
           ],
           "locations": [
            " LK"
           ],
           "name": "Sri Lanka",
           "showlegend": true,
           "showscale": false,
           "type": "choropleth",
           "z": [
            1
           ]
          },
          {
           "colorscale": [
            [
             0,
             "#636efa"
            ],
            [
             1,
             "#636efa"
            ]
           ],
           "geo": "geo",
           "hovertemplate": "<b>%{hovertext}</b><br><br>Country=St. Vincent and the Grenadines<br>year=1967<br>iso_alpha=%{location}<extra></extra>",
           "hovertext": [
            1194240.61623115
           ],
           "locations": [
            " VC"
           ],
           "name": "St. Vincent and the Grenadines",
           "showlegend": true,
           "showscale": false,
           "type": "choropleth",
           "z": [
            1
           ]
          },
          {
           "colorscale": [
            [
             0,
             "#EF553B"
            ],
            [
             1,
             "#EF553B"
            ]
           ],
           "geo": "geo",
           "hovertemplate": "<b>%{hovertext}</b><br><br>Country=Sudan<br>year=1967<br>iso_alpha=%{location}<extra></extra>",
           "hovertext": [
            400189.5273500109
           ],
           "locations": [
            " SD"
           ],
           "name": "Sudan",
           "showlegend": true,
           "showscale": false,
           "type": "choropleth",
           "z": [
            1
           ]
          },
          {
           "colorscale": [
            [
             0,
             "#00cc96"
            ],
            [
             1,
             "#00cc96"
            ]
           ],
           "geo": "geo",
           "hovertemplate": "<b>%{hovertext}</b><br><br>Country=Suriname<br>year=1967<br>iso_alpha=%{location}<extra></extra>",
           "hovertext": [
            0
           ],
           "locations": [
            " SR"
           ],
           "name": "Suriname",
           "showlegend": true,
           "showscale": false,
           "type": "choropleth",
           "z": [
            1
           ]
          },
          {
           "colorscale": [
            [
             0,
             "#ab63fa"
            ],
            [
             1,
             "#ab63fa"
            ]
           ],
           "geo": "geo",
           "hovertemplate": "<b>%{hovertext}</b><br><br>Country=Svalbard and Jan Mayen<br>year=1967<br>iso_alpha=%{location}<extra></extra>",
           "hovertext": [
            1481551.945209503
           ],
           "locations": [
            " SJ"
           ],
           "name": "Svalbard and Jan Mayen",
           "showlegend": true,
           "showscale": false,
           "type": "choropleth",
           "z": [
            1
           ]
          },
          {
           "colorscale": [
            [
             0,
             "#FFA15A"
            ],
            [
             1,
             "#FFA15A"
            ]
           ],
           "geo": "geo",
           "hovertemplate": "<b>%{hovertext}</b><br><br>Country=Swaziland<br>year=1967<br>iso_alpha=%{location}<extra></extra>",
           "hovertext": [
            1545181.98268488
           ],
           "locations": [
            " SZ"
           ],
           "name": "Swaziland",
           "showlegend": true,
           "showscale": false,
           "type": "choropleth",
           "z": [
            1
           ]
          },
          {
           "colorscale": [
            [
             0,
             "#19d3f3"
            ],
            [
             1,
             "#19d3f3"
            ]
           ],
           "geo": "geo",
           "hovertemplate": "<b>%{hovertext}</b><br><br>Country=Sweden<br>year=1967<br>iso_alpha=%{location}<extra></extra>",
           "hovertext": [
            753997.1768856049
           ],
           "locations": [
            " SE"
           ],
           "name": "Sweden",
           "showlegend": true,
           "showscale": false,
           "type": "choropleth",
           "z": [
            1
           ]
          },
          {
           "colorscale": [
            [
             0,
             "#FF6692"
            ],
            [
             1,
             "#FF6692"
            ]
           ],
           "geo": "geo",
           "hovertemplate": "<b>%{hovertext}</b><br><br>Country=Switzerland<br>year=1967<br>iso_alpha=%{location}<extra></extra>",
           "hovertext": [
            390756.991924718
           ],
           "locations": [
            " CH"
           ],
           "name": "Switzerland",
           "showlegend": true,
           "showscale": false,
           "type": "choropleth",
           "z": [
            1
           ]
          },
          {
           "colorscale": [
            [
             0,
             "#B6E880"
            ],
            [
             1,
             "#B6E880"
            ]
           ],
           "geo": "geo",
           "hovertemplate": "<b>%{hovertext}</b><br><br>Country=Syrian Arab Republic<br>year=1967<br>iso_alpha=%{location}<extra></extra>",
           "hovertext": [
            0
           ],
           "locations": [
            " SY"
           ],
           "name": "Syrian Arab Republic",
           "showlegend": true,
           "showscale": false,
           "type": "choropleth",
           "z": [
            1
           ]
          },
          {
           "colorscale": [
            [
             0,
             "#FF97FF"
            ],
            [
             1,
             "#FF97FF"
            ]
           ],
           "geo": "geo",
           "hovertemplate": "<b>%{hovertext}</b><br><br>Country=Taiwan<br>year=1967<br>iso_alpha=%{location}<extra></extra>",
           "hovertext": [
            8381570.819504198
           ],
           "locations": [
            " TW"
           ],
           "name": "Taiwan",
           "showlegend": true,
           "showscale": false,
           "type": "choropleth",
           "z": [
            1
           ]
          },
          {
           "colorscale": [
            [
             0,
             "#FECB52"
            ],
            [
             1,
             "#FECB52"
            ]
           ],
           "geo": "geo",
           "hovertemplate": "<b>%{hovertext}</b><br><br>Country=Tajikistan<br>year=1967<br>iso_alpha=%{location}<extra></extra>",
           "hovertext": [
            711811.844798635
           ],
           "locations": [
            " TJ"
           ],
           "name": "Tajikistan",
           "showlegend": true,
           "showscale": false,
           "type": "choropleth",
           "z": [
            1
           ]
          },
          {
           "colorscale": [
            [
             0,
             "#636efa"
            ],
            [
             1,
             "#636efa"
            ]
           ],
           "geo": "geo",
           "hovertemplate": "<b>%{hovertext}</b><br><br>Country=Tanzania, United Republic of<br>year=1967<br>iso_alpha=%{location}<extra></extra>",
           "hovertext": [
            0
           ],
           "locations": [
            " TZ"
           ],
           "name": "Tanzania, United Republic of",
           "showlegend": true,
           "showscale": false,
           "type": "choropleth",
           "z": [
            1
           ]
          },
          {
           "colorscale": [
            [
             0,
             "#EF553B"
            ],
            [
             1,
             "#EF553B"
            ]
           ],
           "geo": "geo",
           "hovertemplate": "<b>%{hovertext}</b><br><br>Country=Thailand<br>year=1967<br>iso_alpha=%{location}<extra></extra>",
           "hovertext": [
            0
           ],
           "locations": [
            " TH"
           ],
           "name": "Thailand",
           "showlegend": true,
           "showscale": false,
           "type": "choropleth",
           "z": [
            1
           ]
          },
          {
           "colorscale": [
            [
             0,
             "#00cc96"
            ],
            [
             1,
             "#00cc96"
            ]
           ],
           "geo": "geo",
           "hovertemplate": "<b>%{hovertext}</b><br><br>Country=Timor-Leste<br>year=1967<br>iso_alpha=%{location}<extra></extra>",
           "hovertext": [
            0
           ],
           "locations": [
            " TL"
           ],
           "name": "Timor-Leste",
           "showlegend": true,
           "showscale": false,
           "type": "choropleth",
           "z": [
            1
           ]
          },
          {
           "colorscale": [
            [
             0,
             "#ab63fa"
            ],
            [
             1,
             "#ab63fa"
            ]
           ],
           "geo": "geo",
           "hovertemplate": "<b>%{hovertext}</b><br><br>Country=Togo<br>year=1967<br>iso_alpha=%{location}<extra></extra>",
           "hovertext": [
            0
           ],
           "locations": [
            " TG"
           ],
           "name": "Togo",
           "showlegend": true,
           "showscale": false,
           "type": "choropleth",
           "z": [
            1
           ]
          },
          {
           "colorscale": [
            [
             0,
             "#FFA15A"
            ],
            [
             1,
             "#FFA15A"
            ]
           ],
           "geo": "geo",
           "hovertemplate": "<b>%{hovertext}</b><br><br>Country=Tokelau<br>year=1967<br>iso_alpha=%{location}<extra></extra>",
           "hovertext": [
            0
           ],
           "locations": [
            " TK"
           ],
           "name": "Tokelau",
           "showlegend": true,
           "showscale": false,
           "type": "choropleth",
           "z": [
            1
           ]
          },
          {
           "colorscale": [
            [
             0,
             "#19d3f3"
            ],
            [
             1,
             "#19d3f3"
            ]
           ],
           "geo": "geo",
           "hovertemplate": "<b>%{hovertext}</b><br><br>Country=Tonga<br>year=1967<br>iso_alpha=%{location}<extra></extra>",
           "hovertext": [
            27831556.67394112
           ],
           "locations": [
            " TO"
           ],
           "name": "Tonga",
           "showlegend": true,
           "showscale": false,
           "type": "choropleth",
           "z": [
            1
           ]
          },
          {
           "colorscale": [
            [
             0,
             "#FF6692"
            ],
            [
             1,
             "#FF6692"
            ]
           ],
           "geo": "geo",
           "hovertemplate": "<b>%{hovertext}</b><br><br>Country=Trinidad and Tobago<br>year=1967<br>iso_alpha=%{location}<extra></extra>",
           "hovertext": [
            0
           ],
           "locations": [
            " TT"
           ],
           "name": "Trinidad and Tobago",
           "showlegend": true,
           "showscale": false,
           "type": "choropleth",
           "z": [
            1
           ]
          },
          {
           "colorscale": [
            [
             0,
             "#B6E880"
            ],
            [
             1,
             "#B6E880"
            ]
           ],
           "geo": "geo",
           "hovertemplate": "<b>%{hovertext}</b><br><br>Country=Tunisia<br>year=1967<br>iso_alpha=%{location}<extra></extra>",
           "hovertext": [
            0
           ],
           "locations": [
            " TN"
           ],
           "name": "Tunisia",
           "showlegend": true,
           "showscale": false,
           "type": "choropleth",
           "z": [
            1
           ]
          },
          {
           "colorscale": [
            [
             0,
             "#FF97FF"
            ],
            [
             1,
             "#FF97FF"
            ]
           ],
           "geo": "geo",
           "hovertemplate": "<b>%{hovertext}</b><br><br>Country=Turkey<br>year=1967<br>iso_alpha=%{location}<extra></extra>",
           "hovertext": [
            419944.7716560302
           ],
           "locations": [
            " TR"
           ],
           "name": "Turkey",
           "showlegend": true,
           "showscale": false,
           "type": "choropleth",
           "z": [
            1
           ]
          },
          {
           "colorscale": [
            [
             0,
             "#FECB52"
            ],
            [
             1,
             "#FECB52"
            ]
           ],
           "geo": "geo",
           "hovertemplate": "<b>%{hovertext}</b><br><br>Country=Turkmenistan<br>year=1967<br>iso_alpha=%{location}<extra></extra>",
           "hovertext": [
            92234.02656084597
           ],
           "locations": [
            " TM"
           ],
           "name": "Turkmenistan",
           "showlegend": true,
           "showscale": false,
           "type": "choropleth",
           "z": [
            1
           ]
          },
          {
           "colorscale": [
            [
             0,
             "#636efa"
            ],
            [
             1,
             "#636efa"
            ]
           ],
           "geo": "geo",
           "hovertemplate": "<b>%{hovertext}</b><br><br>Country=Turks and Caicos Islands<br>year=1967<br>iso_alpha=%{location}<extra></extra>",
           "hovertext": [
            186275.5455823595
           ],
           "locations": [
            " TC"
           ],
           "name": "Turks and Caicos Islands",
           "showlegend": true,
           "showscale": false,
           "type": "choropleth",
           "z": [
            1
           ]
          },
          {
           "colorscale": [
            [
             0,
             "#EF553B"
            ],
            [
             1,
             "#EF553B"
            ]
           ],
           "geo": "geo",
           "hovertemplate": "<b>%{hovertext}</b><br><br>Country=Tuvalu<br>year=1967<br>iso_alpha=%{location}<extra></extra>",
           "hovertext": [
            303690.3364501953
           ],
           "locations": [
            " TV"
           ],
           "name": "Tuvalu",
           "showlegend": true,
           "showscale": false,
           "type": "choropleth",
           "z": [
            1
           ]
          },
          {
           "colorscale": [
            [
             0,
             "#00cc96"
            ],
            [
             1,
             "#00cc96"
            ]
           ],
           "geo": "geo",
           "hovertemplate": "<b>%{hovertext}</b><br><br>Country=Uganda<br>year=1967<br>iso_alpha=%{location}<extra></extra>",
           "hovertext": [
            1947.539974935353
           ],
           "locations": [
            " UG"
           ],
           "name": "Uganda",
           "showlegend": true,
           "showscale": false,
           "type": "choropleth",
           "z": [
            1
           ]
          },
          {
           "colorscale": [
            [
             0,
             "#ab63fa"
            ],
            [
             1,
             "#ab63fa"
            ]
           ],
           "geo": "geo",
           "hovertemplate": "<b>%{hovertext}</b><br><br>Country=Ukraine<br>year=1967<br>iso_alpha=%{location}<extra></extra>",
           "hovertext": [
            7327.358099569678
           ],
           "locations": [
            " UA"
           ],
           "name": "Ukraine",
           "showlegend": true,
           "showscale": false,
           "type": "choropleth",
           "z": [
            1
           ]
          },
          {
           "colorscale": [
            [
             0,
             "#FFA15A"
            ],
            [
             1,
             "#FFA15A"
            ]
           ],
           "geo": "geo",
           "hovertemplate": "<b>%{hovertext}</b><br><br>Country=United Arab Emirates<br>year=1967<br>iso_alpha=%{location}<extra></extra>",
           "hovertext": [
            870353.5980392456
           ],
           "locations": [
            " AE"
           ],
           "name": "United Arab Emirates",
           "showlegend": true,
           "showscale": false,
           "type": "choropleth",
           "z": [
            1
           ]
          },
          {
           "colorscale": [
            [
             0,
             "#19d3f3"
            ],
            [
             1,
             "#19d3f3"
            ]
           ],
           "geo": "geo",
           "hovertemplate": "<b>%{hovertext}</b><br><br>Country=United Kingdom<br>year=1967<br>iso_alpha=%{location}<extra></extra>",
           "hovertext": [
            19464.32139926553
           ],
           "locations": [
            " GB"
           ],
           "name": "United Kingdom",
           "showlegend": true,
           "showscale": false,
           "type": "choropleth",
           "z": [
            1
           ]
          },
          {
           "colorscale": [
            [
             0,
             "#FF6692"
            ],
            [
             1,
             "#FF6692"
            ]
           ],
           "geo": "geo",
           "hovertemplate": "<b>%{hovertext}</b><br><br>Country=United States Minor Outlying Islands<br>year=1967<br>iso_alpha=%{location}<extra></extra>",
           "hovertext": [
            230799.8510806067
           ],
           "locations": [
            " UM"
           ],
           "name": "United States Minor Outlying Islands",
           "showlegend": true,
           "showscale": false,
           "type": "choropleth",
           "z": [
            1
           ]
          },
          {
           "colorscale": [
            [
             0,
             "#B6E880"
            ],
            [
             1,
             "#B6E880"
            ]
           ],
           "geo": "geo",
           "hovertemplate": "<b>%{hovertext}</b><br><br>Country=United States<br>year=1967<br>iso_alpha=%{location}<extra></extra>",
           "hovertext": [
            101690.6643927515
           ],
           "locations": [
            " US"
           ],
           "name": "United States",
           "showlegend": true,
           "showscale": false,
           "type": "choropleth",
           "z": [
            1
           ]
          },
          {
           "colorscale": [
            [
             0,
             "#FF97FF"
            ],
            [
             1,
             "#FF97FF"
            ]
           ],
           "geo": "geo",
           "hovertemplate": "<b>%{hovertext}</b><br><br>Country=Uruguay<br>year=1967<br>iso_alpha=%{location}<extra></extra>",
           "hovertext": [
            297305.3125993252
           ],
           "locations": [
            " UY"
           ],
           "name": "Uruguay",
           "showlegend": true,
           "showscale": false,
           "type": "choropleth",
           "z": [
            1
           ]
          },
          {
           "colorscale": [
            [
             0,
             "#FECB52"
            ],
            [
             1,
             "#FECB52"
            ]
           ],
           "geo": "geo",
           "hovertemplate": "<b>%{hovertext}</b><br><br>Country=Uzbekistan<br>year=1967<br>iso_alpha=%{location}<extra></extra>",
           "hovertext": [
            88703.09461505413
           ],
           "locations": [
            " UZ"
           ],
           "name": "Uzbekistan",
           "showlegend": true,
           "showscale": false,
           "type": "choropleth",
           "z": [
            1
           ]
          },
          {
           "colorscale": [
            [
             0,
             "#636efa"
            ],
            [
             1,
             "#636efa"
            ]
           ],
           "geo": "geo",
           "hovertemplate": "<b>%{hovertext}</b><br><br>Country=Vanuatu<br>year=1967<br>iso_alpha=%{location}<extra></extra>",
           "hovertext": [
            1336157.441168325
           ],
           "locations": [
            " VU"
           ],
           "name": "Vanuatu",
           "showlegend": true,
           "showscale": false,
           "type": "choropleth",
           "z": [
            1
           ]
          },
          {
           "colorscale": [
            [
             0,
             "#EF553B"
            ],
            [
             1,
             "#EF553B"
            ]
           ],
           "geo": "geo",
           "hovertemplate": "<b>%{hovertext}</b><br><br>Country=Venezuela, Bolivarian Republic of<br>year=1967<br>iso_alpha=%{location}<extra></extra>",
           "hovertext": [
            445847.424739627
           ],
           "locations": [
            " VE"
           ],
           "name": "Venezuela, Bolivarian Republic of",
           "showlegend": true,
           "showscale": false,
           "type": "choropleth",
           "z": [
            1
           ]
          },
          {
           "colorscale": [
            [
             0,
             "#00cc96"
            ],
            [
             1,
             "#00cc96"
            ]
           ],
           "geo": "geo",
           "hovertemplate": "<b>%{hovertext}</b><br><br>Country=Venezuela<br>year=1967<br>iso_alpha=%{location}<extra></extra>",
           "hovertext": [
            139606.8908000997
           ],
           "locations": [
            " VE"
           ],
           "name": "Venezuela",
           "showlegend": true,
           "showscale": false,
           "type": "choropleth",
           "z": [
            1
           ]
          },
          {
           "colorscale": [
            [
             0,
             "#ab63fa"
            ],
            [
             1,
             "#ab63fa"
            ]
           ],
           "geo": "geo",
           "hovertemplate": "<b>%{hovertext}</b><br><br>Country=Viet Nam<br>year=1967<br>iso_alpha=%{location}<extra></extra>",
           "hovertext": [
            225005.357224744
           ],
           "locations": [
            " VN"
           ],
           "name": "Viet Nam",
           "showlegend": true,
           "showscale": false,
           "type": "choropleth",
           "z": [
            1
           ]
          },
          {
           "colorscale": [
            [
             0,
             "#FFA15A"
            ],
            [
             1,
             "#FFA15A"
            ]
           ],
           "geo": "geo",
           "hovertemplate": "<b>%{hovertext}</b><br><br>Country=Vietnam<br>year=1967<br>iso_alpha=%{location}<extra></extra>",
           "hovertext": [
            88411.269879652
           ],
           "locations": [
            " VN"
           ],
           "name": "Vietnam",
           "showlegend": true,
           "showscale": false,
           "type": "choropleth",
           "z": [
            1
           ]
          },
          {
           "colorscale": [
            [
             0,
             "#19d3f3"
            ],
            [
             1,
             "#19d3f3"
            ]
           ],
           "geo": "geo",
           "hovertemplate": "<b>%{hovertext}</b><br><br>Country=Virgin Islands, British<br>year=1967<br>iso_alpha=%{location}<extra></extra>",
           "hovertext": [
            5836.725555127487
           ],
           "locations": [
            " VG"
           ],
           "name": "Virgin Islands, British",
           "showlegend": true,
           "showscale": false,
           "type": "choropleth",
           "z": [
            1
           ]
          },
          {
           "colorscale": [
            [
             0,
             "#FF6692"
            ],
            [
             1,
             "#FF6692"
            ]
           ],
           "geo": "geo",
           "hovertemplate": "<b>%{hovertext}</b><br><br>Country=Virgin Islands, U.S.<br>year=1967<br>iso_alpha=%{location}<extra></extra>",
           "hovertext": [
            1703134.9490799562
           ],
           "locations": [
            " VI"
           ],
           "name": "Virgin Islands, U.S.",
           "showlegend": true,
           "showscale": false,
           "type": "choropleth",
           "z": [
            1
           ]
          },
          {
           "colorscale": [
            [
             0,
             "#B6E880"
            ],
            [
             1,
             "#B6E880"
            ]
           ],
           "geo": "geo",
           "hovertemplate": "<b>%{hovertext}</b><br><br>Country=Wallis and Futuna<br>year=1967<br>iso_alpha=%{location}<extra></extra>",
           "hovertext": [
            0
           ],
           "locations": [
            " WF"
           ],
           "name": "Wallis and Futuna",
           "showlegend": true,
           "showscale": false,
           "type": "choropleth",
           "z": [
            1
           ]
          },
          {
           "colorscale": [
            [
             0,
             "#FF97FF"
            ],
            [
             1,
             "#FF97FF"
            ]
           ],
           "geo": "geo",
           "hovertemplate": "<b>%{hovertext}</b><br><br>Country=Western Sahara<br>year=1967<br>iso_alpha=%{location}<extra></extra>",
           "hovertext": [
            5403846.310686221
           ],
           "locations": [
            " EH"
           ],
           "name": "Western Sahara",
           "showlegend": true,
           "showscale": false,
           "type": "choropleth",
           "z": [
            1
           ]
          },
          {
           "colorscale": [
            [
             0,
             "#FECB52"
            ],
            [
             1,
             "#FECB52"
            ]
           ],
           "geo": "geo",
           "hovertemplate": "<b>%{hovertext}</b><br><br>Country=Yemen<br>year=1967<br>iso_alpha=%{location}<extra></extra>",
           "hovertext": [
            121294.0914556384
           ],
           "locations": [
            " YE"
           ],
           "name": "Yemen",
           "showlegend": true,
           "showscale": false,
           "type": "choropleth",
           "z": [
            1
           ]
          },
          {
           "colorscale": [
            [
             0,
             "#636efa"
            ],
            [
             1,
             "#636efa"
            ]
           ],
           "geo": "geo",
           "hovertemplate": "<b>%{hovertext}</b><br><br>Country=Zambia<br>year=1967<br>iso_alpha=%{location}<extra></extra>",
           "hovertext": [
            2370360.5750038223
           ],
           "locations": [
            " ZM"
           ],
           "name": "Zambia",
           "showlegend": true,
           "showscale": false,
           "type": "choropleth",
           "z": [
            1
           ]
          },
          {
           "colorscale": [
            [
             0,
             "#EF553B"
            ],
            [
             1,
             "#EF553B"
            ]
           ],
           "geo": "geo",
           "hovertemplate": "<b>%{hovertext}</b><br><br>Country=Zimbabwe<br>year=1967<br>iso_alpha=%{location}<extra></extra>",
           "hovertext": [
            298430.11671034805
           ],
           "locations": [
            " ZW"
           ],
           "name": "Zimbabwe",
           "showlegend": true,
           "showscale": false,
           "type": "choropleth",
           "z": [
            1
           ]
          }
         ],
         "name": "1967"
        }
       ],
       "layout": {
        "geo": {
         "center": {},
         "domain": {
          "x": [
           0,
           1
          ],
          "y": [
           0,
           1
          ]
         },
         "projection": {
          "type": "natural earth"
         }
        },
        "legend": {
         "title": {
          "text": "Country"
         },
         "tracegroupgap": 0
        },
        "sliders": [
         {
          "active": 0,
          "currentvalue": {
           "prefix": "year="
          },
          "len": 0.9,
          "pad": {
           "b": 10,
           "t": 60
          },
          "steps": [
           {
            "args": [
             [
              "1965"
             ],
             {
              "frame": {
               "duration": 0,
               "redraw": true
              },
              "fromcurrent": true,
              "mode": "immediate",
              "transition": {
               "duration": 0,
               "easing": "linear"
              }
             }
            ],
            "label": "1965",
            "method": "animate"
           },
           {
            "args": [
             [
              "1966"
             ],
             {
              "frame": {
               "duration": 0,
               "redraw": true
              },
              "fromcurrent": true,
              "mode": "immediate",
              "transition": {
               "duration": 0,
               "easing": "linear"
              }
             }
            ],
            "label": "1966",
            "method": "animate"
           },
           {
            "args": [
             [
              "1967"
             ],
             {
              "frame": {
               "duration": 0,
               "redraw": true
              },
              "fromcurrent": true,
              "mode": "immediate",
              "transition": {
               "duration": 0,
               "easing": "linear"
              }
             }
            ],
            "label": "1967",
            "method": "animate"
           }
          ],
          "x": 0.1,
          "xanchor": "left",
          "y": 0,
          "yanchor": "top"
         }
        ],
        "template": {
         "data": {
          "bar": [
           {
            "error_x": {
             "color": "#2a3f5f"
            },
            "error_y": {
             "color": "#2a3f5f"
            },
            "marker": {
             "line": {
              "color": "#E5ECF6",
              "width": 0.5
             },
             "pattern": {
              "fillmode": "overlay",
              "size": 10,
              "solidity": 0.2
             }
            },
            "type": "bar"
           }
          ],
          "barpolar": [
           {
            "marker": {
             "line": {
              "color": "#E5ECF6",
              "width": 0.5
             },
             "pattern": {
              "fillmode": "overlay",
              "size": 10,
              "solidity": 0.2
             }
            },
            "type": "barpolar"
           }
          ],
          "carpet": [
           {
            "aaxis": {
             "endlinecolor": "#2a3f5f",
             "gridcolor": "white",
             "linecolor": "white",
             "minorgridcolor": "white",
             "startlinecolor": "#2a3f5f"
            },
            "baxis": {
             "endlinecolor": "#2a3f5f",
             "gridcolor": "white",
             "linecolor": "white",
             "minorgridcolor": "white",
             "startlinecolor": "#2a3f5f"
            },
            "type": "carpet"
           }
          ],
          "choropleth": [
           {
            "colorbar": {
             "outlinewidth": 0,
             "ticks": ""
            },
            "type": "choropleth"
           }
          ],
          "contour": [
           {
            "colorbar": {
             "outlinewidth": 0,
             "ticks": ""
            },
            "colorscale": [
             [
              0,
              "#0d0887"
             ],
             [
              0.1111111111111111,
              "#46039f"
             ],
             [
              0.2222222222222222,
              "#7201a8"
             ],
             [
              0.3333333333333333,
              "#9c179e"
             ],
             [
              0.4444444444444444,
              "#bd3786"
             ],
             [
              0.5555555555555556,
              "#d8576b"
             ],
             [
              0.6666666666666666,
              "#ed7953"
             ],
             [
              0.7777777777777778,
              "#fb9f3a"
             ],
             [
              0.8888888888888888,
              "#fdca26"
             ],
             [
              1,
              "#f0f921"
             ]
            ],
            "type": "contour"
           }
          ],
          "contourcarpet": [
           {
            "colorbar": {
             "outlinewidth": 0,
             "ticks": ""
            },
            "type": "contourcarpet"
           }
          ],
          "heatmap": [
           {
            "colorbar": {
             "outlinewidth": 0,
             "ticks": ""
            },
            "colorscale": [
             [
              0,
              "#0d0887"
             ],
             [
              0.1111111111111111,
              "#46039f"
             ],
             [
              0.2222222222222222,
              "#7201a8"
             ],
             [
              0.3333333333333333,
              "#9c179e"
             ],
             [
              0.4444444444444444,
              "#bd3786"
             ],
             [
              0.5555555555555556,
              "#d8576b"
             ],
             [
              0.6666666666666666,
              "#ed7953"
             ],
             [
              0.7777777777777778,
              "#fb9f3a"
             ],
             [
              0.8888888888888888,
              "#fdca26"
             ],
             [
              1,
              "#f0f921"
             ]
            ],
            "type": "heatmap"
           }
          ],
          "heatmapgl": [
           {
            "colorbar": {
             "outlinewidth": 0,
             "ticks": ""
            },
            "colorscale": [
             [
              0,
              "#0d0887"
             ],
             [
              0.1111111111111111,
              "#46039f"
             ],
             [
              0.2222222222222222,
              "#7201a8"
             ],
             [
              0.3333333333333333,
              "#9c179e"
             ],
             [
              0.4444444444444444,
              "#bd3786"
             ],
             [
              0.5555555555555556,
              "#d8576b"
             ],
             [
              0.6666666666666666,
              "#ed7953"
             ],
             [
              0.7777777777777778,
              "#fb9f3a"
             ],
             [
              0.8888888888888888,
              "#fdca26"
             ],
             [
              1,
              "#f0f921"
             ]
            ],
            "type": "heatmapgl"
           }
          ],
          "histogram": [
           {
            "marker": {
             "pattern": {
              "fillmode": "overlay",
              "size": 10,
              "solidity": 0.2
             }
            },
            "type": "histogram"
           }
          ],
          "histogram2d": [
           {
            "colorbar": {
             "outlinewidth": 0,
             "ticks": ""
            },
            "colorscale": [
             [
              0,
              "#0d0887"
             ],
             [
              0.1111111111111111,
              "#46039f"
             ],
             [
              0.2222222222222222,
              "#7201a8"
             ],
             [
              0.3333333333333333,
              "#9c179e"
             ],
             [
              0.4444444444444444,
              "#bd3786"
             ],
             [
              0.5555555555555556,
              "#d8576b"
             ],
             [
              0.6666666666666666,
              "#ed7953"
             ],
             [
              0.7777777777777778,
              "#fb9f3a"
             ],
             [
              0.8888888888888888,
              "#fdca26"
             ],
             [
              1,
              "#f0f921"
             ]
            ],
            "type": "histogram2d"
           }
          ],
          "histogram2dcontour": [
           {
            "colorbar": {
             "outlinewidth": 0,
             "ticks": ""
            },
            "colorscale": [
             [
              0,
              "#0d0887"
             ],
             [
              0.1111111111111111,
              "#46039f"
             ],
             [
              0.2222222222222222,
              "#7201a8"
             ],
             [
              0.3333333333333333,
              "#9c179e"
             ],
             [
              0.4444444444444444,
              "#bd3786"
             ],
             [
              0.5555555555555556,
              "#d8576b"
             ],
             [
              0.6666666666666666,
              "#ed7953"
             ],
             [
              0.7777777777777778,
              "#fb9f3a"
             ],
             [
              0.8888888888888888,
              "#fdca26"
             ],
             [
              1,
              "#f0f921"
             ]
            ],
            "type": "histogram2dcontour"
           }
          ],
          "mesh3d": [
           {
            "colorbar": {
             "outlinewidth": 0,
             "ticks": ""
            },
            "type": "mesh3d"
           }
          ],
          "parcoords": [
           {
            "line": {
             "colorbar": {
              "outlinewidth": 0,
              "ticks": ""
             }
            },
            "type": "parcoords"
           }
          ],
          "pie": [
           {
            "automargin": true,
            "type": "pie"
           }
          ],
          "scatter": [
           {
            "fillpattern": {
             "fillmode": "overlay",
             "size": 10,
             "solidity": 0.2
            },
            "type": "scatter"
           }
          ],
          "scatter3d": [
           {
            "line": {
             "colorbar": {
              "outlinewidth": 0,
              "ticks": ""
             }
            },
            "marker": {
             "colorbar": {
              "outlinewidth": 0,
              "ticks": ""
             }
            },
            "type": "scatter3d"
           }
          ],
          "scattercarpet": [
           {
            "marker": {
             "colorbar": {
              "outlinewidth": 0,
              "ticks": ""
             }
            },
            "type": "scattercarpet"
           }
          ],
          "scattergeo": [
           {
            "marker": {
             "colorbar": {
              "outlinewidth": 0,
              "ticks": ""
             }
            },
            "type": "scattergeo"
           }
          ],
          "scattergl": [
           {
            "marker": {
             "colorbar": {
              "outlinewidth": 0,
              "ticks": ""
             }
            },
            "type": "scattergl"
           }
          ],
          "scattermapbox": [
           {
            "marker": {
             "colorbar": {
              "outlinewidth": 0,
              "ticks": ""
             }
            },
            "type": "scattermapbox"
           }
          ],
          "scatterpolar": [
           {
            "marker": {
             "colorbar": {
              "outlinewidth": 0,
              "ticks": ""
             }
            },
            "type": "scatterpolar"
           }
          ],
          "scatterpolargl": [
           {
            "marker": {
             "colorbar": {
              "outlinewidth": 0,
              "ticks": ""
             }
            },
            "type": "scatterpolargl"
           }
          ],
          "scatterternary": [
           {
            "marker": {
             "colorbar": {
              "outlinewidth": 0,
              "ticks": ""
             }
            },
            "type": "scatterternary"
           }
          ],
          "surface": [
           {
            "colorbar": {
             "outlinewidth": 0,
             "ticks": ""
            },
            "colorscale": [
             [
              0,
              "#0d0887"
             ],
             [
              0.1111111111111111,
              "#46039f"
             ],
             [
              0.2222222222222222,
              "#7201a8"
             ],
             [
              0.3333333333333333,
              "#9c179e"
             ],
             [
              0.4444444444444444,
              "#bd3786"
             ],
             [
              0.5555555555555556,
              "#d8576b"
             ],
             [
              0.6666666666666666,
              "#ed7953"
             ],
             [
              0.7777777777777778,
              "#fb9f3a"
             ],
             [
              0.8888888888888888,
              "#fdca26"
             ],
             [
              1,
              "#f0f921"
             ]
            ],
            "type": "surface"
           }
          ],
          "table": [
           {
            "cells": {
             "fill": {
              "color": "#EBF0F8"
             },
             "line": {
              "color": "white"
             }
            },
            "header": {
             "fill": {
              "color": "#C8D4E3"
             },
             "line": {
              "color": "white"
             }
            },
            "type": "table"
           }
          ]
         },
         "layout": {
          "annotationdefaults": {
           "arrowcolor": "#2a3f5f",
           "arrowhead": 0,
           "arrowwidth": 1
          },
          "autotypenumbers": "strict",
          "coloraxis": {
           "colorbar": {
            "outlinewidth": 0,
            "ticks": ""
           }
          },
          "colorscale": {
           "diverging": [
            [
             0,
             "#8e0152"
            ],
            [
             0.1,
             "#c51b7d"
            ],
            [
             0.2,
             "#de77ae"
            ],
            [
             0.3,
             "#f1b6da"
            ],
            [
             0.4,
             "#fde0ef"
            ],
            [
             0.5,
             "#f7f7f7"
            ],
            [
             0.6,
             "#e6f5d0"
            ],
            [
             0.7,
             "#b8e186"
            ],
            [
             0.8,
             "#7fbc41"
            ],
            [
             0.9,
             "#4d9221"
            ],
            [
             1,
             "#276419"
            ]
           ],
           "sequential": [
            [
             0,
             "#0d0887"
            ],
            [
             0.1111111111111111,
             "#46039f"
            ],
            [
             0.2222222222222222,
             "#7201a8"
            ],
            [
             0.3333333333333333,
             "#9c179e"
            ],
            [
             0.4444444444444444,
             "#bd3786"
            ],
            [
             0.5555555555555556,
             "#d8576b"
            ],
            [
             0.6666666666666666,
             "#ed7953"
            ],
            [
             0.7777777777777778,
             "#fb9f3a"
            ],
            [
             0.8888888888888888,
             "#fdca26"
            ],
            [
             1,
             "#f0f921"
            ]
           ],
           "sequentialminus": [
            [
             0,
             "#0d0887"
            ],
            [
             0.1111111111111111,
             "#46039f"
            ],
            [
             0.2222222222222222,
             "#7201a8"
            ],
            [
             0.3333333333333333,
             "#9c179e"
            ],
            [
             0.4444444444444444,
             "#bd3786"
            ],
            [
             0.5555555555555556,
             "#d8576b"
            ],
            [
             0.6666666666666666,
             "#ed7953"
            ],
            [
             0.7777777777777778,
             "#fb9f3a"
            ],
            [
             0.8888888888888888,
             "#fdca26"
            ],
            [
             1,
             "#f0f921"
            ]
           ]
          },
          "colorway": [
           "#636efa",
           "#EF553B",
           "#00cc96",
           "#ab63fa",
           "#FFA15A",
           "#19d3f3",
           "#FF6692",
           "#B6E880",
           "#FF97FF",
           "#FECB52"
          ],
          "font": {
           "color": "#2a3f5f"
          },
          "geo": {
           "bgcolor": "white",
           "lakecolor": "white",
           "landcolor": "#E5ECF6",
           "showlakes": true,
           "showland": true,
           "subunitcolor": "white"
          },
          "hoverlabel": {
           "align": "left"
          },
          "hovermode": "closest",
          "mapbox": {
           "style": "light"
          },
          "paper_bgcolor": "white",
          "plot_bgcolor": "#E5ECF6",
          "polar": {
           "angularaxis": {
            "gridcolor": "white",
            "linecolor": "white",
            "ticks": ""
           },
           "bgcolor": "#E5ECF6",
           "radialaxis": {
            "gridcolor": "white",
            "linecolor": "white",
            "ticks": ""
           }
          },
          "scene": {
           "xaxis": {
            "backgroundcolor": "#E5ECF6",
            "gridcolor": "white",
            "gridwidth": 2,
            "linecolor": "white",
            "showbackground": true,
            "ticks": "",
            "zerolinecolor": "white"
           },
           "yaxis": {
            "backgroundcolor": "#E5ECF6",
            "gridcolor": "white",
            "gridwidth": 2,
            "linecolor": "white",
            "showbackground": true,
            "ticks": "",
            "zerolinecolor": "white"
           },
           "zaxis": {
            "backgroundcolor": "#E5ECF6",
            "gridcolor": "white",
            "gridwidth": 2,
            "linecolor": "white",
            "showbackground": true,
            "ticks": "",
            "zerolinecolor": "white"
           }
          },
          "shapedefaults": {
           "line": {
            "color": "#2a3f5f"
           }
          },
          "ternary": {
           "aaxis": {
            "gridcolor": "white",
            "linecolor": "white",
            "ticks": ""
           },
           "baxis": {
            "gridcolor": "white",
            "linecolor": "white",
            "ticks": ""
           },
           "bgcolor": "#E5ECF6",
           "caxis": {
            "gridcolor": "white",
            "linecolor": "white",
            "ticks": ""
           }
          },
          "title": {
           "x": 0.05
          },
          "xaxis": {
           "automargin": true,
           "gridcolor": "white",
           "linecolor": "white",
           "ticks": "",
           "title": {
            "standoff": 15
           },
           "zerolinecolor": "white",
           "zerolinewidth": 2
          },
          "yaxis": {
           "automargin": true,
           "gridcolor": "white",
           "linecolor": "white",
           "ticks": "",
           "title": {
            "standoff": 15
           },
           "zerolinecolor": "white",
           "zerolinewidth": 2
          }
         }
        },
        "title": {
         "text": "Energy Consumption over time by Country"
        },
        "updatemenus": [
         {
          "buttons": [
           {
            "args": [
             null,
             {
              "frame": {
               "duration": 500,
               "redraw": true
              },
              "fromcurrent": true,
              "mode": "immediate",
              "transition": {
               "duration": 500,
               "easing": "linear"
              }
             }
            ],
            "label": "&#9654;",
            "method": "animate"
           },
           {
            "args": [
             [
              null
             ],
             {
              "frame": {
               "duration": 0,
               "redraw": true
              },
              "fromcurrent": true,
              "mode": "immediate",
              "transition": {
               "duration": 0,
               "easing": "linear"
              }
             }
            ],
            "label": "&#9724;",
            "method": "animate"
           }
          ],
          "direction": "left",
          "pad": {
           "r": 10,
           "t": 70
          },
          "showactive": false,
          "type": "buttons",
          "x": 0.1,
          "xanchor": "right",
          "y": 0,
          "yanchor": "top"
         }
        ]
       }
      }
     },
     "metadata": {},
     "output_type": "display_data"
    }
   ],
   "source": [
    "import plotly.express as px\n",
    "\n",
    "# Convert 'year' to string for the animation\n",
    "df_merged['year'] = df_merged['year'].astype(str)\n",
    "\n",
    "# Create basic choropleth map\n",
    "fig = px.choropleth(df_merged, locations='iso_alpha', color='Country', hover_name='energy_consumption',\n",
    "                    projection='natural earth', animation_frame='year',\n",
    "                    title='Energy Consumption over time by Country') \n",
    "fig.show()"
   ]
  }
 ],
 "metadata": {
  "kernelspec": {
   "display_name": "butterfly",
   "language": "python",
   "name": "python3"
  },
  "language_info": {
   "codemirror_mode": {
    "name": "ipython",
    "version": 3
   },
   "file_extension": ".py",
   "mimetype": "text/x-python",
   "name": "python",
   "nbconvert_exporter": "python",
   "pygments_lexer": "ipython3",
   "version": "3.11.5"
  }
 },
 "nbformat": 4,
 "nbformat_minor": 2
}
